{
 "cells": [
  {
   "cell_type": "markdown",
   "metadata": {
    "scrolled": true
   },
   "source": [
    "## Guided project under course Using Sqlite and Pandas on Large Data\n",
    "\n",
    "- Analyzing Startup Fundraising Deals from Crunchbase \n",
    "- dataquest.com Course Mission 167"
   ]
  },
  {
   "cell_type": "code",
   "execution_count": null,
   "metadata": {},
   "outputs": [],
   "source": [
    "import pandas as pd"
   ]
  },
  {
   "cell_type": "code",
   "execution_count": 5,
   "metadata": {},
   "outputs": [
    {
     "name": "stdout",
     "output_type": "stream",
     "text": [
      "5850258\n",
      "5796772\n",
      "5803921\n",
      "5796739\n",
      "5792696\n",
      "5823207\n",
      "5800132\n",
      "5777296\n",
      "5658251\n",
      "4864866\n",
      "2793107\n"
     ]
    }
   ],
   "source": [
    "fundraising_iter = pd.read_csv('crunchbase-investments.csv',chunksize=5000,encoding='latin-1')\n",
    "\n",
    "total_mem_fp = 0\n",
    "missing_dicts = {}\n",
    "for chunk in fundraising_iter:\n",
    "    #print(chunk.columns)\n",
    "    #missing value counts of each column\n",
    "    #print(chunk.isnull().sum().to_dict())\n",
    "    missing_dicts.update(chunk.isnull().sum().to_dict())\n",
    "    #mem footprint\n",
    "    print(chunk.memory_usage(deep=True).sum())\n",
    "    total_mem_fp += chunk.memory_usage(deep=True).sum()\n",
    "    # each chunk consumes about 6mb in memory\n",
    "    "
   ]
  },
  {
   "cell_type": "code",
   "execution_count": 6,
   "metadata": {},
   "outputs": [
    {
     "data": {
      "text/plain": [
       "dict_keys(['company_permalink', 'company_name', 'company_category_code', 'company_country_code', 'company_state_code', 'company_region', 'company_city', 'investor_permalink', 'investor_name', 'investor_category_code', 'investor_country_code', 'investor_state_code', 'investor_region', 'investor_city', 'funding_round_type', 'funded_at', 'funded_month', 'funded_quarter', 'funded_year', 'raised_amount_usd'])"
      ]
     },
     "execution_count": 6,
     "metadata": {},
     "output_type": "execute_result"
    }
   ],
   "source": [
    "missing_dicts.keys()"
   ]
  },
  {
   "cell_type": "code",
   "execution_count": 7,
   "metadata": {},
   "outputs": [
    {
     "data": {
      "text/plain": [
       "['company_permalink',\n",
       " 'company_name',\n",
       " 'company_country_code',\n",
       " 'company_region',\n",
       " 'investor_permalink',\n",
       " 'investor_name',\n",
       " 'investor_region',\n",
       " 'funding_round_type',\n",
       " 'funded_at',\n",
       " 'funded_month',\n",
       " 'funded_quarter',\n",
       " 'funded_year']"
      ]
     },
     "execution_count": 7,
     "metadata": {},
     "output_type": "execute_result"
    }
   ],
   "source": [
    "no_missing_cols =[k for k,v in missing_dicts.items() if v == 0]\n",
    "no_missing_cols"
   ]
  },
  {
   "cell_type": "code",
   "execution_count": 8,
   "metadata": {},
   "outputs": [
    {
     "data": {
      "text/plain": [
       "59757245"
      ]
     },
     "execution_count": 8,
     "metadata": {},
     "output_type": "execute_result"
    }
   ],
   "source": [
    "total_mem_fp"
   ]
  },
  {
   "cell_type": "code",
   "execution_count": 9,
   "metadata": {},
   "outputs": [
    {
     "data": {
      "text/html": [
       "<div>\n",
       "<style scoped>\n",
       "    .dataframe tbody tr th:only-of-type {\n",
       "        vertical-align: middle;\n",
       "    }\n",
       "\n",
       "    .dataframe tbody tr th {\n",
       "        vertical-align: top;\n",
       "    }\n",
       "\n",
       "    .dataframe thead th {\n",
       "        text-align: right;\n",
       "    }\n",
       "</style>\n",
       "<table border=\"1\" class=\"dataframe\">\n",
       "  <thead>\n",
       "    <tr style=\"text-align: right;\">\n",
       "      <th></th>\n",
       "      <th>investor_category_code</th>\n",
       "      <th>investor_country_code</th>\n",
       "      <th>investor_state_code</th>\n",
       "      <th>investor_city</th>\n",
       "      <th>funded_year</th>\n",
       "      <th>raised_amount_usd</th>\n",
       "    </tr>\n",
       "  </thead>\n",
       "  <tbody>\n",
       "    <tr>\n",
       "      <th>count</th>\n",
       "      <td>0.0</td>\n",
       "      <td>0.0</td>\n",
       "      <td>0.0</td>\n",
       "      <td>0.0</td>\n",
       "      <td>2870.000000</td>\n",
       "      <td>2.580000e+03</td>\n",
       "    </tr>\n",
       "    <tr>\n",
       "      <th>mean</th>\n",
       "      <td>NaN</td>\n",
       "      <td>NaN</td>\n",
       "      <td>NaN</td>\n",
       "      <td>NaN</td>\n",
       "      <td>2010.478746</td>\n",
       "      <td>3.799586e+06</td>\n",
       "    </tr>\n",
       "    <tr>\n",
       "      <th>std</th>\n",
       "      <td>NaN</td>\n",
       "      <td>NaN</td>\n",
       "      <td>NaN</td>\n",
       "      <td>NaN</td>\n",
       "      <td>2.278470</td>\n",
       "      <td>1.022031e+07</td>\n",
       "    </tr>\n",
       "    <tr>\n",
       "      <th>min</th>\n",
       "      <td>NaN</td>\n",
       "      <td>NaN</td>\n",
       "      <td>NaN</td>\n",
       "      <td>NaN</td>\n",
       "      <td>1998.000000</td>\n",
       "      <td>3.000000e+03</td>\n",
       "    </tr>\n",
       "    <tr>\n",
       "      <th>25%</th>\n",
       "      <td>NaN</td>\n",
       "      <td>NaN</td>\n",
       "      <td>NaN</td>\n",
       "      <td>NaN</td>\n",
       "      <td>2009.000000</td>\n",
       "      <td>7.500000e+05</td>\n",
       "    </tr>\n",
       "    <tr>\n",
       "      <th>50%</th>\n",
       "      <td>NaN</td>\n",
       "      <td>NaN</td>\n",
       "      <td>NaN</td>\n",
       "      <td>NaN</td>\n",
       "      <td>2011.000000</td>\n",
       "      <td>1.375000e+06</td>\n",
       "    </tr>\n",
       "    <tr>\n",
       "      <th>75%</th>\n",
       "      <td>NaN</td>\n",
       "      <td>NaN</td>\n",
       "      <td>NaN</td>\n",
       "      <td>NaN</td>\n",
       "      <td>2012.000000</td>\n",
       "      <td>3.000000e+06</td>\n",
       "    </tr>\n",
       "    <tr>\n",
       "      <th>max</th>\n",
       "      <td>NaN</td>\n",
       "      <td>NaN</td>\n",
       "      <td>NaN</td>\n",
       "      <td>NaN</td>\n",
       "      <td>2013.000000</td>\n",
       "      <td>2.750000e+08</td>\n",
       "    </tr>\n",
       "  </tbody>\n",
       "</table>\n",
       "</div>"
      ],
      "text/plain": [
       "       investor_category_code  investor_country_code  investor_state_code  \\\n",
       "count                     0.0                    0.0                  0.0   \n",
       "mean                      NaN                    NaN                  NaN   \n",
       "std                       NaN                    NaN                  NaN   \n",
       "min                       NaN                    NaN                  NaN   \n",
       "25%                       NaN                    NaN                  NaN   \n",
       "50%                       NaN                    NaN                  NaN   \n",
       "75%                       NaN                    NaN                  NaN   \n",
       "max                       NaN                    NaN                  NaN   \n",
       "\n",
       "       investor_city  funded_year  raised_amount_usd  \n",
       "count            0.0  2870.000000       2.580000e+03  \n",
       "mean             NaN  2010.478746       3.799586e+06  \n",
       "std              NaN     2.278470       1.022031e+07  \n",
       "min              NaN  1998.000000       3.000000e+03  \n",
       "25%              NaN  2009.000000       7.500000e+05  \n",
       "50%              NaN  2011.000000       1.375000e+06  \n",
       "75%              NaN  2012.000000       3.000000e+06  \n",
       "max              NaN  2013.000000       2.750000e+08  "
      ]
     },
     "execution_count": 9,
     "metadata": {},
     "output_type": "execute_result"
    }
   ],
   "source": [
    "#which columns to drop?\n",
    "chunk.describe()"
   ]
  },
  {
   "cell_type": "code",
   "execution_count": 11,
   "metadata": {},
   "outputs": [],
   "source": [
    "test_df = pd.read_csv('crunchbase-investments.csv',nrows=10,encoding='latin-1')"
   ]
  },
  {
   "cell_type": "code",
   "execution_count": 12,
   "metadata": {},
   "outputs": [
    {
     "data": {
      "text/plain": [
       "company_permalink         0\n",
       "company_name              0\n",
       "company_category_code     0\n",
       "company_country_code      0\n",
       "company_state_code        1\n",
       "company_region            0\n",
       "company_city              1\n",
       "investor_permalink        0\n",
       "investor_name             0\n",
       "investor_category_code    3\n",
       "investor_country_code     2\n",
       "investor_state_code       2\n",
       "investor_region           0\n",
       "investor_city             2\n",
       "funding_round_type        0\n",
       "funded_at                 0\n",
       "funded_month              0\n",
       "funded_quarter            0\n",
       "funded_year               0\n",
       "raised_amount_usd         0\n",
       "dtype: int64"
      ]
     },
     "execution_count": 12,
     "metadata": {},
     "output_type": "execute_result"
    }
   ],
   "source": [
    "test_df.isnull().sum()"
   ]
  },
  {
   "cell_type": "code",
   "execution_count": 13,
   "metadata": {},
   "outputs": [
    {
     "data": {
      "text/plain": [
       "finance    7\n",
       "Name: investor_category_code, dtype: int64"
      ]
     },
     "execution_count": 13,
     "metadata": {},
     "output_type": "execute_result"
    }
   ],
   "source": [
    "test_df['investor_category_code'].value_counts() #only 1 value -- finance"
   ]
  },
  {
   "cell_type": "code",
   "execution_count": 14,
   "metadata": {},
   "outputs": [
    {
     "data": {
      "text/plain": [
       "USA    8\n",
       "Name: investor_country_code, dtype: int64"
      ]
     },
     "execution_count": 14,
     "metadata": {},
     "output_type": "execute_result"
    }
   ],
   "source": [
    "test_df['investor_country_code'].value_counts()"
   ]
  },
  {
   "cell_type": "code",
   "execution_count": 15,
   "metadata": {},
   "outputs": [
    {
     "name": "stdout",
     "output_type": "stream",
     "text": [
      "company_country_code\n",
      "investor_category_code\n",
      "investor_country_code\n"
     ]
    }
   ],
   "source": [
    "##based on test_df, these 3 columns should be dropped\n",
    "for col in test_df.columns:\n",
    "    if test_df[col].nunique() == 1:\n",
    "        print(col)"
   ]
  },
  {
   "cell_type": "code",
   "execution_count": 47,
   "metadata": {},
   "outputs": [],
   "source": [
    "drop_cols = ['company_country_code',\n",
    "'investor_category_code','investor_country_code']"
   ]
  },
  {
   "cell_type": "code",
   "execution_count": 49,
   "metadata": {},
   "outputs": [],
   "source": [
    "keep_cols = test_df.columns.drop(drop_cols)"
   ]
  },
  {
   "cell_type": "code",
   "execution_count": 50,
   "metadata": {},
   "outputs": [
    {
     "data": {
      "text/plain": [
       "Index(['company_permalink', 'company_name', 'company_category_code',\n",
       "       'company_state_code', 'company_region', 'company_city',\n",
       "       'investor_permalink', 'investor_name', 'investor_state_code',\n",
       "       'investor_region', 'investor_city', 'funding_round_type', 'funded_at',\n",
       "       'funded_month', 'funded_quarter', 'funded_year', 'raised_amount_usd'],\n",
       "      dtype='object')"
      ]
     },
     "execution_count": 50,
     "metadata": {},
     "output_type": "execute_result"
    }
   ],
   "source": [
    "keep_cols"
   ]
  },
  {
   "cell_type": "code",
   "execution_count": 16,
   "metadata": {},
   "outputs": [
    {
     "name": "stdout",
     "output_type": "stream",
     "text": [
      "<class 'pandas.core.frame.DataFrame'>\n",
      "RangeIndex: 10 entries, 0 to 9\n",
      "Data columns (total 20 columns):\n",
      " #   Column                  Non-Null Count  Dtype \n",
      "---  ------                  --------------  ----- \n",
      " 0   company_permalink       10 non-null     object\n",
      " 1   company_name            10 non-null     object\n",
      " 2   company_category_code   10 non-null     object\n",
      " 3   company_country_code    10 non-null     object\n",
      " 4   company_state_code      9 non-null      object\n",
      " 5   company_region          10 non-null     object\n",
      " 6   company_city            9 non-null      object\n",
      " 7   investor_permalink      10 non-null     object\n",
      " 8   investor_name           10 non-null     object\n",
      " 9   investor_category_code  7 non-null      object\n",
      " 10  investor_country_code   8 non-null      object\n",
      " 11  investor_state_code     8 non-null      object\n",
      " 12  investor_region         10 non-null     object\n",
      " 13  investor_city           8 non-null      object\n",
      " 14  funding_round_type      10 non-null     object\n",
      " 15  funded_at               10 non-null     object\n",
      " 16  funded_month            10 non-null     object\n",
      " 17  funded_quarter          10 non-null     object\n",
      " 18  funded_year             10 non-null     int64 \n",
      " 19  raised_amount_usd       10 non-null     int64 \n",
      "dtypes: int64(2), object(18)\n",
      "memory usage: 1.7+ KB\n"
     ]
    }
   ],
   "source": [
    "#check column dtypes\n",
    "test_df.info()"
   ]
  },
  {
   "cell_type": "code",
   "execution_count": 54,
   "metadata": {},
   "outputs": [
    {
     "data": {
      "text/html": [
       "<div>\n",
       "<style scoped>\n",
       "    .dataframe tbody tr th:only-of-type {\n",
       "        vertical-align: middle;\n",
       "    }\n",
       "\n",
       "    .dataframe tbody tr th {\n",
       "        vertical-align: top;\n",
       "    }\n",
       "\n",
       "    .dataframe thead th {\n",
       "        text-align: right;\n",
       "    }\n",
       "</style>\n",
       "<table border=\"1\" class=\"dataframe\">\n",
       "  <thead>\n",
       "    <tr style=\"text-align: right;\">\n",
       "      <th></th>\n",
       "      <th>raised_amount_usd</th>\n",
       "    </tr>\n",
       "  </thead>\n",
       "  <tbody>\n",
       "    <tr>\n",
       "      <th>0</th>\n",
       "      <td>2000000</td>\n",
       "    </tr>\n",
       "    <tr>\n",
       "      <th>1</th>\n",
       "      <td>20000</td>\n",
       "    </tr>\n",
       "    <tr>\n",
       "      <th>2</th>\n",
       "      <td>20000</td>\n",
       "    </tr>\n",
       "    <tr>\n",
       "      <th>3</th>\n",
       "      <td>20000</td>\n",
       "    </tr>\n",
       "    <tr>\n",
       "      <th>4</th>\n",
       "      <td>20000</td>\n",
       "    </tr>\n",
       "    <tr>\n",
       "      <th>5</th>\n",
       "      <td>20000</td>\n",
       "    </tr>\n",
       "    <tr>\n",
       "      <th>6</th>\n",
       "      <td>20000</td>\n",
       "    </tr>\n",
       "    <tr>\n",
       "      <th>7</th>\n",
       "      <td>70000</td>\n",
       "    </tr>\n",
       "    <tr>\n",
       "      <th>8</th>\n",
       "      <td>75000</td>\n",
       "    </tr>\n",
       "    <tr>\n",
       "      <th>9</th>\n",
       "      <td>100000</td>\n",
       "    </tr>\n",
       "  </tbody>\n",
       "</table>\n",
       "</div>"
      ],
      "text/plain": [
       "   raised_amount_usd\n",
       "0            2000000\n",
       "1              20000\n",
       "2              20000\n",
       "3              20000\n",
       "4              20000\n",
       "5              20000\n",
       "6              20000\n",
       "7              70000\n",
       "8              75000\n",
       "9             100000"
      ]
     },
     "execution_count": 54,
     "metadata": {},
     "output_type": "execute_result"
    }
   ],
   "source": [
    "#Identify the numeric columns we can represent using more space efficient types.\n",
    "\n",
    "test_df.select_dtypes(include=['float','integer'])"
   ]
  },
  {
   "cell_type": "code",
   "execution_count": 56,
   "metadata": {},
   "outputs": [],
   "source": [
    "int_cols = test_df.select_dtypes(include=['float','integer']).columns"
   ]
  },
  {
   "cell_type": "code",
   "execution_count": 57,
   "metadata": {},
   "outputs": [
    {
     "data": {
      "text/plain": [
       "Index(['raised_amount_usd'], dtype='object')"
      ]
     },
     "execution_count": 57,
     "metadata": {},
     "output_type": "execute_result"
    }
   ],
   "source": [
    "int_cols"
   ]
  },
  {
   "cell_type": "code",
   "execution_count": 19,
   "metadata": {},
   "outputs": [],
   "source": [
    "# downcast from int64 to int16\n",
    "#test_df['funded_year'] = pd.to_numeric(test_df['funded_year'],downcast='integer')"
   ]
  },
  {
   "cell_type": "code",
   "execution_count": 20,
   "metadata": {},
   "outputs": [],
   "source": [
    "# downcast from int64 to int32 possible, maybe not across all chunks\n",
    "test_df['raised_amount_usd'] = pd.to_numeric(test_df['raised_amount_usd'],downcast='integer')"
   ]
  },
  {
   "cell_type": "code",
   "execution_count": 21,
   "metadata": {},
   "outputs": [
    {
     "data": {
      "text/plain": [
       "0    2000000\n",
       "1      20000\n",
       "2      20000\n",
       "3      20000\n",
       "4      20000\n",
       "5      20000\n",
       "6      20000\n",
       "7      70000\n",
       "8      75000\n",
       "9     100000\n",
       "Name: raised_amount_usd, dtype: int32"
      ]
     },
     "execution_count": 21,
     "metadata": {},
     "output_type": "execute_result"
    }
   ],
   "source": [
    "test_df['raised_amount_usd']"
   ]
  },
  {
   "cell_type": "code",
   "execution_count": 22,
   "metadata": {},
   "outputs": [
    {
     "data": {
      "text/plain": [
       "Index(['company_permalink', 'company_name', 'company_category_code',\n",
       "       'company_country_code', 'company_state_code', 'company_region',\n",
       "       'company_city', 'investor_permalink', 'investor_name',\n",
       "       'investor_category_code', 'investor_country_code',\n",
       "       'investor_state_code', 'investor_region', 'investor_city',\n",
       "       'funding_round_type', 'funded_at', 'funded_month', 'funded_quarter'],\n",
       "      dtype='object')"
      ]
     },
     "execution_count": 22,
     "metadata": {},
     "output_type": "execute_result"
    }
   ],
   "source": [
    "text_cols = test_df.select_dtypes(include=['object']).columns\n",
    "text_cols"
   ]
  },
  {
   "cell_type": "code",
   "execution_count": 23,
   "metadata": {},
   "outputs": [],
   "source": [
    "# For text columns:\n",
    "# Analyze the unique value counts across all of the chunks to see if we can convert them to a numeric type.\n",
    "\n",
    "nuniques_dict = test_df.nunique().to_dict()\n",
    "#turn some into category dtype\n",
    "for k,v in nuniques_dict.items():\n",
    "    if v/len(test_df[k]) < 0.5:\n",
    "        test_df[k] = test_df[k].astype('category')\n",
    "\n"
   ]
  },
  {
   "cell_type": "code",
   "execution_count": 24,
   "metadata": {},
   "outputs": [],
   "source": [
    "#11 objects columns turned into space-efficient dtype 'category'\n",
    "cat_columns = test_df.select_dtypes(include=['category']).columns"
   ]
  },
  {
   "cell_type": "code",
   "execution_count": 25,
   "metadata": {},
   "outputs": [],
   "source": [
    "# for col in text_cols:\n",
    "#     print(test_df[col].value_counts())"
   ]
  },
  {
   "cell_type": "code",
   "execution_count": 26,
   "metadata": {},
   "outputs": [
    {
     "data": {
      "text/plain": [
       "['company_permalink',\n",
       " 'company_name',\n",
       " 'company_country_code',\n",
       " 'company_region',\n",
       " 'investor_permalink',\n",
       " 'investor_name',\n",
       " 'investor_region',\n",
       " 'funding_round_type',\n",
       " 'funded_at',\n",
       " 'funded_month',\n",
       " 'funded_quarter',\n",
       " 'funded_year']"
      ]
     },
     "execution_count": 26,
     "metadata": {},
     "output_type": "execute_result"
    }
   ],
   "source": [
    "no_missing_cols"
   ]
  },
  {
   "cell_type": "code",
   "execution_count": 27,
   "metadata": {},
   "outputs": [
    {
     "data": {
      "text/plain": [
       "{'company_country_code': 'category',\n",
       " 'investor_permalink': 'category',\n",
       " 'investor_name': 'category',\n",
       " 'investor_region': 'category',\n",
       " 'funding_round_type': 'category',\n",
       " 'funded_year': 'category'}"
      ]
     },
     "execution_count": 27,
     "metadata": {},
     "output_type": "execute_result"
    }
   ],
   "source": [
    "dtype_dict = {t:'category' for t in cat_columns if t in no_missing_cols}\n",
    "\n",
    "dtype_dict"
   ]
  },
  {
   "cell_type": "code",
   "execution_count": 28,
   "metadata": {},
   "outputs": [],
   "source": [
    "# Make changes to the code from loading csv so that the overall memory the data consumes stays under 10 megabytes.\n"
   ]
  },
  {
   "cell_type": "code",
   "execution_count": 29,
   "metadata": {},
   "outputs": [
    {
     "data": {
      "text/plain": [
       "'funded_year'"
      ]
     },
     "execution_count": 29,
     "metadata": {},
     "output_type": "execute_result"
    }
   ],
   "source": [
    "test_df.columns[18] # col19 'raised_amount_usd' cannot be \"int32\" as it has NA\n",
    "# col18 'raised_year' cannot be \"int16\" as it has NA"
   ]
  },
  {
   "cell_type": "code",
   "execution_count": 58,
   "metadata": {},
   "outputs": [
    {
     "name": "stdout",
     "output_type": "stream",
     "text": [
      "3.773927688598633\n",
      "3.643202781677246\n",
      "3.647123336791992\n",
      "3.611940383911133\n",
      "3.6208715438842773\n",
      "3.6335649490356445\n",
      "3.646841049194336\n",
      "3.633734703063965\n",
      "3.658021926879883\n",
      "3.45751953125\n",
      "1.971994400024414\n"
     ]
    }
   ],
   "source": [
    "#use only keep_cols\n",
    "chunk_iter = pd.read_csv('crunchbase-investments.csv',encoding='latin-1',dtype=dtype_dict,chunksize=5000,usecols=keep_cols)\n",
    "\n",
    "for chunk in chunk_iter:\n",
    "    print(chunk.memory_usage(deep=True).sum()/(2**20)) \n",
    "#each chunk now consumes around 4.3 mb in memory-- can double up chunksize"
   ]
  },
  {
   "cell_type": "code",
   "execution_count": 61,
   "metadata": {},
   "outputs": [
    {
     "name": "stdout",
     "output_type": "stream",
     "text": [
      "9.607172966003418\n",
      "9.379837989807129\n",
      "9.41344165802002\n",
      "9.562762260437012\n",
      "0.6198701858520508\n"
     ]
    }
   ],
   "source": [
    "## best chunksize is 13000 --  so that the overall memory the data consumes stays under 10 megabytes.\n",
    "chunk_iter = pd.read_csv('crunchbase-investments.csv',encoding='latin-1',dtype=dtype_dict,chunksize=13000,usecols=keep_cols)\n",
    "\n",
    "for chunk in chunk_iter:\n",
    "    print(chunk.memory_usage(deep=True).sum()/(2**20)) "
   ]
  },
  {
   "cell_type": "code",
   "execution_count": 32,
   "metadata": {},
   "outputs": [],
   "source": [
    "#  next step is to load each chunk into a table in a SQLite database so we can query the full data set."
   ]
  },
  {
   "cell_type": "code",
   "execution_count": 63,
   "metadata": {},
   "outputs": [],
   "source": [
    "import sqlite3\n",
    "conn = sqlite3.connect('fundraising.db')"
   ]
  },
  {
   "cell_type": "code",
   "execution_count": null,
   "metadata": {
    "scrolled": true
   },
   "outputs": [],
   "source": [
    "chunk_iter = pd.read_csv('crunchbase-investments.csv',encoding='latin-1',dtype=dtype_dict,chunksize=13000)\n",
    "\n",
    "for chunk in chunk_iter:\n",
    "    #print(chunk.memory_usage(deep=True).sum()/(2**20)) \n",
    "    chunk.to_sql('fundraising',conn,if_exists='append',index=False)\n",
    "    \n",
    "q = 'PRAGMA table_info(fundraising)' # Query the table and make sure the data types match up to what you had in mind for each column.\n",
    "pd.read_sql(q,conn)"
   ]
  },
  {
   "cell_type": "code",
   "execution_count": null,
   "metadata": {},
   "outputs": [],
   "source": [
    "q = 'SELECT * FROM fundraising'\n",
    "sql_iter = pd.read_sql(q,conn,chunksize=500)"
   ]
  },
  {
   "cell_type": "code",
   "execution_count": null,
   "metadata": {},
   "outputs": [],
   "source": [
    "for chunk in sql_iter:\n",
    "    print(chunk.head(5))\n",
    "    break"
   ]
  },
  {
   "cell_type": "code",
   "execution_count": null,
   "metadata": {},
   "outputs": [],
   "source": [
    "next(sql_iter)"
   ]
  },
  {
   "cell_type": "code",
   "execution_count": null,
   "metadata": {},
   "outputs": [],
   "source": [
    "!wc -l 'fundraising.db' \n",
    "#no. of lines"
   ]
  },
  {
   "cell_type": "code",
   "execution_count": null,
   "metadata": {},
   "outputs": [],
   "source": [
    "#!wc --help\n",
    "!wc -c 'fundraising.db' \n",
    "# byte counts"
   ]
  },
  {
   "cell_type": "code",
   "execution_count": null,
   "metadata": {},
   "outputs": [],
   "source": [
    "10878976/(2**20) #  file size of the database is 10.4mb"
   ]
  },
  {
   "cell_type": "code",
   "execution_count": null,
   "metadata": {},
   "outputs": [],
   "source": []
  }
 ],
 "metadata": {
  "anaconda-cloud": {},
  "kernelspec": {
   "display_name": "Python 3",
   "language": "python",
   "name": "python3"
  },
  "language_info": {
   "codemirror_mode": {
    "name": "ipython",
    "version": 3
   },
   "file_extension": ".py",
   "mimetype": "text/x-python",
   "name": "python",
   "nbconvert_exporter": "python",
   "pygments_lexer": "ipython3",
   "version": "3.7.3"
  }
 },
 "nbformat": 4,
 "nbformat_minor": 2
}
