{
 "cells": [
  {
   "cell_type": "markdown",
   "metadata": {},
   "source": [
    "# Trump's tweets related to China VS Chinese Equities Sentiment"
   ]
  },
  {
   "cell_type": "markdown",
   "metadata": {},
   "source": [
    "#### based on past reactions towards Trump's tweet, can I predict whether Chinese equities will react favorably towards his latest tweet?"
   ]
  },
  {
   "cell_type": "markdown",
   "metadata": {},
   "source": [
    "### Attempt 1: two classes of sentiment -- \"positive\"/\"negative\""
   ]
  },
  {
   "cell_type": "code",
   "execution_count": 5,
   "metadata": {},
   "outputs": [],
   "source": [
    "import pandas as pd\n",
    "import numpy as np"
   ]
  },
  {
   "cell_type": "code",
   "execution_count": 6,
   "metadata": {},
   "outputs": [
    {
     "name": "stderr",
     "output_type": "stream",
     "text": [
      "C:\\Users\\gen80\\Anaconda3\\lib\\site-packages\\ipykernel_launcher.py:1: FutureWarning: The pandas.datetime class is deprecated and will be removed from pandas in a future version. Import from datetime module instead.\n",
      "  \"\"\"Entry point for launching an IPython kernel.\n"
     ]
    },
    {
     "data": {
      "text/html": [
       "<div>\n",
       "<style scoped>\n",
       "    .dataframe tbody tr th:only-of-type {\n",
       "        vertical-align: middle;\n",
       "    }\n",
       "\n",
       "    .dataframe tbody tr th {\n",
       "        vertical-align: top;\n",
       "    }\n",
       "\n",
       "    .dataframe thead th {\n",
       "        text-align: right;\n",
       "    }\n",
       "</style>\n",
       "<table border=\"1\" class=\"dataframe\">\n",
       "  <thead>\n",
       "    <tr style=\"text-align: right;\">\n",
       "      <th></th>\n",
       "      <th>text</th>\n",
       "      <th>created_at</th>\n",
       "    </tr>\n",
       "  </thead>\n",
       "  <tbody>\n",
       "    <tr>\n",
       "      <th>0</th>\n",
       "      <td>.@FoxNews  “Trump wins major victories in Chin...</td>\n",
       "      <td>2019-12-17 14:48:50</td>\n",
       "    </tr>\n",
       "    <tr>\n",
       "      <th>1</th>\n",
       "      <td>....energy independence manufacturing resilien...</td>\n",
       "      <td>2019-12-16 05:28:18</td>\n",
       "    </tr>\n",
       "    <tr>\n",
       "      <th>2</th>\n",
       "      <td>....energy independence manufacturing resilien...</td>\n",
       "      <td>2019-12-16 05:05:08</td>\n",
       "    </tr>\n",
       "    <tr>\n",
       "      <th>3</th>\n",
       "      <td>Chuck Schumer sat for years during the Obama A...</td>\n",
       "      <td>2019-12-14 19:09:26</td>\n",
       "    </tr>\n",
       "    <tr>\n",
       "      <th>4</th>\n",
       "      <td>We have agreed to a very large Phase One Deal ...</td>\n",
       "      <td>2019-12-13 15:25:47</td>\n",
       "    </tr>\n",
       "  </tbody>\n",
       "</table>\n",
       "</div>"
      ],
      "text/plain": [
       "                                                text          created_at\n",
       "0  .@FoxNews  “Trump wins major victories in Chin... 2019-12-17 14:48:50\n",
       "1  ....energy independence manufacturing resilien... 2019-12-16 05:28:18\n",
       "2  ....energy independence manufacturing resilien... 2019-12-16 05:05:08\n",
       "3  Chuck Schumer sat for years during the Obama A... 2019-12-14 19:09:26\n",
       "4  We have agreed to a very large Phase One Deal ... 2019-12-13 15:25:47"
      ]
     },
     "execution_count": 6,
     "metadata": {},
     "output_type": "execute_result"
    }
   ],
   "source": [
    "dateparse = lambda x: pd.datetime.strptime(x, '%m-%d-%Y %H:%M:%S')\n",
    "    \n",
    "\n",
    "trump_df = pd.read_csv(r\"D:\\Documents\\Docs_oldnew\\trump_tweet_api\\Trump_tweets_China_since2016.txt\", parse_dates=['created_at'], date_parser=dateparse)\n",
    "trump_df.head()"
   ]
  },
  {
   "cell_type": "code",
   "execution_count": 7,
   "metadata": {},
   "outputs": [
    {
     "name": "stdout",
     "output_type": "stream",
     "text": [
      "<class 'pandas.core.frame.DataFrame'>\n",
      "RangeIndex: 365 entries, 0 to 364\n",
      "Data columns (total 2 columns):\n",
      " #   Column      Non-Null Count  Dtype         \n",
      "---  ------      --------------  -----         \n",
      " 0   text        365 non-null    object        \n",
      " 1   created_at  365 non-null    datetime64[ns]\n",
      "dtypes: datetime64[ns](1), object(1)\n",
      "memory usage: 5.8+ KB\n"
     ]
    }
   ],
   "source": [
    "trump_df.info()"
   ]
  },
  {
   "cell_type": "code",
   "execution_count": 8,
   "metadata": {},
   "outputs": [
    {
     "data": {
      "text/plain": [
       "365"
      ]
     },
     "execution_count": 8,
     "metadata": {},
     "output_type": "execute_result"
    }
   ],
   "source": [
    "len(trump_df)"
   ]
  },
  {
   "cell_type": "code",
   "execution_count": 9,
   "metadata": {},
   "outputs": [],
   "source": [
    "nonrepeat_text =trump_df[['text']].drop_duplicates()"
   ]
  },
  {
   "cell_type": "code",
   "execution_count": 10,
   "metadata": {},
   "outputs": [
    {
     "data": {
      "text/plain": [
       "Int64Index([  0,   1,   2,   3,   4,   5,   6,   7,   8,   9,\n",
       "            ...\n",
       "            355, 356, 357, 358, 359, 360, 361, 362, 363, 364],\n",
       "           dtype='int64', length=358)"
      ]
     },
     "execution_count": 10,
     "metadata": {},
     "output_type": "execute_result"
    }
   ],
   "source": [
    "nonrepeat_text.index"
   ]
  },
  {
   "cell_type": "code",
   "execution_count": 11,
   "metadata": {
    "scrolled": true
   },
   "outputs": [
    {
     "data": {
      "text/html": [
       "<div>\n",
       "<style scoped>\n",
       "    .dataframe tbody tr th:only-of-type {\n",
       "        vertical-align: middle;\n",
       "    }\n",
       "\n",
       "    .dataframe tbody tr th {\n",
       "        vertical-align: top;\n",
       "    }\n",
       "\n",
       "    .dataframe thead th {\n",
       "        text-align: right;\n",
       "    }\n",
       "</style>\n",
       "<table border=\"1\" class=\"dataframe\">\n",
       "  <thead>\n",
       "    <tr style=\"text-align: right;\">\n",
       "      <th></th>\n",
       "      <th>text</th>\n",
       "    </tr>\n",
       "  </thead>\n",
       "  <tbody>\n",
       "    <tr>\n",
       "      <th>0</th>\n",
       "      <td>.@FoxNews  “Trump wins major victories in Chin...</td>\n",
       "    </tr>\n",
       "    <tr>\n",
       "      <th>1</th>\n",
       "      <td>....energy independence manufacturing resilien...</td>\n",
       "    </tr>\n",
       "    <tr>\n",
       "      <th>2</th>\n",
       "      <td>....energy independence manufacturing resilien...</td>\n",
       "    </tr>\n",
       "    <tr>\n",
       "      <th>3</th>\n",
       "      <td>Chuck Schumer sat for years during the Obama A...</td>\n",
       "    </tr>\n",
       "    <tr>\n",
       "      <th>4</th>\n",
       "      <td>We have agreed to a very large Phase One Deal ...</td>\n",
       "    </tr>\n",
       "  </tbody>\n",
       "</table>\n",
       "</div>"
      ],
      "text/plain": [
       "                                                text\n",
       "0  .@FoxNews  “Trump wins major victories in Chin...\n",
       "1  ....energy independence manufacturing resilien...\n",
       "2  ....energy independence manufacturing resilien...\n",
       "3  Chuck Schumer sat for years during the Obama A...\n",
       "4  We have agreed to a very large Phase One Deal ..."
      ]
     },
     "execution_count": 11,
     "metadata": {},
     "output_type": "execute_result"
    }
   ],
   "source": [
    "nonrepeat_text.head()"
   ]
  },
  {
   "cell_type": "code",
   "execution_count": 12,
   "metadata": {},
   "outputs": [],
   "source": [
    "nonrepeat_datetime = trump_df['created_at'][nonrepeat_text.index]\n",
    "\n",
    "#account for timezone difference btw NY and HK\n",
    "time_zoneadjusted =nonrepeat_datetime + pd.DateOffset(hours= +13)"
   ]
  },
  {
   "cell_type": "code",
   "execution_count": 13,
   "metadata": {},
   "outputs": [
    {
     "data": {
      "text/plain": [
       "pandas._libs.tslibs.timestamps.Timestamp"
      ]
     },
     "execution_count": 13,
     "metadata": {},
     "output_type": "execute_result"
    }
   ],
   "source": [
    "#object type of datetime column\n",
    "type(nonrepeat_datetime[0])\n"
   ]
  },
  {
   "cell_type": "code",
   "execution_count": 14,
   "metadata": {},
   "outputs": [
    {
     "data": {
      "text/html": [
       "<div>\n",
       "<style scoped>\n",
       "    .dataframe tbody tr th:only-of-type {\n",
       "        vertical-align: middle;\n",
       "    }\n",
       "\n",
       "    .dataframe tbody tr th {\n",
       "        vertical-align: top;\n",
       "    }\n",
       "\n",
       "    .dataframe thead th {\n",
       "        text-align: right;\n",
       "    }\n",
       "</style>\n",
       "<table border=\"1\" class=\"dataframe\">\n",
       "  <thead>\n",
       "    <tr style=\"text-align: right;\">\n",
       "      <th></th>\n",
       "      <th>text</th>\n",
       "      <th>record_time</th>\n",
       "    </tr>\n",
       "  </thead>\n",
       "  <tbody>\n",
       "    <tr>\n",
       "      <th>0</th>\n",
       "      <td>.@FoxNews  “Trump wins major victories in Chin...</td>\n",
       "      <td>2019-12-18 03:48:50</td>\n",
       "    </tr>\n",
       "    <tr>\n",
       "      <th>1</th>\n",
       "      <td>....energy independence manufacturing resilien...</td>\n",
       "      <td>2019-12-16 18:28:18</td>\n",
       "    </tr>\n",
       "    <tr>\n",
       "      <th>2</th>\n",
       "      <td>....energy independence manufacturing resilien...</td>\n",
       "      <td>2019-12-16 18:05:08</td>\n",
       "    </tr>\n",
       "    <tr>\n",
       "      <th>3</th>\n",
       "      <td>Chuck Schumer sat for years during the Obama A...</td>\n",
       "      <td>2019-12-15 08:09:26</td>\n",
       "    </tr>\n",
       "    <tr>\n",
       "      <th>4</th>\n",
       "      <td>We have agreed to a very large Phase One Deal ...</td>\n",
       "      <td>2019-12-14 04:25:47</td>\n",
       "    </tr>\n",
       "  </tbody>\n",
       "</table>\n",
       "</div>"
      ],
      "text/plain": [
       "                                                text         record_time\n",
       "0  .@FoxNews  “Trump wins major victories in Chin... 2019-12-18 03:48:50\n",
       "1  ....energy independence manufacturing resilien... 2019-12-16 18:28:18\n",
       "2  ....energy independence manufacturing resilien... 2019-12-16 18:05:08\n",
       "3  Chuck Schumer sat for years during the Obama A... 2019-12-15 08:09:26\n",
       "4  We have agreed to a very large Phase One Deal ... 2019-12-14 04:25:47"
      ]
     },
     "execution_count": 14,
     "metadata": {},
     "output_type": "execute_result"
    }
   ],
   "source": [
    "nonrepeat_text['record_time'] = time_zoneadjusted\n",
    "nonrepeat_text.head()\n",
    "#neccessary to make it into index?? so as to do nested index filtering?"
   ]
  },
  {
   "cell_type": "code",
   "execution_count": 15,
   "metadata": {},
   "outputs": [],
   "source": [
    "#try extracting the hour\n",
    "#nonrepeat_text['record_time'].dt.hour\n",
    "\n",
    "#? use df.between_time('00:00', '6:00') ## this is filtering on a certain criteria"
   ]
  },
  {
   "cell_type": "code",
   "execution_count": 16,
   "metadata": {},
   "outputs": [],
   "source": [
    "## to-do:\n",
    "# split into a column in date, another in time"
   ]
  },
  {
   "cell_type": "code",
   "execution_count": 17,
   "metadata": {
    "scrolled": true
   },
   "outputs": [
    {
     "data": {
      "text/html": [
       "<div>\n",
       "<style scoped>\n",
       "    .dataframe tbody tr th:only-of-type {\n",
       "        vertical-align: middle;\n",
       "    }\n",
       "\n",
       "    .dataframe tbody tr th {\n",
       "        vertical-align: top;\n",
       "    }\n",
       "\n",
       "    .dataframe thead th {\n",
       "        text-align: right;\n",
       "    }\n",
       "</style>\n",
       "<table border=\"1\" class=\"dataframe\">\n",
       "  <thead>\n",
       "    <tr style=\"text-align: right;\">\n",
       "      <th></th>\n",
       "      <th>text</th>\n",
       "    </tr>\n",
       "    <tr>\n",
       "      <th>record_time</th>\n",
       "      <th></th>\n",
       "    </tr>\n",
       "  </thead>\n",
       "  <tbody>\n",
       "    <tr>\n",
       "      <th>2016-05-09 09:15:20</th>\n",
       "      <td>Crooked Hillary just can't close the deal with...</td>\n",
       "    </tr>\n",
       "    <tr>\n",
       "      <th>2016-05-14 14:03:02</th>\n",
       "      <td>If Crooked Hillary Clinton can't close the dea...</td>\n",
       "    </tr>\n",
       "    <tr>\n",
       "      <th>2016-05-18 00:37:03</th>\n",
       "      <td>The pathetic new hit ad against me misrepresen...</td>\n",
       "    </tr>\n",
       "    <tr>\n",
       "      <th>2016-05-18 00:46:22</th>\n",
       "      <td>Crooked Hillary Clinton put out an ad where I ...</td>\n",
       "    </tr>\n",
       "    <tr>\n",
       "      <th>2016-05-20 22:47:09</th>\n",
       "      <td>Crooked Hillary has zero imagination and even ...</td>\n",
       "    </tr>\n",
       "  </tbody>\n",
       "</table>\n",
       "</div>"
      ],
      "text/plain": [
       "                                                                  text\n",
       "record_time                                                           \n",
       "2016-05-09 09:15:20  Crooked Hillary just can't close the deal with...\n",
       "2016-05-14 14:03:02  If Crooked Hillary Clinton can't close the dea...\n",
       "2016-05-18 00:37:03  The pathetic new hit ad against me misrepresen...\n",
       "2016-05-18 00:46:22  Crooked Hillary Clinton put out an ad where I ...\n",
       "2016-05-20 22:47:09  Crooked Hillary has zero imagination and even ..."
      ]
     },
     "execution_count": 17,
     "metadata": {},
     "output_type": "execute_result"
    }
   ],
   "source": [
    "#sort the datetime index in natural order\n",
    "\n",
    "adjusted_df = nonrepeat_text.set_index('record_time').sort_index()\n",
    "adjusted_df.head()"
   ]
  },
  {
   "cell_type": "code",
   "execution_count": null,
   "metadata": {},
   "outputs": [],
   "source": []
  },
  {
   "cell_type": "code",
   "execution_count": 18,
   "metadata": {},
   "outputs": [],
   "source": [
    "adjusted_df =adjusted_df.reset_index()"
   ]
  },
  {
   "cell_type": "code",
   "execution_count": 19,
   "metadata": {},
   "outputs": [
    {
     "data": {
      "text/plain": [
       "datetime.time(9, 15, 20)"
      ]
     },
     "execution_count": 19,
     "metadata": {},
     "output_type": "execute_result"
    }
   ],
   "source": [
    "# get the date component from datetime object\n",
    "adjusted_df['record_time'][0].date()\n",
    "#get the time component \n",
    "adjusted_df['record_time'][0].time()"
   ]
  },
  {
   "cell_type": "code",
   "execution_count": 20,
   "metadata": {},
   "outputs": [],
   "source": [
    "#adjusted_df['year_ind'] =adjusted_df.index.year\n",
    "#adjusted_df['mon_ind'] =adjusted_df.index.month\n",
    "#adjusted_df['day_ind'] =adjusted_df.index.day\n",
    "#adjusted_df['day_ind'].head()\n",
    "#adjusted_df.to_datetime([adjusted_df['year_ind'], adjusted_df['mon_ind'], adjusted_df['day_ind']])\n",
    "\n",
    "#pd.to_datetime(adjusted_df.index, format='%Y%m%d', errors='ignore')\n",
    "\n",
    "#t.apply(lambda x: x.date()) \n",
    "\n",
    "adjusted_df['date']=adjusted_df['record_time'].apply(lambda x: x.date())\n",
    "adjusted_df['time']=adjusted_df['record_time'].apply(lambda x: x.time())\n",
    "adjusted_df['day_of_week'] = adjusted_df['record_time'].apply(lambda x:x.day_name())"
   ]
  },
  {
   "cell_type": "code",
   "execution_count": 21,
   "metadata": {},
   "outputs": [
    {
     "data": {
      "text/html": [
       "<div>\n",
       "<style scoped>\n",
       "    .dataframe tbody tr th:only-of-type {\n",
       "        vertical-align: middle;\n",
       "    }\n",
       "\n",
       "    .dataframe tbody tr th {\n",
       "        vertical-align: top;\n",
       "    }\n",
       "\n",
       "    .dataframe thead th {\n",
       "        text-align: right;\n",
       "    }\n",
       "</style>\n",
       "<table border=\"1\" class=\"dataframe\">\n",
       "  <thead>\n",
       "    <tr style=\"text-align: right;\">\n",
       "      <th></th>\n",
       "      <th>record_time</th>\n",
       "      <th>text</th>\n",
       "      <th>date</th>\n",
       "      <th>time</th>\n",
       "      <th>day_of_week</th>\n",
       "    </tr>\n",
       "  </thead>\n",
       "  <tbody>\n",
       "    <tr>\n",
       "      <th>0</th>\n",
       "      <td>2016-05-09 09:15:20</td>\n",
       "      <td>Crooked Hillary just can't close the deal with...</td>\n",
       "      <td>2016-05-09</td>\n",
       "      <td>09:15:20</td>\n",
       "      <td>Monday</td>\n",
       "    </tr>\n",
       "    <tr>\n",
       "      <th>1</th>\n",
       "      <td>2016-05-14 14:03:02</td>\n",
       "      <td>If Crooked Hillary Clinton can't close the dea...</td>\n",
       "      <td>2016-05-14</td>\n",
       "      <td>14:03:02</td>\n",
       "      <td>Saturday</td>\n",
       "    </tr>\n",
       "    <tr>\n",
       "      <th>2</th>\n",
       "      <td>2016-05-18 00:37:03</td>\n",
       "      <td>The pathetic new hit ad against me misrepresen...</td>\n",
       "      <td>2016-05-18</td>\n",
       "      <td>00:37:03</td>\n",
       "      <td>Wednesday</td>\n",
       "    </tr>\n",
       "    <tr>\n",
       "      <th>3</th>\n",
       "      <td>2016-05-18 00:46:22</td>\n",
       "      <td>Crooked Hillary Clinton put out an ad where I ...</td>\n",
       "      <td>2016-05-18</td>\n",
       "      <td>00:46:22</td>\n",
       "      <td>Wednesday</td>\n",
       "    </tr>\n",
       "    <tr>\n",
       "      <th>4</th>\n",
       "      <td>2016-05-20 22:47:09</td>\n",
       "      <td>Crooked Hillary has zero imagination and even ...</td>\n",
       "      <td>2016-05-20</td>\n",
       "      <td>22:47:09</td>\n",
       "      <td>Friday</td>\n",
       "    </tr>\n",
       "  </tbody>\n",
       "</table>\n",
       "</div>"
      ],
      "text/plain": [
       "          record_time                                               text  \\\n",
       "0 2016-05-09 09:15:20  Crooked Hillary just can't close the deal with...   \n",
       "1 2016-05-14 14:03:02  If Crooked Hillary Clinton can't close the dea...   \n",
       "2 2016-05-18 00:37:03  The pathetic new hit ad against me misrepresen...   \n",
       "3 2016-05-18 00:46:22  Crooked Hillary Clinton put out an ad where I ...   \n",
       "4 2016-05-20 22:47:09  Crooked Hillary has zero imagination and even ...   \n",
       "\n",
       "         date      time day_of_week  \n",
       "0  2016-05-09  09:15:20      Monday  \n",
       "1  2016-05-14  14:03:02    Saturday  \n",
       "2  2016-05-18  00:37:03   Wednesday  \n",
       "3  2016-05-18  00:46:22   Wednesday  \n",
       "4  2016-05-20  22:47:09      Friday  "
      ]
     },
     "execution_count": 21,
     "metadata": {},
     "output_type": "execute_result"
    }
   ],
   "source": [
    "adjusted_df.head()"
   ]
  },
  {
   "cell_type": "code",
   "execution_count": 22,
   "metadata": {},
   "outputs": [],
   "source": [
    "adjusted_df = adjusted_df.drop(columns = ['record_time']).set_index('date')"
   ]
  },
  {
   "cell_type": "code",
   "execution_count": 23,
   "metadata": {},
   "outputs": [
    {
     "data": {
      "text/html": [
       "<div>\n",
       "<style scoped>\n",
       "    .dataframe tbody tr th:only-of-type {\n",
       "        vertical-align: middle;\n",
       "    }\n",
       "\n",
       "    .dataframe tbody tr th {\n",
       "        vertical-align: top;\n",
       "    }\n",
       "\n",
       "    .dataframe thead th {\n",
       "        text-align: right;\n",
       "    }\n",
       "</style>\n",
       "<table border=\"1\" class=\"dataframe\">\n",
       "  <thead>\n",
       "    <tr style=\"text-align: right;\">\n",
       "      <th></th>\n",
       "      <th>day_of_week</th>\n",
       "      <th>time</th>\n",
       "      <th>text</th>\n",
       "    </tr>\n",
       "    <tr>\n",
       "      <th>date</th>\n",
       "      <th></th>\n",
       "      <th></th>\n",
       "      <th></th>\n",
       "    </tr>\n",
       "  </thead>\n",
       "  <tbody>\n",
       "    <tr>\n",
       "      <th>2016-05-09</th>\n",
       "      <td>Monday</td>\n",
       "      <td>09:15:20</td>\n",
       "      <td>Crooked Hillary just can't close the deal with...</td>\n",
       "    </tr>\n",
       "    <tr>\n",
       "      <th>2016-05-14</th>\n",
       "      <td>Saturday</td>\n",
       "      <td>14:03:02</td>\n",
       "      <td>If Crooked Hillary Clinton can't close the dea...</td>\n",
       "    </tr>\n",
       "    <tr>\n",
       "      <th>2016-05-18</th>\n",
       "      <td>Wednesday</td>\n",
       "      <td>00:37:03</td>\n",
       "      <td>The pathetic new hit ad against me misrepresen...</td>\n",
       "    </tr>\n",
       "    <tr>\n",
       "      <th>2016-05-18</th>\n",
       "      <td>Wednesday</td>\n",
       "      <td>00:46:22</td>\n",
       "      <td>Crooked Hillary Clinton put out an ad where I ...</td>\n",
       "    </tr>\n",
       "    <tr>\n",
       "      <th>2016-05-20</th>\n",
       "      <td>Friday</td>\n",
       "      <td>22:47:09</td>\n",
       "      <td>Crooked Hillary has zero imagination and even ...</td>\n",
       "    </tr>\n",
       "  </tbody>\n",
       "</table>\n",
       "</div>"
      ],
      "text/plain": [
       "           day_of_week      time  \\\n",
       "date                               \n",
       "2016-05-09      Monday  09:15:20   \n",
       "2016-05-14    Saturday  14:03:02   \n",
       "2016-05-18   Wednesday  00:37:03   \n",
       "2016-05-18   Wednesday  00:46:22   \n",
       "2016-05-20      Friday  22:47:09   \n",
       "\n",
       "                                                         text  \n",
       "date                                                           \n",
       "2016-05-09  Crooked Hillary just can't close the deal with...  \n",
       "2016-05-14  If Crooked Hillary Clinton can't close the dea...  \n",
       "2016-05-18  The pathetic new hit ad against me misrepresen...  \n",
       "2016-05-18  Crooked Hillary Clinton put out an ad where I ...  \n",
       "2016-05-20  Crooked Hillary has zero imagination and even ...  "
      ]
     },
     "execution_count": 23,
     "metadata": {},
     "output_type": "execute_result"
    }
   ],
   "source": [
    "adjusted_df = adjusted_df[['day_of_week','time','text']]\n",
    "adjusted_df.head()"
   ]
  },
  {
   "cell_type": "code",
   "execution_count": 24,
   "metadata": {
    "scrolled": false
   },
   "outputs": [
    {
     "data": {
      "text/html": [
       "<div>\n",
       "<style scoped>\n",
       "    .dataframe tbody tr th:only-of-type {\n",
       "        vertical-align: middle;\n",
       "    }\n",
       "\n",
       "    .dataframe tbody tr th {\n",
       "        vertical-align: top;\n",
       "    }\n",
       "\n",
       "    .dataframe thead th {\n",
       "        text-align: right;\n",
       "    }\n",
       "</style>\n",
       "<table border=\"1\" class=\"dataframe\">\n",
       "  <thead>\n",
       "    <tr style=\"text-align: right;\">\n",
       "      <th></th>\n",
       "      <th>open</th>\n",
       "      <th>high</th>\n",
       "      <th>low</th>\n",
       "      <th>close</th>\n",
       "      <th>volume</th>\n",
       "    </tr>\n",
       "    <tr>\n",
       "      <th>date</th>\n",
       "      <th></th>\n",
       "      <th></th>\n",
       "      <th></th>\n",
       "      <th></th>\n",
       "      <th></th>\n",
       "    </tr>\n",
       "  </thead>\n",
       "  <tbody>\n",
       "    <tr>\n",
       "      <th>2016-05-09</th>\n",
       "      <td>20279.90039</td>\n",
       "      <td>20303.18945</td>\n",
       "      <td>20125.77930</td>\n",
       "      <td>20156.81055</td>\n",
       "      <td>1323285400</td>\n",
       "    </tr>\n",
       "    <tr>\n",
       "      <th>2016-05-10</th>\n",
       "      <td>19962.42969</td>\n",
       "      <td>20294.46094</td>\n",
       "      <td>19962.42969</td>\n",
       "      <td>20242.67969</td>\n",
       "      <td>1446925800</td>\n",
       "    </tr>\n",
       "    <tr>\n",
       "      <th>2016-05-11</th>\n",
       "      <td>20347.75977</td>\n",
       "      <td>20347.75977</td>\n",
       "      <td>20008.91992</td>\n",
       "      <td>20055.28906</td>\n",
       "      <td>1337926500</td>\n",
       "    </tr>\n",
       "    <tr>\n",
       "      <th>2016-05-12</th>\n",
       "      <td>20100.50000</td>\n",
       "      <td>20100.50000</td>\n",
       "      <td>19863.61914</td>\n",
       "      <td>19915.46094</td>\n",
       "      <td>1150409200</td>\n",
       "    </tr>\n",
       "    <tr>\n",
       "      <th>2016-05-13</th>\n",
       "      <td>19843.49023</td>\n",
       "      <td>19881.91016</td>\n",
       "      <td>19594.60938</td>\n",
       "      <td>19719.28906</td>\n",
       "      <td>1758498600</td>\n",
       "    </tr>\n",
       "  </tbody>\n",
       "</table>\n",
       "</div>"
      ],
      "text/plain": [
       "                   open        high           low        close      volume\n",
       "date                                                                      \n",
       "2016-05-09  20279.90039  20303.18945  20125.77930  20156.81055  1323285400\n",
       "2016-05-10  19962.42969  20294.46094  19962.42969  20242.67969  1446925800\n",
       "2016-05-11  20347.75977  20347.75977  20008.91992  20055.28906  1337926500\n",
       "2016-05-12  20100.50000  20100.50000  19863.61914  19915.46094  1150409200\n",
       "2016-05-13  19843.49023  19881.91016  19594.60938  19719.28906  1758498600"
      ]
     },
     "execution_count": 24,
     "metadata": {},
     "output_type": "execute_result"
    }
   ],
   "source": [
    "HSCE_df =pd.read_csv(r'D:\\Documents\\Docs_oldnew\\trump_tweet_api\\HSCE_since2016May.csv', index_col = 0, parse_dates = True)\n",
    "HSCE_df.head()"
   ]
  },
  {
   "cell_type": "code",
   "execution_count": 25,
   "metadata": {},
   "outputs": [
    {
     "data": {
      "text/html": [
       "<div>\n",
       "<style scoped>\n",
       "    .dataframe tbody tr th:only-of-type {\n",
       "        vertical-align: middle;\n",
       "    }\n",
       "\n",
       "    .dataframe tbody tr th {\n",
       "        vertical-align: top;\n",
       "    }\n",
       "\n",
       "    .dataframe thead th {\n",
       "        text-align: right;\n",
       "    }\n",
       "</style>\n",
       "<table border=\"1\" class=\"dataframe\">\n",
       "  <thead>\n",
       "    <tr style=\"text-align: right;\">\n",
       "      <th></th>\n",
       "      <th>open</th>\n",
       "      <th>high</th>\n",
       "      <th>low</th>\n",
       "      <th>close</th>\n",
       "      <th>volume</th>\n",
       "      <th>abs_change</th>\n",
       "      <th>pct_change</th>\n",
       "    </tr>\n",
       "    <tr>\n",
       "      <th>date</th>\n",
       "      <th></th>\n",
       "      <th></th>\n",
       "      <th></th>\n",
       "      <th></th>\n",
       "      <th></th>\n",
       "      <th></th>\n",
       "      <th></th>\n",
       "    </tr>\n",
       "  </thead>\n",
       "  <tbody>\n",
       "    <tr>\n",
       "      <th>2016-05-09</th>\n",
       "      <td>20279.90039</td>\n",
       "      <td>20303.18945</td>\n",
       "      <td>20125.77930</td>\n",
       "      <td>20156.81055</td>\n",
       "      <td>1323285400</td>\n",
       "      <td>NaN</td>\n",
       "      <td>NaN</td>\n",
       "    </tr>\n",
       "    <tr>\n",
       "      <th>2016-05-10</th>\n",
       "      <td>19962.42969</td>\n",
       "      <td>20294.46094</td>\n",
       "      <td>19962.42969</td>\n",
       "      <td>20242.67969</td>\n",
       "      <td>1446925800</td>\n",
       "      <td>85.86914</td>\n",
       "      <td>0.426006</td>\n",
       "    </tr>\n",
       "    <tr>\n",
       "      <th>2016-05-11</th>\n",
       "      <td>20347.75977</td>\n",
       "      <td>20347.75977</td>\n",
       "      <td>20008.91992</td>\n",
       "      <td>20055.28906</td>\n",
       "      <td>1337926500</td>\n",
       "      <td>-187.39063</td>\n",
       "      <td>-0.925720</td>\n",
       "    </tr>\n",
       "    <tr>\n",
       "      <th>2016-05-12</th>\n",
       "      <td>20100.50000</td>\n",
       "      <td>20100.50000</td>\n",
       "      <td>19863.61914</td>\n",
       "      <td>19915.46094</td>\n",
       "      <td>1150409200</td>\n",
       "      <td>-139.82812</td>\n",
       "      <td>-0.697213</td>\n",
       "    </tr>\n",
       "    <tr>\n",
       "      <th>2016-05-13</th>\n",
       "      <td>19843.49023</td>\n",
       "      <td>19881.91016</td>\n",
       "      <td>19594.60938</td>\n",
       "      <td>19719.28906</td>\n",
       "      <td>1758498600</td>\n",
       "      <td>-196.17188</td>\n",
       "      <td>-0.985023</td>\n",
       "    </tr>\n",
       "  </tbody>\n",
       "</table>\n",
       "</div>"
      ],
      "text/plain": [
       "                   open        high           low        close      volume  \\\n",
       "date                                                                         \n",
       "2016-05-09  20279.90039  20303.18945  20125.77930  20156.81055  1323285400   \n",
       "2016-05-10  19962.42969  20294.46094  19962.42969  20242.67969  1446925800   \n",
       "2016-05-11  20347.75977  20347.75977  20008.91992  20055.28906  1337926500   \n",
       "2016-05-12  20100.50000  20100.50000  19863.61914  19915.46094  1150409200   \n",
       "2016-05-13  19843.49023  19881.91016  19594.60938  19719.28906  1758498600   \n",
       "\n",
       "            abs_change  pct_change  \n",
       "date                                \n",
       "2016-05-09         NaN         NaN  \n",
       "2016-05-10    85.86914    0.426006  \n",
       "2016-05-11  -187.39063   -0.925720  \n",
       "2016-05-12  -139.82812   -0.697213  \n",
       "2016-05-13  -196.17188   -0.985023  "
      ]
     },
     "execution_count": 25,
     "metadata": {},
     "output_type": "execute_result"
    }
   ],
   "source": [
    "#get absolute change and percentage change over previous closing price\n",
    "\n",
    "HSCE_df['abs_change'] = HSCE_df['close'] - HSCE_df['close'].shift(periods =1)\n",
    "HSCE_df['pct_change'] = (HSCE_df['abs_change'] / HSCE_df['close'].shift(periods=1))*100 \n",
    "\n",
    "HSCE_df.head()"
   ]
  },
  {
   "cell_type": "code",
   "execution_count": 26,
   "metadata": {},
   "outputs": [],
   "source": [
    "HSCE_df['sign_change'] = HSCE_df['pct_change'] > 0"
   ]
  },
  {
   "cell_type": "code",
   "execution_count": 27,
   "metadata": {},
   "outputs": [
    {
     "data": {
      "text/html": [
       "<div>\n",
       "<style scoped>\n",
       "    .dataframe tbody tr th:only-of-type {\n",
       "        vertical-align: middle;\n",
       "    }\n",
       "\n",
       "    .dataframe tbody tr th {\n",
       "        vertical-align: top;\n",
       "    }\n",
       "\n",
       "    .dataframe thead th {\n",
       "        text-align: right;\n",
       "    }\n",
       "</style>\n",
       "<table border=\"1\" class=\"dataframe\">\n",
       "  <thead>\n",
       "    <tr style=\"text-align: right;\">\n",
       "      <th></th>\n",
       "      <th>open</th>\n",
       "      <th>high</th>\n",
       "      <th>low</th>\n",
       "      <th>close</th>\n",
       "      <th>volume</th>\n",
       "      <th>abs_change</th>\n",
       "      <th>pct_change</th>\n",
       "      <th>sign_change</th>\n",
       "    </tr>\n",
       "    <tr>\n",
       "      <th>date</th>\n",
       "      <th></th>\n",
       "      <th></th>\n",
       "      <th></th>\n",
       "      <th></th>\n",
       "      <th></th>\n",
       "      <th></th>\n",
       "      <th></th>\n",
       "      <th></th>\n",
       "    </tr>\n",
       "  </thead>\n",
       "  <tbody>\n",
       "    <tr>\n",
       "      <th>2016-05-09</th>\n",
       "      <td>20279.90039</td>\n",
       "      <td>20303.18945</td>\n",
       "      <td>20125.77930</td>\n",
       "      <td>20156.81055</td>\n",
       "      <td>1323285400</td>\n",
       "      <td>NaN</td>\n",
       "      <td>NaN</td>\n",
       "      <td>False</td>\n",
       "    </tr>\n",
       "    <tr>\n",
       "      <th>2016-05-10</th>\n",
       "      <td>19962.42969</td>\n",
       "      <td>20294.46094</td>\n",
       "      <td>19962.42969</td>\n",
       "      <td>20242.67969</td>\n",
       "      <td>1446925800</td>\n",
       "      <td>85.86914</td>\n",
       "      <td>0.426006</td>\n",
       "      <td>True</td>\n",
       "    </tr>\n",
       "    <tr>\n",
       "      <th>2016-05-11</th>\n",
       "      <td>20347.75977</td>\n",
       "      <td>20347.75977</td>\n",
       "      <td>20008.91992</td>\n",
       "      <td>20055.28906</td>\n",
       "      <td>1337926500</td>\n",
       "      <td>-187.39063</td>\n",
       "      <td>-0.925720</td>\n",
       "      <td>False</td>\n",
       "    </tr>\n",
       "    <tr>\n",
       "      <th>2016-05-12</th>\n",
       "      <td>20100.50000</td>\n",
       "      <td>20100.50000</td>\n",
       "      <td>19863.61914</td>\n",
       "      <td>19915.46094</td>\n",
       "      <td>1150409200</td>\n",
       "      <td>-139.82812</td>\n",
       "      <td>-0.697213</td>\n",
       "      <td>False</td>\n",
       "    </tr>\n",
       "    <tr>\n",
       "      <th>2016-05-13</th>\n",
       "      <td>19843.49023</td>\n",
       "      <td>19881.91016</td>\n",
       "      <td>19594.60938</td>\n",
       "      <td>19719.28906</td>\n",
       "      <td>1758498600</td>\n",
       "      <td>-196.17188</td>\n",
       "      <td>-0.985023</td>\n",
       "      <td>False</td>\n",
       "    </tr>\n",
       "  </tbody>\n",
       "</table>\n",
       "</div>"
      ],
      "text/plain": [
       "                   open        high           low        close      volume  \\\n",
       "date                                                                         \n",
       "2016-05-09  20279.90039  20303.18945  20125.77930  20156.81055  1323285400   \n",
       "2016-05-10  19962.42969  20294.46094  19962.42969  20242.67969  1446925800   \n",
       "2016-05-11  20347.75977  20347.75977  20008.91992  20055.28906  1337926500   \n",
       "2016-05-12  20100.50000  20100.50000  19863.61914  19915.46094  1150409200   \n",
       "2016-05-13  19843.49023  19881.91016  19594.60938  19719.28906  1758498600   \n",
       "\n",
       "            abs_change  pct_change  sign_change  \n",
       "date                                             \n",
       "2016-05-09         NaN         NaN        False  \n",
       "2016-05-10    85.86914    0.426006         True  \n",
       "2016-05-11  -187.39063   -0.925720        False  \n",
       "2016-05-12  -139.82812   -0.697213        False  \n",
       "2016-05-13  -196.17188   -0.985023        False  "
      ]
     },
     "execution_count": 27,
     "metadata": {},
     "output_type": "execute_result"
    }
   ],
   "source": [
    "HSCE_df.head()"
   ]
  },
  {
   "cell_type": "code",
   "execution_count": 28,
   "metadata": {},
   "outputs": [],
   "source": [
    "HSCE_extract =HSCE_df[['close','pct_change','sign_change']]"
   ]
  },
  {
   "cell_type": "code",
   "execution_count": 29,
   "metadata": {},
   "outputs": [
    {
     "data": {
      "text/plain": [
       "pandas._libs.tslibs.timestamps.Timestamp"
      ]
     },
     "execution_count": 29,
     "metadata": {},
     "output_type": "execute_result"
    }
   ],
   "source": [
    "type(HSCE_extract.index[0])"
   ]
  },
  {
   "cell_type": "code",
   "execution_count": 30,
   "metadata": {},
   "outputs": [
    {
     "data": {
      "text/html": [
       "<div>\n",
       "<style scoped>\n",
       "    .dataframe tbody tr th:only-of-type {\n",
       "        vertical-align: middle;\n",
       "    }\n",
       "\n",
       "    .dataframe tbody tr th {\n",
       "        vertical-align: top;\n",
       "    }\n",
       "\n",
       "    .dataframe thead th {\n",
       "        text-align: right;\n",
       "    }\n",
       "</style>\n",
       "<table border=\"1\" class=\"dataframe\">\n",
       "  <thead>\n",
       "    <tr style=\"text-align: right;\">\n",
       "      <th></th>\n",
       "      <th>day_of_week</th>\n",
       "      <th>time</th>\n",
       "      <th>text</th>\n",
       "      <th>close</th>\n",
       "      <th>pct_change</th>\n",
       "      <th>sign_change</th>\n",
       "    </tr>\n",
       "    <tr>\n",
       "      <th>date</th>\n",
       "      <th></th>\n",
       "      <th></th>\n",
       "      <th></th>\n",
       "      <th></th>\n",
       "      <th></th>\n",
       "      <th></th>\n",
       "    </tr>\n",
       "  </thead>\n",
       "  <tbody>\n",
       "    <tr>\n",
       "      <th>2016-05-09</th>\n",
       "      <td>Monday</td>\n",
       "      <td>09:15:20</td>\n",
       "      <td>Crooked Hillary just can't close the deal with...</td>\n",
       "      <td>20156.81055</td>\n",
       "      <td>NaN</td>\n",
       "      <td>False</td>\n",
       "    </tr>\n",
       "    <tr>\n",
       "      <th>2016-05-10</th>\n",
       "      <td>NaN</td>\n",
       "      <td>NaN</td>\n",
       "      <td>NaN</td>\n",
       "      <td>20242.67969</td>\n",
       "      <td>0.426006</td>\n",
       "      <td>True</td>\n",
       "    </tr>\n",
       "    <tr>\n",
       "      <th>2016-05-11</th>\n",
       "      <td>NaN</td>\n",
       "      <td>NaN</td>\n",
       "      <td>NaN</td>\n",
       "      <td>20055.28906</td>\n",
       "      <td>-0.925720</td>\n",
       "      <td>False</td>\n",
       "    </tr>\n",
       "    <tr>\n",
       "      <th>2016-05-12</th>\n",
       "      <td>NaN</td>\n",
       "      <td>NaN</td>\n",
       "      <td>NaN</td>\n",
       "      <td>19915.46094</td>\n",
       "      <td>-0.697213</td>\n",
       "      <td>False</td>\n",
       "    </tr>\n",
       "    <tr>\n",
       "      <th>2016-05-13</th>\n",
       "      <td>NaN</td>\n",
       "      <td>NaN</td>\n",
       "      <td>NaN</td>\n",
       "      <td>19719.28906</td>\n",
       "      <td>-0.985023</td>\n",
       "      <td>False</td>\n",
       "    </tr>\n",
       "  </tbody>\n",
       "</table>\n",
       "</div>"
      ],
      "text/plain": [
       "           day_of_week      time  \\\n",
       "date                               \n",
       "2016-05-09      Monday  09:15:20   \n",
       "2016-05-10         NaN       NaN   \n",
       "2016-05-11         NaN       NaN   \n",
       "2016-05-12         NaN       NaN   \n",
       "2016-05-13         NaN       NaN   \n",
       "\n",
       "                                                         text        close  \\\n",
       "date                                                                         \n",
       "2016-05-09  Crooked Hillary just can't close the deal with...  20156.81055   \n",
       "2016-05-10                                                NaN  20242.67969   \n",
       "2016-05-11                                                NaN  20055.28906   \n",
       "2016-05-12                                                NaN  19915.46094   \n",
       "2016-05-13                                                NaN  19719.28906   \n",
       "\n",
       "            pct_change sign_change  \n",
       "date                                \n",
       "2016-05-09         NaN       False  \n",
       "2016-05-10    0.426006        True  \n",
       "2016-05-11   -0.925720       False  \n",
       "2016-05-12   -0.697213       False  \n",
       "2016-05-13   -0.985023       False  "
      ]
     },
     "execution_count": 30,
     "metadata": {},
     "output_type": "execute_result"
    }
   ],
   "source": [
    "#next_day performance is missing if drop_na().. no good to miss those reactions\n",
    "##to-do: need to check the weekday as well; and holidays\n",
    "\n",
    "## if his tweet is on Sat and Sun, fill_na with next-day performance\n",
    "\n",
    "tweet_HSCE_react = pd.merge(adjusted_df,HSCE_extract, how = 'outer', left_index=True, right_index=True)\n",
    "tweet_HSCE_react.head()"
   ]
  },
  {
   "cell_type": "code",
   "execution_count": 31,
   "metadata": {
    "scrolled": true
   },
   "outputs": [
    {
     "data": {
      "text/html": [
       "<div>\n",
       "<style scoped>\n",
       "    .dataframe tbody tr th:only-of-type {\n",
       "        vertical-align: middle;\n",
       "    }\n",
       "\n",
       "    .dataframe tbody tr th {\n",
       "        vertical-align: top;\n",
       "    }\n",
       "\n",
       "    .dataframe thead th {\n",
       "        text-align: right;\n",
       "    }\n",
       "</style>\n",
       "<table border=\"1\" class=\"dataframe\">\n",
       "  <thead>\n",
       "    <tr style=\"text-align: right;\">\n",
       "      <th></th>\n",
       "      <th>day_of_week</th>\n",
       "      <th>time</th>\n",
       "      <th>text</th>\n",
       "      <th>close</th>\n",
       "      <th>pct_change</th>\n",
       "      <th>sign_change</th>\n",
       "    </tr>\n",
       "    <tr>\n",
       "      <th>date</th>\n",
       "      <th></th>\n",
       "      <th></th>\n",
       "      <th></th>\n",
       "      <th></th>\n",
       "      <th></th>\n",
       "      <th></th>\n",
       "    </tr>\n",
       "  </thead>\n",
       "  <tbody>\n",
       "    <tr>\n",
       "      <th>2017-01-20</th>\n",
       "      <td>NaN</td>\n",
       "      <td>NaN</td>\n",
       "      <td>NaN</td>\n",
       "      <td>22885.91016</td>\n",
       "      <td>-0.711718</td>\n",
       "      <td>False</td>\n",
       "    </tr>\n",
       "    <tr>\n",
       "      <th>2017-01-23</th>\n",
       "      <td>NaN</td>\n",
       "      <td>NaN</td>\n",
       "      <td>NaN</td>\n",
       "      <td>22898.51953</td>\n",
       "      <td>0.055097</td>\n",
       "      <td>True</td>\n",
       "    </tr>\n",
       "    <tr>\n",
       "      <th>2017-01-24</th>\n",
       "      <td>NaN</td>\n",
       "      <td>NaN</td>\n",
       "      <td>NaN</td>\n",
       "      <td>22949.85938</td>\n",
       "      <td>0.224206</td>\n",
       "      <td>True</td>\n",
       "    </tr>\n",
       "    <tr>\n",
       "      <th>2017-01-25</th>\n",
       "      <td>NaN</td>\n",
       "      <td>NaN</td>\n",
       "      <td>NaN</td>\n",
       "      <td>23049.11914</td>\n",
       "      <td>0.432507</td>\n",
       "      <td>True</td>\n",
       "    </tr>\n",
       "    <tr>\n",
       "      <th>2017-01-26</th>\n",
       "      <td>NaN</td>\n",
       "      <td>NaN</td>\n",
       "      <td>NaN</td>\n",
       "      <td>23374.16992</td>\n",
       "      <td>1.410253</td>\n",
       "      <td>True</td>\n",
       "    </tr>\n",
       "  </tbody>\n",
       "</table>\n",
       "</div>"
      ],
      "text/plain": [
       "           day_of_week time text        close  pct_change sign_change\n",
       "date                                                                 \n",
       "2017-01-20         NaN  NaN  NaN  22885.91016   -0.711718       False\n",
       "2017-01-23         NaN  NaN  NaN  22898.51953    0.055097        True\n",
       "2017-01-24         NaN  NaN  NaN  22949.85938    0.224206        True\n",
       "2017-01-25         NaN  NaN  NaN  23049.11914    0.432507        True\n",
       "2017-01-26         NaN  NaN  NaN  23374.16992    1.410253        True"
      ]
     },
     "execution_count": 31,
     "metadata": {},
     "output_type": "execute_result"
    }
   ],
   "source": [
    "#check only tweets after Trump inaugurated\n",
    "\n",
    "tweets_inau_df =tweet_HSCE_react['2017-01-20':]\n",
    "tweets_inau_df.head()"
   ]
  },
  {
   "cell_type": "code",
   "execution_count": 32,
   "metadata": {},
   "outputs": [
    {
     "data": {
      "text/html": [
       "<div>\n",
       "<style scoped>\n",
       "    .dataframe tbody tr th:only-of-type {\n",
       "        vertical-align: middle;\n",
       "    }\n",
       "\n",
       "    .dataframe tbody tr th {\n",
       "        vertical-align: top;\n",
       "    }\n",
       "\n",
       "    .dataframe thead th {\n",
       "        text-align: right;\n",
       "    }\n",
       "</style>\n",
       "<table border=\"1\" class=\"dataframe\">\n",
       "  <thead>\n",
       "    <tr style=\"text-align: right;\">\n",
       "      <th></th>\n",
       "      <th>day_of_week</th>\n",
       "      <th>time</th>\n",
       "      <th>text</th>\n",
       "      <th>close</th>\n",
       "      <th>pct_change</th>\n",
       "      <th>sign_change</th>\n",
       "    </tr>\n",
       "    <tr>\n",
       "      <th>date</th>\n",
       "      <th></th>\n",
       "      <th></th>\n",
       "      <th></th>\n",
       "      <th></th>\n",
       "      <th></th>\n",
       "      <th></th>\n",
       "    </tr>\n",
       "  </thead>\n",
       "  <tbody>\n",
       "    <tr>\n",
       "      <th>2017-04-09</th>\n",
       "      <td>Sunday</td>\n",
       "      <td>03:50:59</td>\n",
       "      <td>It was a great honor to have President Xi Jinp...</td>\n",
       "      <td>NaN</td>\n",
       "      <td>NaN</td>\n",
       "      <td>NaN</td>\n",
       "    </tr>\n",
       "    <tr>\n",
       "      <th>2017-07-09</th>\n",
       "      <td>Sunday</td>\n",
       "      <td>07:55:23</td>\n",
       "      <td>Leaving Hamburg for Washington D.C. and the WH...</td>\n",
       "      <td>NaN</td>\n",
       "      <td>NaN</td>\n",
       "      <td>NaN</td>\n",
       "    </tr>\n",
       "    <tr>\n",
       "      <th>2017-07-30</th>\n",
       "      <td>Sunday</td>\n",
       "      <td>12:29:05</td>\n",
       "      <td>I am very disappointed in China. Our foolish p...</td>\n",
       "      <td>NaN</td>\n",
       "      <td>NaN</td>\n",
       "      <td>NaN</td>\n",
       "    </tr>\n",
       "    <tr>\n",
       "      <th>2017-07-30</th>\n",
       "      <td>Sunday</td>\n",
       "      <td>12:35:13</td>\n",
       "      <td>...they do NOTHING for us with North Korea jus...</td>\n",
       "      <td>NaN</td>\n",
       "      <td>NaN</td>\n",
       "      <td>NaN</td>\n",
       "    </tr>\n",
       "    <tr>\n",
       "      <th>2017-08-06</th>\n",
       "      <td>Sunday</td>\n",
       "      <td>11:44:34</td>\n",
       "      <td>The United Nations Security Council just voted...</td>\n",
       "      <td>NaN</td>\n",
       "      <td>NaN</td>\n",
       "      <td>NaN</td>\n",
       "    </tr>\n",
       "  </tbody>\n",
       "</table>\n",
       "</div>"
      ],
      "text/plain": [
       "           day_of_week      time  \\\n",
       "date                               \n",
       "2017-04-09      Sunday  03:50:59   \n",
       "2017-07-09      Sunday  07:55:23   \n",
       "2017-07-30      Sunday  12:29:05   \n",
       "2017-07-30      Sunday  12:35:13   \n",
       "2017-08-06      Sunday  11:44:34   \n",
       "\n",
       "                                                         text  close  \\\n",
       "date                                                                   \n",
       "2017-04-09  It was a great honor to have President Xi Jinp...    NaN   \n",
       "2017-07-09  Leaving Hamburg for Washington D.C. and the WH...    NaN   \n",
       "2017-07-30  I am very disappointed in China. Our foolish p...    NaN   \n",
       "2017-07-30  ...they do NOTHING for us with North Korea jus...    NaN   \n",
       "2017-08-06  The United Nations Security Council just voted...    NaN   \n",
       "\n",
       "            pct_change sign_change  \n",
       "date                                \n",
       "2017-04-09         NaN         NaN  \n",
       "2017-07-09         NaN         NaN  \n",
       "2017-07-30         NaN         NaN  \n",
       "2017-07-30         NaN         NaN  \n",
       "2017-08-06         NaN         NaN  "
      ]
     },
     "execution_count": 32,
     "metadata": {},
     "output_type": "execute_result"
    }
   ],
   "source": [
    "tweets_inau_df[tweets_inau_df['day_of_week'] == 'Sunday'].head()"
   ]
  },
  {
   "cell_type": "code",
   "execution_count": 33,
   "metadata": {},
   "outputs": [],
   "source": [
    "#tweets_inau_df[tweets_inau_df['day_of_week'] == 'Sunday'][['close']].fillna(value= close_values)"
   ]
  },
  {
   "cell_type": "code",
   "execution_count": 34,
   "metadata": {
    "scrolled": true
   },
   "outputs": [
    {
     "data": {
      "text/plain": [
       "DatetimeIndex(['2017-02-13', '2017-03-20', '2017-04-24', '2017-05-01',\n",
       "               '2017-05-15', '2017-11-06', '2018-04-09', '2018-04-30',\n",
       "               '2018-05-07', '2018-07-23', '2018-08-27', '2018-08-27',\n",
       "               '2018-11-12', '2018-12-10', '2018-12-17', '2018-12-17',\n",
       "               '2018-12-24', '2019-03-04', '2019-05-06', '2019-05-13',\n",
       "               '2019-05-13', '2019-05-13', '2019-05-13', '2019-05-13',\n",
       "               '2019-05-13', '2019-05-13', '2019-05-13', '2019-05-13',\n",
       "               '2019-05-13', '2019-05-13', '2019-06-10', '2019-07-01',\n",
       "               '2019-07-15', '2019-07-29', '2019-07-29', '2019-07-29',\n",
       "               '2019-08-26', '2019-08-26', '2019-08-26', '2019-08-26',\n",
       "               '2019-08-26', '2019-08-26', '2019-08-26', '2019-08-26',\n",
       "               '2019-08-26', '2019-08-26', '2019-09-02', '2019-09-09',\n",
       "               '2019-09-09', '2019-10-07', '2019-10-14', '2019-10-14',\n",
       "               '2019-10-14', '2019-10-14', '2019-12-09', '2019-12-16',\n",
       "               '2019-12-16'],\n",
       "              dtype='datetime64[ns]', name='date', freq=None)"
      ]
     },
     "execution_count": 34,
     "metadata": {},
     "output_type": "execute_result"
    }
   ],
   "source": [
    "##this need  a shift of business_day\n",
    "\n",
    "from pandas.tseries.offsets import BDay\n",
    "\n",
    "#backup: tweets_inau_df[tweets_inau_df['day_of_week'] == 'Saturday'].index.\n",
    "Sat_shift_newdate= tweets_inau_df[tweets_inau_df['day_of_week'] == 'Saturday'].index.map(lambda x:x+0*BDay())\n",
    "Sat_shift_newdate"
   ]
  },
  {
   "cell_type": "code",
   "execution_count": 35,
   "metadata": {},
   "outputs": [],
   "source": [
    "#HSCE_extract.loc['2017-02-13']['close']\n",
    "\n",
    "#close_values = HSCE_extract.loc[Sat_shift_newdate]['close']"
   ]
  },
  {
   "cell_type": "markdown",
   "metadata": {},
   "source": [
    "### Train a sentiment classifier with the stock market reaction as a distant supervised label set\n",
    "\n",
    "- negative change over previous day means negative sentiment reaction towards Trump's speech\n",
    "- vice versa\n",
    "- not ideal compared  to best human-annotated labels but a workaround to save time and labour"
   ]
  },
  {
   "cell_type": "code",
   "execution_count": 36,
   "metadata": {},
   "outputs": [
    {
     "data": {
      "text/html": [
       "<div>\n",
       "<style scoped>\n",
       "    .dataframe tbody tr th:only-of-type {\n",
       "        vertical-align: middle;\n",
       "    }\n",
       "\n",
       "    .dataframe tbody tr th {\n",
       "        vertical-align: top;\n",
       "    }\n",
       "\n",
       "    .dataframe thead th {\n",
       "        text-align: right;\n",
       "    }\n",
       "</style>\n",
       "<table border=\"1\" class=\"dataframe\">\n",
       "  <thead>\n",
       "    <tr style=\"text-align: right;\">\n",
       "      <th></th>\n",
       "      <th>day_of_week</th>\n",
       "      <th>time</th>\n",
       "      <th>text</th>\n",
       "      <th>close</th>\n",
       "      <th>pct_change</th>\n",
       "      <th>sign_change</th>\n",
       "    </tr>\n",
       "    <tr>\n",
       "      <th>date</th>\n",
       "      <th></th>\n",
       "      <th></th>\n",
       "      <th></th>\n",
       "      <th></th>\n",
       "      <th></th>\n",
       "      <th></th>\n",
       "    </tr>\n",
       "  </thead>\n",
       "  <tbody>\n",
       "    <tr>\n",
       "      <th>2017-03-31</th>\n",
       "      <td>Friday</td>\n",
       "      <td>11:16:17</td>\n",
       "      <td>The meeting next week with China will be a ver...</td>\n",
       "      <td>24111.58984</td>\n",
       "      <td>-0.779800</td>\n",
       "      <td>False</td>\n",
       "    </tr>\n",
       "    <tr>\n",
       "      <th>2017-04-12</th>\n",
       "      <td>Wednesday</td>\n",
       "      <td>00:59:04</td>\n",
       "      <td>I explained to the President of China that a t...</td>\n",
       "      <td>24313.50000</td>\n",
       "      <td>0.934219</td>\n",
       "      <td>True</td>\n",
       "    </tr>\n",
       "    <tr>\n",
       "      <th>2017-04-12</th>\n",
       "      <td>Wednesday</td>\n",
       "      <td>01:03:43</td>\n",
       "      <td>North Korea is looking for trouble. If China d...</td>\n",
       "      <td>24313.50000</td>\n",
       "      <td>0.934219</td>\n",
       "      <td>True</td>\n",
       "    </tr>\n",
       "    <tr>\n",
       "      <th>2017-04-13</th>\n",
       "      <td>Thursday</td>\n",
       "      <td>01:22:22</td>\n",
       "      <td>Had a very good call last night with the Presi...</td>\n",
       "      <td>24261.66016</td>\n",
       "      <td>-0.213214</td>\n",
       "      <td>False</td>\n",
       "    </tr>\n",
       "    <tr>\n",
       "      <th>2017-06-21</th>\n",
       "      <td>Wednesday</td>\n",
       "      <td>07:38:11</td>\n",
       "      <td>While I greatly appreciate the efforts of Pres...</td>\n",
       "      <td>25694.58008</td>\n",
       "      <td>-0.574464</td>\n",
       "      <td>False</td>\n",
       "    </tr>\n",
       "  </tbody>\n",
       "</table>\n",
       "</div>"
      ],
      "text/plain": [
       "           day_of_week      time  \\\n",
       "date                               \n",
       "2017-03-31      Friday  11:16:17   \n",
       "2017-04-12   Wednesday  00:59:04   \n",
       "2017-04-12   Wednesday  01:03:43   \n",
       "2017-04-13    Thursday  01:22:22   \n",
       "2017-06-21   Wednesday  07:38:11   \n",
       "\n",
       "                                                         text        close  \\\n",
       "date                                                                         \n",
       "2017-03-31  The meeting next week with China will be a ver...  24111.58984   \n",
       "2017-04-12  I explained to the President of China that a t...  24313.50000   \n",
       "2017-04-12  North Korea is looking for trouble. If China d...  24313.50000   \n",
       "2017-04-13  Had a very good call last night with the Presi...  24261.66016   \n",
       "2017-06-21  While I greatly appreciate the efforts of Pres...  25694.58008   \n",
       "\n",
       "            pct_change sign_change  \n",
       "date                                \n",
       "2017-03-31   -0.779800       False  \n",
       "2017-04-12    0.934219        True  \n",
       "2017-04-12    0.934219        True  \n",
       "2017-04-13   -0.213214       False  \n",
       "2017-06-21   -0.574464       False  "
      ]
     },
     "execution_count": 36,
     "metadata": {},
     "output_type": "execute_result"
    }
   ],
   "source": [
    "#211 rows × 6 columns\n",
    "\n",
    "tweets_inau_nona = tweets_inau_df.dropna()\n",
    "tweets_inau_nona.head()"
   ]
  },
  {
   "cell_type": "code",
   "execution_count": 37,
   "metadata": {},
   "outputs": [],
   "source": [
    "#to-do: check if time is before 9:30 or happening during market open hours or after market hours"
   ]
  },
  {
   "cell_type": "code",
   "execution_count": 38,
   "metadata": {},
   "outputs": [],
   "source": [
    "X= tweets_inau_nona['text']"
   ]
  },
  {
   "cell_type": "code",
   "execution_count": 39,
   "metadata": {
    "scrolled": true
   },
   "outputs": [
    {
     "data": {
      "text/plain": [
       "date\n",
       "2017-03-31    The meeting next week with China will be a ver...\n",
       "2017-04-12    I explained to the President of China that a t...\n",
       "2017-04-12    North Korea is looking for trouble. If China d...\n",
       "2017-04-13    Had a very good call last night with the Presi...\n",
       "2017-06-21    While I greatly appreciate the efforts of Pres...\n",
       "Name: text, dtype: object"
      ]
     },
     "execution_count": 39,
     "metadata": {},
     "output_type": "execute_result"
    }
   ],
   "source": [
    "X.head()"
   ]
  },
  {
   "cell_type": "code",
   "execution_count": 40,
   "metadata": {},
   "outputs": [],
   "source": [
    "from sklearn.preprocessing import LabelEncoder"
   ]
  },
  {
   "cell_type": "code",
   "execution_count": 41,
   "metadata": {},
   "outputs": [
    {
     "name": "stderr",
     "output_type": "stream",
     "text": [
      "C:\\Users\\gen80\\Anaconda3\\lib\\site-packages\\pandas\\core\\indexing.py:966: SettingWithCopyWarning: \n",
      "A value is trying to be set on a copy of a slice from a DataFrame.\n",
      "Try using .loc[row_indexer,col_indexer] = value instead\n",
      "\n",
      "See the caveats in the documentation: https://pandas.pydata.org/pandas-docs/stable/user_guide/indexing.html#returning-a-view-versus-a-copy\n",
      "  self.obj[item] = s\n"
     ]
    }
   ],
   "source": [
    "# transform 'sign_change' column to numerical values to make it a 'y' (answer column) to train ML model to predict answers(y) given features(X)\n",
    "\n",
    "le = LabelEncoder() \n",
    "tweets_inau_nona.loc[:,'sign_change'] = le.fit_transform(tweets_inau_nona['sign_change'])"
   ]
  },
  {
   "cell_type": "code",
   "execution_count": 42,
   "metadata": {},
   "outputs": [
    {
     "data": {
      "text/plain": [
       "date\n",
       "2017-03-31    0\n",
       "2017-04-12    1\n",
       "2017-04-12    1\n",
       "2017-04-13    0\n",
       "2017-06-21    0\n",
       "Name: sign_change, dtype: int32"
      ]
     },
     "execution_count": 42,
     "metadata": {},
     "output_type": "execute_result"
    }
   ],
   "source": [
    "tweets_inau_nona['sign_change'].head()"
   ]
  },
  {
   "cell_type": "code",
   "execution_count": 43,
   "metadata": {},
   "outputs": [],
   "source": [
    "y = tweets_inau_nona['sign_change']"
   ]
  },
  {
   "cell_type": "code",
   "execution_count": 44,
   "metadata": {},
   "outputs": [
    {
     "data": {
      "text/plain": [
       "date\n",
       "2017-03-31    0\n",
       "2017-04-12    1\n",
       "2017-04-12    1\n",
       "2017-04-13    0\n",
       "2017-06-21    0\n",
       "Name: sign_change, dtype: int32"
      ]
     },
     "execution_count": 44,
     "metadata": {},
     "output_type": "execute_result"
    }
   ],
   "source": [
    "y.head()"
   ]
  },
  {
   "cell_type": "markdown",
   "metadata": {},
   "source": [
    "#### create a features set X by turning the text strings into Term-frequency-adjusted bag-of-words matrix"
   ]
  },
  {
   "cell_type": "code",
   "execution_count": 45,
   "metadata": {},
   "outputs": [],
   "source": [
    "from sklearn.naive_bayes import BernoulliNB, GaussianNB\n",
    "from sklearn.linear_model import LogisticRegression, LinearRegression"
   ]
  },
  {
   "cell_type": "code",
   "execution_count": 46,
   "metadata": {},
   "outputs": [],
   "source": [
    "from sklearn.feature_extraction.text import TfidfVectorizer"
   ]
  },
  {
   "cell_type": "code",
   "execution_count": 47,
   "metadata": {},
   "outputs": [],
   "source": [
    "from sklearn.model_selection import train_test_split"
   ]
  },
  {
   "cell_type": "code",
   "execution_count": 48,
   "metadata": {},
   "outputs": [],
   "source": [
    "X_train,X_test,y_train,y_test = train_test_split(X,y,test_size=0.2)"
   ]
  },
  {
   "cell_type": "code",
   "execution_count": 49,
   "metadata": {},
   "outputs": [],
   "source": [
    "tfidf= TfidfVectorizer()\n",
    "\n",
    "X_train_tsf = tfidf.fit_transform(X_train).tocsc()\n",
    "X_test_tsf = tfidf.transform(X_test).tocsc()"
   ]
  },
  {
   "cell_type": "code",
   "execution_count": 50,
   "metadata": {},
   "outputs": [],
   "source": [
    "#check all the vocab from the text strings and their total occurences in input data \n",
    "\n",
    "#tfidf.vocabulary_"
   ]
  },
  {
   "cell_type": "code",
   "execution_count": 51,
   "metadata": {},
   "outputs": [
    {
     "data": {
      "text/plain": [
       "array([4.5204608 , 5.43675153, 5.03128643, ..., 4.74360435, 5.43675153,\n",
       "       4.74360435])"
      ]
     },
     "execution_count": 51,
     "metadata": {},
     "output_type": "execute_result"
    }
   ],
   "source": [
    "# check inverse document frequency\n",
    "tfidf.idf_"
   ]
  },
  {
   "cell_type": "code",
   "execution_count": 52,
   "metadata": {},
   "outputs": [],
   "source": [
    "# get all the vocabs\n",
    "#tfidf.get_feature_names()"
   ]
  },
  {
   "cell_type": "code",
   "execution_count": 53,
   "metadata": {},
   "outputs": [
    {
     "data": {
      "text/plain": [
       "(168, 1418)"
      ]
     },
     "execution_count": 53,
     "metadata": {},
     "output_type": "execute_result"
    }
   ],
   "source": [
    "X_train_tsf.shape"
   ]
  },
  {
   "cell_type": "code",
   "execution_count": 54,
   "metadata": {},
   "outputs": [
    {
     "data": {
      "text/plain": [
       "(43, 1418)"
      ]
     },
     "execution_count": 54,
     "metadata": {},
     "output_type": "execute_result"
    }
   ],
   "source": [
    "X_test_tsf.shape"
   ]
  },
  {
   "cell_type": "markdown",
   "metadata": {},
   "source": [
    "Try Binary Naive Bayes Machine Learning classifier"
   ]
  },
  {
   "cell_type": "code",
   "execution_count": 55,
   "metadata": {},
   "outputs": [
    {
     "data": {
      "text/plain": [
       "BernoulliNB(alpha=1.0, binarize=0.0, class_prior=None, fit_prior=True)"
      ]
     },
     "execution_count": 55,
     "metadata": {},
     "output_type": "execute_result"
    }
   ],
   "source": [
    "bnb =BernoulliNB()\n",
    "bnb.fit(X_train_tsf,y_train)"
   ]
  },
  {
   "cell_type": "code",
   "execution_count": 56,
   "metadata": {},
   "outputs": [
    {
     "data": {
      "text/plain": [
       "0.9940476190476191"
      ]
     },
     "execution_count": 56,
     "metadata": {},
     "output_type": "execute_result"
    }
   ],
   "source": [
    "bnb.score(X_train_tsf,y_train)"
   ]
  },
  {
   "cell_type": "code",
   "execution_count": 57,
   "metadata": {},
   "outputs": [
    {
     "data": {
      "text/plain": [
       "0.6046511627906976"
      ]
     },
     "execution_count": 57,
     "metadata": {},
     "output_type": "execute_result"
    }
   ],
   "source": [
    "# observation-- high training accuracy does not translate well in test score\n",
    "bnb.score(X_test_tsf,y_test)"
   ]
  },
  {
   "cell_type": "code",
   "execution_count": 58,
   "metadata": {},
   "outputs": [
    {
     "data": {
      "text/plain": [
       "array([[-3.32022832, -4.41884061, -3.72569343, ..., -3.72569343,\n",
       "        -4.41884061, -3.72569343]])"
      ]
     },
     "execution_count": 58,
     "metadata": {},
     "output_type": "execute_result"
    }
   ],
   "source": [
    "# weights for each word in the binary Naive Bayes model\n",
    "bnb.coef_"
   ]
  },
  {
   "cell_type": "code",
   "execution_count": 59,
   "metadata": {},
   "outputs": [
    {
     "data": {
      "text/plain": [
       "array([0])"
      ]
     },
     "execution_count": 59,
     "metadata": {},
     "output_type": "execute_result"
    }
   ],
   "source": [
    "# test a string for prediction. model predicted it to have positive sentiment\n",
    "bnb.predict(X_test_tsf[0])"
   ]
  },
  {
   "cell_type": "code",
   "execution_count": 60,
   "metadata": {},
   "outputs": [
    {
     "data": {
      "text/plain": [
       "'China is doing very badly worst year in 27 - was supposed to start buying our agricultural product now - no signs that they are doing so. That is the problem with China they just don’t come through. Our Economy has become MUCH larger than the Chinese Economy is last 3 years....'"
      ]
     },
     "execution_count": 60,
     "metadata": {},
     "output_type": "execute_result"
    }
   ],
   "source": [
    "#compare the prediction with human judgement: this sentence is actually Neutral on market\n",
    "##to-do: need to add a 'Neutral' class to original labeling of y\n",
    "\n",
    "X_test[0]"
   ]
  },
  {
   "cell_type": "markdown",
   "metadata": {},
   "source": [
    "Try another type of binary classifier to see if the model can get better accuracy"
   ]
  },
  {
   "cell_type": "code",
   "execution_count": 61,
   "metadata": {},
   "outputs": [
    {
     "data": {
      "text/plain": [
       "LogisticRegression(C=1.0, class_weight=None, dual=False, fit_intercept=True,\n",
       "                   intercept_scaling=1, l1_ratio=None, max_iter=100,\n",
       "                   multi_class='auto', n_jobs=None, penalty='l2',\n",
       "                   random_state=None, solver='lbfgs', tol=0.0001, verbose=0,\n",
       "                   warm_start=False)"
      ]
     },
     "execution_count": 61,
     "metadata": {},
     "output_type": "execute_result"
    }
   ],
   "source": [
    "lr = LogisticRegression()\n",
    "lr.fit(X_train_tsf,y_train)"
   ]
  },
  {
   "cell_type": "code",
   "execution_count": 62,
   "metadata": {},
   "outputs": [
    {
     "data": {
      "text/plain": [
       "0.46511627906976744"
      ]
     },
     "execution_count": 62,
     "metadata": {},
     "output_type": "execute_result"
    }
   ],
   "source": [
    "#new model result also not doing very good on the test data. \n",
    "\n",
    "lr.score(X_test_tsf,y_test)"
   ]
  },
  {
   "cell_type": "code",
   "execution_count": 63,
   "metadata": {},
   "outputs": [
    {
     "data": {
      "text/plain": [
       "array([[-0.09350873, -0.06586615, -0.01435824, ..., -0.05584902,\n",
       "        -0.10322061, -0.073659  ]])"
      ]
     },
     "execution_count": 63,
     "metadata": {},
     "output_type": "execute_result"
    }
   ],
   "source": [
    "lr.coef_"
   ]
  },
  {
   "cell_type": "code",
   "execution_count": 64,
   "metadata": {
    "scrolled": true
   },
   "outputs": [
    {
     "data": {
      "text/plain": [
       "array([[0.49292213, 0.50707787]])"
      ]
     },
     "execution_count": 64,
     "metadata": {},
     "output_type": "execute_result"
    }
   ],
   "source": [
    "#check how confident the prediction is for each of positive/negative class labels\n",
    "# below the prediction is not very certain which is correct label\n",
    "\n",
    "lr.predict_proba(X_test_tsf[0])"
   ]
  },
  {
   "cell_type": "code",
   "execution_count": 65,
   "metadata": {},
   "outputs": [],
   "source": [
    "#check what weights the binary classifier has learned for each word\n",
    "\n",
    "vocab = tfidf.get_feature_names()\n",
    "weights = lr.coef_.flatten()\n",
    "\n",
    "# get  20 most weighted negative/positive words\n",
    "inds = np.argsort(lr.coef_.flatten())\n",
    "negative_words = [vocab[index] for index in inds[:20]]\n",
    "positive_words = [vocab[index] for index in inds[-20:]]\n",
    "neg_words_weights = [(weights[index]) for index in inds[:20]]\n",
    "pos_words_weights = [(weights[index]) for index in inds[-20:]]\n",
    "\n",
    "df = pd.DataFrame({'Neg feats':negative_words, 'Neg weights':neg_words_weights, \n",
    "                   'Pos feats':positive_words, 'Pos weights':pos_words_weights})"
   ]
  },
  {
   "cell_type": "code",
   "execution_count": 66,
   "metadata": {
    "scrolled": true
   },
   "outputs": [
    {
     "data": {
      "text/html": [
       "<div>\n",
       "<style scoped>\n",
       "    .dataframe tbody tr th:only-of-type {\n",
       "        vertical-align: middle;\n",
       "    }\n",
       "\n",
       "    .dataframe tbody tr th {\n",
       "        vertical-align: top;\n",
       "    }\n",
       "\n",
       "    .dataframe thead th {\n",
       "        text-align: right;\n",
       "    }\n",
       "</style>\n",
       "<table border=\"1\" class=\"dataframe\">\n",
       "  <thead>\n",
       "    <tr style=\"text-align: right;\">\n",
       "      <th></th>\n",
       "      <th>Neg feats</th>\n",
       "      <th>Neg weights</th>\n",
       "      <th>Pos feats</th>\n",
       "      <th>Pos weights</th>\n",
       "    </tr>\n",
       "  </thead>\n",
       "  <tbody>\n",
       "    <tr>\n",
       "      <th>0</th>\n",
       "      <td>so</td>\n",
       "      <td>-0.587945</td>\n",
       "      <td>well</td>\n",
       "      <td>0.325938</td>\n",
       "    </tr>\n",
       "    <tr>\n",
       "      <th>1</th>\n",
       "      <td>had</td>\n",
       "      <td>-0.541165</td>\n",
       "      <td>others</td>\n",
       "      <td>0.332928</td>\n",
       "    </tr>\n",
       "    <tr>\n",
       "      <th>2</th>\n",
       "      <td>chinese</td>\n",
       "      <td>-0.464427</td>\n",
       "      <td>them</td>\n",
       "      <td>0.334355</td>\n",
       "    </tr>\n",
       "    <tr>\n",
       "      <th>3</th>\n",
       "      <td>no</td>\n",
       "      <td>-0.460902</td>\n",
       "      <td>out</td>\n",
       "      <td>0.344501</td>\n",
       "    </tr>\n",
       "    <tr>\n",
       "      <th>4</th>\n",
       "      <td>korea</td>\n",
       "      <td>-0.443129</td>\n",
       "      <td>it</td>\n",
       "      <td>0.347864</td>\n",
       "    </tr>\n",
       "    <tr>\n",
       "      <th>5</th>\n",
       "      <td>playing</td>\n",
       "      <td>-0.411239</td>\n",
       "      <td>massive</td>\n",
       "      <td>0.350765</td>\n",
       "    </tr>\n",
       "    <tr>\n",
       "      <th>6</th>\n",
       "      <td>can</td>\n",
       "      <td>-0.381958</td>\n",
       "      <td>is</td>\n",
       "      <td>0.352805</td>\n",
       "    </tr>\n",
       "    <tr>\n",
       "      <th>7</th>\n",
       "      <td>due</td>\n",
       "      <td>-0.375781</td>\n",
       "      <td>for</td>\n",
       "      <td>0.378051</td>\n",
       "    </tr>\n",
       "    <tr>\n",
       "      <th>8</th>\n",
       "      <td>not</td>\n",
       "      <td>-0.356889</td>\n",
       "      <td>lavar</td>\n",
       "      <td>0.388650</td>\n",
       "    </tr>\n",
       "    <tr>\n",
       "      <th>9</th>\n",
       "      <td>take</td>\n",
       "      <td>-0.355290</td>\n",
       "      <td>money</td>\n",
       "      <td>0.389250</td>\n",
       "    </tr>\n",
       "    <tr>\n",
       "      <th>10</th>\n",
       "      <td>usa</td>\n",
       "      <td>-0.336790</td>\n",
       "      <td>after</td>\n",
       "      <td>0.402903</td>\n",
       "    </tr>\n",
       "    <tr>\n",
       "      <th>11</th>\n",
       "      <td>anything</td>\n",
       "      <td>-0.332713</td>\n",
       "      <td>move</td>\n",
       "      <td>0.409202</td>\n",
       "    </tr>\n",
       "    <tr>\n",
       "      <th>12</th>\n",
       "      <td>does</td>\n",
       "      <td>-0.331754</td>\n",
       "      <td>agricultural</td>\n",
       "      <td>0.414073</td>\n",
       "    </tr>\n",
       "    <tr>\n",
       "      <th>13</th>\n",
       "      <td>put</td>\n",
       "      <td>-0.318932</td>\n",
       "      <td>make</td>\n",
       "      <td>0.416158</td>\n",
       "    </tr>\n",
       "    <tr>\n",
       "      <th>14</th>\n",
       "      <td>at</td>\n",
       "      <td>-0.318027</td>\n",
       "      <td>solve</td>\n",
       "      <td>0.437238</td>\n",
       "    </tr>\n",
       "    <tr>\n",
       "      <th>15</th>\n",
       "      <td>ve</td>\n",
       "      <td>-0.311611</td>\n",
       "      <td>very</td>\n",
       "      <td>0.484641</td>\n",
       "    </tr>\n",
       "    <tr>\n",
       "      <th>16</th>\n",
       "      <td>which</td>\n",
       "      <td>-0.311460</td>\n",
       "      <td>big</td>\n",
       "      <td>0.509373</td>\n",
       "    </tr>\n",
       "    <tr>\n",
       "      <th>17</th>\n",
       "      <td>he</td>\n",
       "      <td>-0.301530</td>\n",
       "      <td>farmers</td>\n",
       "      <td>0.536330</td>\n",
       "    </tr>\n",
       "    <tr>\n",
       "      <th>18</th>\n",
       "      <td>joe</td>\n",
       "      <td>-0.299517</td>\n",
       "      <td>problem</td>\n",
       "      <td>0.541933</td>\n",
       "    </tr>\n",
       "    <tr>\n",
       "      <th>19</th>\n",
       "      <td>rate</td>\n",
       "      <td>-0.297006</td>\n",
       "      <td>will</td>\n",
       "      <td>0.622833</td>\n",
       "    </tr>\n",
       "  </tbody>\n",
       "</table>\n",
       "</div>"
      ],
      "text/plain": [
       "   Neg feats  Neg weights     Pos feats  Pos weights\n",
       "0         so    -0.587945          well     0.325938\n",
       "1        had    -0.541165        others     0.332928\n",
       "2    chinese    -0.464427          them     0.334355\n",
       "3         no    -0.460902           out     0.344501\n",
       "4      korea    -0.443129            it     0.347864\n",
       "5    playing    -0.411239       massive     0.350765\n",
       "6        can    -0.381958            is     0.352805\n",
       "7        due    -0.375781           for     0.378051\n",
       "8        not    -0.356889         lavar     0.388650\n",
       "9       take    -0.355290         money     0.389250\n",
       "10       usa    -0.336790         after     0.402903\n",
       "11  anything    -0.332713          move     0.409202\n",
       "12      does    -0.331754  agricultural     0.414073\n",
       "13       put    -0.318932          make     0.416158\n",
       "14        at    -0.318027         solve     0.437238\n",
       "15        ve    -0.311611          very     0.484641\n",
       "16     which    -0.311460           big     0.509373\n",
       "17        he    -0.301530       farmers     0.536330\n",
       "18       joe    -0.299517       problem     0.541933\n",
       "19      rate    -0.297006          will     0.622833"
      ]
     },
     "execution_count": 66,
     "metadata": {},
     "output_type": "execute_result"
    }
   ],
   "source": [
    "##comment-- these is not right. words \"had\" and \"so\" does not have negative meaning in themselves. \"will\" and \"too\" are not positive words.\n",
    "\n",
    "#follow-up: need to remove some stopwords; also have to teach it about vocabulary of pos/neg sentiment\n",
    "df"
   ]
  },
  {
   "cell_type": "markdown",
   "metadata": {},
   "source": [
    "### Try removing stopwords when building feature matrix and check results"
   ]
  },
  {
   "cell_type": "code",
   "execution_count": 67,
   "metadata": {},
   "outputs": [],
   "source": [
    "from sklearn.feature_extraction.text import CountVectorizer\n",
    "vec = CountVectorizer(max_features=5000,                       \n",
    "                      stop_words='english')\n",
    "X_train_counts = vec.fit_transform(X_train) \n",
    "X_test_counts = vec.transform(X_test) "
   ]
  },
  {
   "cell_type": "code",
   "execution_count": 68,
   "metadata": {},
   "outputs": [
    {
     "data": {
      "text/plain": [
       "LogisticRegression(C=1.0, class_weight=None, dual=False, fit_intercept=True,\n",
       "                   intercept_scaling=1, l1_ratio=None, max_iter=100,\n",
       "                   multi_class='auto', n_jobs=None, penalty='l2',\n",
       "                   random_state=None, solver='lbfgs', tol=0.0001, verbose=0,\n",
       "                   warm_start=False)"
      ]
     },
     "execution_count": 68,
     "metadata": {},
     "output_type": "execute_result"
    }
   ],
   "source": [
    "lr2 = LogisticRegression()\n",
    "lr2.fit(X_train_counts,y_train)"
   ]
  },
  {
   "cell_type": "code",
   "execution_count": 69,
   "metadata": {},
   "outputs": [
    {
     "data": {
      "text/plain": [
       "0.5581395348837209"
      ]
     },
     "execution_count": 69,
     "metadata": {},
     "output_type": "execute_result"
    }
   ],
   "source": [
    "#after removing stop-words, accuracy is better than above? 55.8% above\n",
    "\n",
    "##ummm... test score is 65% for 2nd run, versus 53% for 1st run... means the random split did something as sample size too small, not that the model is good\n",
    "lr2.score(X_test_counts,y_test)"
   ]
  },
  {
   "cell_type": "code",
   "execution_count": 70,
   "metadata": {},
   "outputs": [
    {
     "data": {
      "text/plain": [
       "array([[-0.03045494, -0.07086442, -0.06505135, ..., -0.11892395,\n",
       "        -0.15129027, -0.0556343 ]])"
      ]
     },
     "execution_count": 70,
     "metadata": {},
     "output_type": "execute_result"
    }
   ],
   "source": [
    "lr2.coef_"
   ]
  },
  {
   "cell_type": "code",
   "execution_count": 71,
   "metadata": {
    "scrolled": true
   },
   "outputs": [
    {
     "data": {
      "text/plain": [
       "array([[0.2056884, 0.7943116]])"
      ]
     },
     "execution_count": 71,
     "metadata": {},
     "output_type": "execute_result"
    }
   ],
   "source": [
    "# this prediction from model is confident\n",
    "lr2.predict_proba(X_test_counts[0])"
   ]
  },
  {
   "cell_type": "code",
   "execution_count": 72,
   "metadata": {
    "scrolled": true
   },
   "outputs": [
    {
     "data": {
      "text/html": [
       "<div>\n",
       "<style scoped>\n",
       "    .dataframe tbody tr th:only-of-type {\n",
       "        vertical-align: middle;\n",
       "    }\n",
       "\n",
       "    .dataframe tbody tr th {\n",
       "        vertical-align: top;\n",
       "    }\n",
       "\n",
       "    .dataframe thead th {\n",
       "        text-align: right;\n",
       "    }\n",
       "</style>\n",
       "<table border=\"1\" class=\"dataframe\">\n",
       "  <thead>\n",
       "    <tr style=\"text-align: right;\">\n",
       "      <th></th>\n",
       "      <th>Neg feats</th>\n",
       "      <th>Neg weights</th>\n",
       "      <th>Pos feats</th>\n",
       "      <th>Pos weights</th>\n",
       "    </tr>\n",
       "  </thead>\n",
       "  <tbody>\n",
       "    <tr>\n",
       "      <th>0</th>\n",
       "      <td>chinese</td>\n",
       "      <td>-0.617227</td>\n",
       "      <td>summit</td>\n",
       "      <td>0.417075</td>\n",
       "    </tr>\n",
       "    <tr>\n",
       "      <th>1</th>\n",
       "      <td>does</td>\n",
       "      <td>-0.575310</td>\n",
       "      <td>day</td>\n",
       "      <td>0.422890</td>\n",
       "    </tr>\n",
       "    <tr>\n",
       "      <th>2</th>\n",
       "      <td>usa</td>\n",
       "      <td>-0.552210</td>\n",
       "      <td>fast</td>\n",
       "      <td>0.424448</td>\n",
       "    </tr>\n",
       "    <tr>\n",
       "      <th>3</th>\n",
       "      <td>playing</td>\n",
       "      <td>-0.525858</td>\n",
       "      <td>currently</td>\n",
       "      <td>0.434890</td>\n",
       "    </tr>\n",
       "    <tr>\n",
       "      <th>4</th>\n",
       "      <td>let</td>\n",
       "      <td>-0.498426</td>\n",
       "      <td>pouring</td>\n",
       "      <td>0.440874</td>\n",
       "    </tr>\n",
       "    <tr>\n",
       "      <th>5</th>\n",
       "      <td>believe</td>\n",
       "      <td>-0.487639</td>\n",
       "      <td>talking</td>\n",
       "      <td>0.441090</td>\n",
       "    </tr>\n",
       "    <tr>\n",
       "      <th>6</th>\n",
       "      <td>advantage</td>\n",
       "      <td>-0.453604</td>\n",
       "      <td>big</td>\n",
       "      <td>0.449126</td>\n",
       "    </tr>\n",
       "    <tr>\n",
       "      <th>7</th>\n",
       "      <td>korea</td>\n",
       "      <td>-0.452333</td>\n",
       "      <td>probably</td>\n",
       "      <td>0.449845</td>\n",
       "    </tr>\n",
       "    <tr>\n",
       "      <th>8</th>\n",
       "      <td>million</td>\n",
       "      <td>-0.424802</td>\n",
       "      <td>lavar</td>\n",
       "      <td>0.473788</td>\n",
       "    </tr>\n",
       "    <tr>\n",
       "      <th>9</th>\n",
       "      <td>future</td>\n",
       "      <td>-0.419119</td>\n",
       "      <td>happens</td>\n",
       "      <td>0.504671</td>\n",
       "    </tr>\n",
       "    <tr>\n",
       "      <th>10</th>\n",
       "      <td>ve</td>\n",
       "      <td>-0.412038</td>\n",
       "      <td>doing</td>\n",
       "      <td>0.506044</td>\n",
       "    </tr>\n",
       "    <tr>\n",
       "      <th>11</th>\n",
       "      <td>currency</td>\n",
       "      <td>-0.401869</td>\n",
       "      <td>things</td>\n",
       "      <td>0.516940</td>\n",
       "    </tr>\n",
       "    <tr>\n",
       "      <th>12</th>\n",
       "      <td>greatly</td>\n",
       "      <td>-0.400465</td>\n",
       "      <td>productive</td>\n",
       "      <td>0.527651</td>\n",
       "    </tr>\n",
       "    <tr>\n",
       "      <th>13</th>\n",
       "      <td>real</td>\n",
       "      <td>-0.391927</td>\n",
       "      <td>money</td>\n",
       "      <td>0.605239</td>\n",
       "    </tr>\n",
       "    <tr>\n",
       "      <th>14</th>\n",
       "      <td>negotiate</td>\n",
       "      <td>-0.383035</td>\n",
       "      <td>massive</td>\n",
       "      <td>0.615958</td>\n",
       "    </tr>\n",
       "    <tr>\n",
       "      <th>15</th>\n",
       "      <td>ahead</td>\n",
       "      <td>-0.378566</td>\n",
       "      <td>agricultural</td>\n",
       "      <td>0.626718</td>\n",
       "    </tr>\n",
       "    <tr>\n",
       "      <th>16</th>\n",
       "      <td>better</td>\n",
       "      <td>-0.377657</td>\n",
       "      <td>make</td>\n",
       "      <td>0.653817</td>\n",
       "    </tr>\n",
       "    <tr>\n",
       "      <th>17</th>\n",
       "      <td>rate</td>\n",
       "      <td>-0.374216</td>\n",
       "      <td>farmers</td>\n",
       "      <td>0.655412</td>\n",
       "    </tr>\n",
       "    <tr>\n",
       "      <th>18</th>\n",
       "      <td>hundreds</td>\n",
       "      <td>-0.370375</td>\n",
       "      <td>solve</td>\n",
       "      <td>0.712668</td>\n",
       "    </tr>\n",
       "    <tr>\n",
       "      <th>19</th>\n",
       "      <td>treated</td>\n",
       "      <td>-0.369818</td>\n",
       "      <td>problem</td>\n",
       "      <td>0.768954</td>\n",
       "    </tr>\n",
       "  </tbody>\n",
       "</table>\n",
       "</div>"
      ],
      "text/plain": [
       "    Neg feats  Neg weights     Pos feats  Pos weights\n",
       "0     chinese    -0.617227        summit     0.417075\n",
       "1        does    -0.575310           day     0.422890\n",
       "2         usa    -0.552210          fast     0.424448\n",
       "3     playing    -0.525858     currently     0.434890\n",
       "4         let    -0.498426       pouring     0.440874\n",
       "5     believe    -0.487639       talking     0.441090\n",
       "6   advantage    -0.453604           big     0.449126\n",
       "7       korea    -0.452333      probably     0.449845\n",
       "8     million    -0.424802         lavar     0.473788\n",
       "9      future    -0.419119       happens     0.504671\n",
       "10         ve    -0.412038         doing     0.506044\n",
       "11   currency    -0.401869        things     0.516940\n",
       "12    greatly    -0.400465    productive     0.527651\n",
       "13       real    -0.391927         money     0.605239\n",
       "14  negotiate    -0.383035       massive     0.615958\n",
       "15      ahead    -0.378566  agricultural     0.626718\n",
       "16     better    -0.377657          make     0.653817\n",
       "17       rate    -0.374216       farmers     0.655412\n",
       "18   hundreds    -0.370375         solve     0.712668\n",
       "19    treated    -0.369818       problem     0.768954"
      ]
     },
     "execution_count": 72,
     "metadata": {},
     "output_type": "execute_result"
    }
   ],
   "source": [
    "#see if it learnt better weightings for each word\n",
    "# top 20 weighted positive/nagative-sentiment associated words: much more correct in identifying positive words than above\n",
    "\n",
    "vocab = vec.get_feature_names()\n",
    "weights = lr2.coef_.flatten()\n",
    "\n",
    "inds = np.argsort(lr2.coef_.flatten())\n",
    "negative_words = [vocab[index] for index in inds[:20]]\n",
    "positive_words = [vocab[index] for index in inds[-20:]]\n",
    "neg_words_weights = [(weights[index]) for index in inds[:20]]\n",
    "pos_words_weights = [(weights[index]) for index in inds[-20:]]\n",
    "\n",
    "df2 = pd.DataFrame({'Neg feats':negative_words, 'Neg weights':neg_words_weights, \n",
    "                   'Pos feats':positive_words, 'Pos weights':pos_words_weights})\n",
    "df2"
   ]
  },
  {
   "cell_type": "markdown",
   "metadata": {},
   "source": [
    "Trying to pass a custom vocab dict to tfidf_vectorizer and see if it can achieve better training results "
   ]
  },
  {
   "cell_type": "code",
   "execution_count": 73,
   "metadata": {},
   "outputs": [],
   "source": [
    "\n",
    "\n",
    "manual_vocabulary = {}\n",
    "\n",
    "file = open(r'D:\\Documents\\Docs_oldnew\\trump_tweet_api\\keywords_count_dict.txt')\n",
    "count = 0\n",
    "for line in file:\n",
    "    \n",
    "    manual_vocabulary[line.split(':')[0]] = count\n",
    "    count +=1"
   ]
  },
  {
   "cell_type": "code",
   "execution_count": 74,
   "metadata": {},
   "outputs": [],
   "source": [
    "# try adding some manually-defined keywords with weights(custom vocabulary)\n",
    "#manual_vocabulary"
   ]
  },
  {
   "cell_type": "code",
   "execution_count": 75,
   "metadata": {},
   "outputs": [],
   "source": [
    "tfidf2 = TfidfVectorizer(vocabulary = manual_vocabulary)\n",
    "\n",
    "X_train_tsf2 = tfidf2.fit_transform(X_train).tocsc()\n",
    "X_test_tsf2 = tfidf2.transform(X_test).tocsc()\n"
   ]
  },
  {
   "cell_type": "code",
   "execution_count": 76,
   "metadata": {
    "scrolled": true
   },
   "outputs": [
    {
     "data": {
      "text/plain": [
       "array([2.32323623, 2.60353819, 3.73200344, 5.43675153, 4.18398857,\n",
       "       6.12989871, 5.03128643, 5.43675153, 3.73200344, 6.12989871,\n",
       "       3.82731362, 3.56494936, 4.18398857, 4.5204608 , 6.12989871,\n",
       "       6.12989871, 5.03128643, 6.12989871, 5.43675153, 5.43675153,\n",
       "       4.74360435, 5.03128643, 4.5204608 , 2.87180218, 3.93267414,\n",
       "       5.43675153, 3.93267414, 4.5204608 , 5.43675153, 6.12989871,\n",
       "       5.03128643, 2.5189808 , 4.5204608 , 4.05045717, 4.05045717,\n",
       "       5.43675153, 4.18398857, 5.43675153, 4.33813925, 6.12989871,\n",
       "       4.5204608 ])"
      ]
     },
     "execution_count": 76,
     "metadata": {},
     "output_type": "execute_result"
    }
   ],
   "source": [
    "#  this custom dictionary has similar inverse document frequencies\n",
    "tfidf2.idf_"
   ]
  },
  {
   "cell_type": "code",
   "execution_count": 77,
   "metadata": {},
   "outputs": [],
   "source": [
    "#tfidf2.get_feature_names()  ##a list of keys of input manual_vocab"
   ]
  },
  {
   "cell_type": "code",
   "execution_count": 78,
   "metadata": {},
   "outputs": [
    {
     "data": {
      "text/plain": [
       "dict_keys(['trade', 'deal', 'currency', 'sell', 'products', 'decide', 'agree', 'meet', 'meeting', 'surplus', 'billion', 'money', 'economy', 'economic', 'talk', 'spoken', 'call', 'discuss', 'appreciate', 'grew', 'growth', 'financial', 'hopefully', 'much', 'forward', 'stronger', 'relationship', 'progress', 'disappointed', 'foolish', 'deficit', 'not', 'yet', 'nothing', 'little', 'tax', 'tariff', 'incompetence', 'advantage', 'loss', 'losing'])"
      ]
     },
     "execution_count": 78,
     "metadata": {},
     "output_type": "execute_result"
    }
   ],
   "source": [
    "tfidf2.vocabulary_.keys()"
   ]
  },
  {
   "cell_type": "markdown",
   "metadata": {},
   "source": [
    "now try train a lr model with tfidf2 fed with custom vocab"
   ]
  },
  {
   "cell_type": "code",
   "execution_count": 79,
   "metadata": {
    "scrolled": false
   },
   "outputs": [
    {
     "name": "stdout",
     "output_type": "stream",
     "text": [
      "0.6369047619047619\n",
      "0.5116279069767442\n"
     ]
    }
   ],
   "source": [
    "\n",
    "### comment: even worse results, probably because the vocab could not cover all words in tweets\n",
    "\n",
    "lr_md = LogisticRegression()\n",
    "lr_md.fit(X_train_tsf2,y_train)\n",
    "print(lr_md.score(X_train_tsf2,y_train))\n",
    "print(lr_md.score(X_test_tsf2,y_test))\n"
   ]
  },
  {
   "cell_type": "code",
   "execution_count": 80,
   "metadata": {},
   "outputs": [
    {
     "data": {
      "text/html": [
       "<div>\n",
       "<style scoped>\n",
       "    .dataframe tbody tr th:only-of-type {\n",
       "        vertical-align: middle;\n",
       "    }\n",
       "\n",
       "    .dataframe tbody tr th {\n",
       "        vertical-align: top;\n",
       "    }\n",
       "\n",
       "    .dataframe thead th {\n",
       "        text-align: right;\n",
       "    }\n",
       "</style>\n",
       "<table border=\"1\" class=\"dataframe\">\n",
       "  <thead>\n",
       "    <tr style=\"text-align: right;\">\n",
       "      <th></th>\n",
       "      <th>vocabs</th>\n",
       "      <th>weights</th>\n",
       "    </tr>\n",
       "  </thead>\n",
       "  <tbody>\n",
       "    <tr>\n",
       "      <th>0</th>\n",
       "      <td>trade</td>\n",
       "      <td>0.209263</td>\n",
       "    </tr>\n",
       "    <tr>\n",
       "      <th>1</th>\n",
       "      <td>deal</td>\n",
       "      <td>0.352278</td>\n",
       "    </tr>\n",
       "    <tr>\n",
       "      <th>2</th>\n",
       "      <td>currency</td>\n",
       "      <td>-0.845862</td>\n",
       "    </tr>\n",
       "    <tr>\n",
       "      <th>3</th>\n",
       "      <td>sell</td>\n",
       "      <td>0.303063</td>\n",
       "    </tr>\n",
       "    <tr>\n",
       "      <th>4</th>\n",
       "      <td>products</td>\n",
       "      <td>0.463128</td>\n",
       "    </tr>\n",
       "    <tr>\n",
       "      <th>5</th>\n",
       "      <td>decide</td>\n",
       "      <td>0.000000</td>\n",
       "    </tr>\n",
       "    <tr>\n",
       "      <th>6</th>\n",
       "      <td>agree</td>\n",
       "      <td>-0.057844</td>\n",
       "    </tr>\n",
       "    <tr>\n",
       "      <th>7</th>\n",
       "      <td>meet</td>\n",
       "      <td>0.330195</td>\n",
       "    </tr>\n",
       "    <tr>\n",
       "      <th>8</th>\n",
       "      <td>meeting</td>\n",
       "      <td>0.031795</td>\n",
       "    </tr>\n",
       "    <tr>\n",
       "      <th>9</th>\n",
       "      <td>surplus</td>\n",
       "      <td>0.000000</td>\n",
       "    </tr>\n",
       "    <tr>\n",
       "      <th>10</th>\n",
       "      <td>billion</td>\n",
       "      <td>-0.239425</td>\n",
       "    </tr>\n",
       "    <tr>\n",
       "      <th>11</th>\n",
       "      <td>money</td>\n",
       "      <td>0.790226</td>\n",
       "    </tr>\n",
       "    <tr>\n",
       "      <th>12</th>\n",
       "      <td>economy</td>\n",
       "      <td>0.135388</td>\n",
       "    </tr>\n",
       "    <tr>\n",
       "      <th>13</th>\n",
       "      <td>economic</td>\n",
       "      <td>-0.420916</td>\n",
       "    </tr>\n",
       "    <tr>\n",
       "      <th>14</th>\n",
       "      <td>talk</td>\n",
       "      <td>0.000000</td>\n",
       "    </tr>\n",
       "    <tr>\n",
       "      <th>15</th>\n",
       "      <td>spoken</td>\n",
       "      <td>0.000000</td>\n",
       "    </tr>\n",
       "    <tr>\n",
       "      <th>16</th>\n",
       "      <td>call</td>\n",
       "      <td>0.652187</td>\n",
       "    </tr>\n",
       "    <tr>\n",
       "      <th>17</th>\n",
       "      <td>discuss</td>\n",
       "      <td>0.000000</td>\n",
       "    </tr>\n",
       "    <tr>\n",
       "      <th>18</th>\n",
       "      <td>appreciate</td>\n",
       "      <td>-0.347365</td>\n",
       "    </tr>\n",
       "    <tr>\n",
       "      <th>19</th>\n",
       "      <td>grew</td>\n",
       "      <td>-0.345630</td>\n",
       "    </tr>\n",
       "    <tr>\n",
       "      <th>20</th>\n",
       "      <td>growth</td>\n",
       "      <td>0.131248</td>\n",
       "    </tr>\n",
       "    <tr>\n",
       "      <th>21</th>\n",
       "      <td>financial</td>\n",
       "      <td>-0.040405</td>\n",
       "    </tr>\n",
       "    <tr>\n",
       "      <th>22</th>\n",
       "      <td>hopefully</td>\n",
       "      <td>-0.321160</td>\n",
       "    </tr>\n",
       "    <tr>\n",
       "      <th>23</th>\n",
       "      <td>much</td>\n",
       "      <td>-0.001290</td>\n",
       "    </tr>\n",
       "    <tr>\n",
       "      <th>24</th>\n",
       "      <td>forward</td>\n",
       "      <td>-0.160592</td>\n",
       "    </tr>\n",
       "    <tr>\n",
       "      <th>25</th>\n",
       "      <td>stronger</td>\n",
       "      <td>-0.292158</td>\n",
       "    </tr>\n",
       "    <tr>\n",
       "      <th>26</th>\n",
       "      <td>relationship</td>\n",
       "      <td>0.145067</td>\n",
       "    </tr>\n",
       "    <tr>\n",
       "      <th>27</th>\n",
       "      <td>progress</td>\n",
       "      <td>1.104290</td>\n",
       "    </tr>\n",
       "    <tr>\n",
       "      <th>28</th>\n",
       "      <td>disappointed</td>\n",
       "      <td>0.400221</td>\n",
       "    </tr>\n",
       "    <tr>\n",
       "      <th>29</th>\n",
       "      <td>foolish</td>\n",
       "      <td>0.000000</td>\n",
       "    </tr>\n",
       "    <tr>\n",
       "      <th>30</th>\n",
       "      <td>deficit</td>\n",
       "      <td>-0.036419</td>\n",
       "    </tr>\n",
       "    <tr>\n",
       "      <th>31</th>\n",
       "      <td>not</td>\n",
       "      <td>-0.102860</td>\n",
       "    </tr>\n",
       "    <tr>\n",
       "      <th>32</th>\n",
       "      <td>yet</td>\n",
       "      <td>-0.835075</td>\n",
       "    </tr>\n",
       "    <tr>\n",
       "      <th>33</th>\n",
       "      <td>nothing</td>\n",
       "      <td>-0.331534</td>\n",
       "    </tr>\n",
       "    <tr>\n",
       "      <th>34</th>\n",
       "      <td>little</td>\n",
       "      <td>-0.581384</td>\n",
       "    </tr>\n",
       "    <tr>\n",
       "      <th>35</th>\n",
       "      <td>tax</td>\n",
       "      <td>-0.336617</td>\n",
       "    </tr>\n",
       "    <tr>\n",
       "      <th>36</th>\n",
       "      <td>tariff</td>\n",
       "      <td>0.334805</td>\n",
       "    </tr>\n",
       "    <tr>\n",
       "      <th>37</th>\n",
       "      <td>incompetence</td>\n",
       "      <td>-0.172978</td>\n",
       "    </tr>\n",
       "    <tr>\n",
       "      <th>38</th>\n",
       "      <td>advantage</td>\n",
       "      <td>-0.581232</td>\n",
       "    </tr>\n",
       "    <tr>\n",
       "      <th>39</th>\n",
       "      <td>loss</td>\n",
       "      <td>0.000000</td>\n",
       "    </tr>\n",
       "    <tr>\n",
       "      <th>40</th>\n",
       "      <td>losing</td>\n",
       "      <td>0.103253</td>\n",
       "    </tr>\n",
       "  </tbody>\n",
       "</table>\n",
       "</div>"
      ],
      "text/plain": [
       "          vocabs   weights\n",
       "0          trade  0.209263\n",
       "1           deal  0.352278\n",
       "2       currency -0.845862\n",
       "3           sell  0.303063\n",
       "4       products  0.463128\n",
       "5         decide  0.000000\n",
       "6          agree -0.057844\n",
       "7           meet  0.330195\n",
       "8        meeting  0.031795\n",
       "9        surplus  0.000000\n",
       "10       billion -0.239425\n",
       "11         money  0.790226\n",
       "12       economy  0.135388\n",
       "13      economic -0.420916\n",
       "14          talk  0.000000\n",
       "15        spoken  0.000000\n",
       "16          call  0.652187\n",
       "17       discuss  0.000000\n",
       "18    appreciate -0.347365\n",
       "19          grew -0.345630\n",
       "20        growth  0.131248\n",
       "21     financial -0.040405\n",
       "22     hopefully -0.321160\n",
       "23          much -0.001290\n",
       "24       forward -0.160592\n",
       "25      stronger -0.292158\n",
       "26  relationship  0.145067\n",
       "27      progress  1.104290\n",
       "28  disappointed  0.400221\n",
       "29       foolish  0.000000\n",
       "30       deficit -0.036419\n",
       "31           not -0.102860\n",
       "32           yet -0.835075\n",
       "33       nothing -0.331534\n",
       "34        little -0.581384\n",
       "35           tax -0.336617\n",
       "36        tariff  0.334805\n",
       "37  incompetence -0.172978\n",
       "38     advantage -0.581232\n",
       "39          loss  0.000000\n",
       "40        losing  0.103253"
      ]
     },
     "execution_count": 80,
     "metadata": {},
     "output_type": "execute_result"
    }
   ],
   "source": [
    "##ummm these weights are also counter-intuitive for sentiment reactions. \n",
    "\n",
    "manualdict_coefs_df =pd.DataFrame({\"vocabs\":tfidf2.get_feature_names(), \n",
    "              \"weights\":lr_md.coef_[0]})\n",
    "manualdict_coefs_df"
   ]
  },
  {
   "cell_type": "markdown",
   "metadata": {},
   "source": [
    "## Now testing regression models that output continous value"
   ]
  },
  {
   "cell_type": "code",
   "execution_count": 81,
   "metadata": {},
   "outputs": [],
   "source": [
    "from sklearn.linear_model import LinearRegression"
   ]
  },
  {
   "cell_type": "code",
   "execution_count": 82,
   "metadata": {},
   "outputs": [],
   "source": [
    "lr_r = LinearRegression()"
   ]
  },
  {
   "cell_type": "code",
   "execution_count": 83,
   "metadata": {},
   "outputs": [
    {
     "data": {
      "text/plain": [
       "LinearRegression(copy_X=True, fit_intercept=True, n_jobs=None, normalize=False)"
      ]
     },
     "execution_count": 83,
     "metadata": {},
     "output_type": "execute_result"
    }
   ],
   "source": [
    "lr_r.fit(X_train_tsf,y_train)"
   ]
  },
  {
   "cell_type": "code",
   "execution_count": 84,
   "metadata": {
    "scrolled": true
   },
   "outputs": [
    {
     "data": {
      "text/plain": [
       "0.999999999999997"
      ]
     },
     "execution_count": 84,
     "metadata": {},
     "output_type": "execute_result"
    }
   ],
   "source": [
    "lr_r.score(X_train_tsf,y_train)"
   ]
  },
  {
   "cell_type": "code",
   "execution_count": 85,
   "metadata": {},
   "outputs": [],
   "source": [
    "##scoring metric is differing from above that it can have negative score\n",
    "\n",
    "##Return the coefficient of determination R^2 of the prediction.\n",
    "## The best possible score is 1.0 and it can be negative (because the model can be arbitrarily worse)."
   ]
  },
  {
   "cell_type": "code",
   "execution_count": 86,
   "metadata": {},
   "outputs": [
    {
     "data": {
      "text/plain": [
       "-0.22603844988580502"
      ]
     },
     "execution_count": 86,
     "metadata": {},
     "output_type": "execute_result"
    }
   ],
   "source": [
    "lr_r.score(X_test_tsf,y_test)"
   ]
  },
  {
   "cell_type": "code",
   "execution_count": 87,
   "metadata": {},
   "outputs": [
    {
     "data": {
      "text/plain": [
       "LinearRegression(copy_X=True, fit_intercept=True, n_jobs=None, normalize=False)"
      ]
     },
     "execution_count": 87,
     "metadata": {},
     "output_type": "execute_result"
    }
   ],
   "source": [
    "lr_r2 = LinearRegression()\n",
    "\n",
    "lr_r2.fit(X_train_counts,y_train)"
   ]
  },
  {
   "cell_type": "code",
   "execution_count": 88,
   "metadata": {},
   "outputs": [
    {
     "data": {
      "text/plain": [
       "-0.13456996620595296"
      ]
     },
     "execution_count": 88,
     "metadata": {},
     "output_type": "execute_result"
    }
   ],
   "source": [
    "lr_r2.score(X_test_counts,y_test)"
   ]
  },
  {
   "cell_type": "code",
   "execution_count": 89,
   "metadata": {},
   "outputs": [
    {
     "data": {
      "text/plain": [
       "array([1.23246604])"
      ]
     },
     "execution_count": 89,
     "metadata": {},
     "output_type": "execute_result"
    }
   ],
   "source": [
    "#regression model predicts a float number, while golden answer is an interger-- hard to score it right\n",
    "\n",
    "lr_r2.predict(X_test_counts[0])"
   ]
  },
  {
   "cell_type": "markdown",
   "metadata": {},
   "source": [
    "It seems there's not much valid labeling here.... so learning result is bad"
   ]
  },
  {
   "cell_type": "markdown",
   "metadata": {},
   "source": [
    "### to-do: need to filter more to have better training\n",
    "#also have to check the correlation of keywords and market response"
   ]
  },
  {
   "cell_type": "markdown",
   "metadata": {},
   "source": [
    "### also need to narrow the analysis period to after trade war and forever negotiating trade deals"
   ]
  },
  {
   "cell_type": "code",
   "execution_count": 90,
   "metadata": {},
   "outputs": [],
   "source": [
    "## wikipedia reference \n",
    "# 2018\n",
    "# January 22: Trump announced tariffs on solar panels and washing machines.[80] About 8% of American solar panel imports in 2017 came from China.[81] Imports of residential washing machines from China totaled about $1.1 billion in 2015.[82]\n",
    "# March 1: Trump announced steel and aluminum tariffs on imports from all countries.[83] The United States had imported about 3% of its steel from China.[84]\n",
    "# March 22: Trump asked the United States trade representative (USTR) to investigate applying tariffs on US$50–60 billion worth of Chinese goods.[85][86][87] He relied on Section 301 of the Trade Act of 1974 for doing so, stating that the proposed tariffs were \"a response to the unfair trade practices of China over the years\", including theft of U.S. intellectual property.[88][85] Over 1,300 categories of Chinese imports were listed for tariffs, including aircraft parts, batteries, flat-panel televisions, medical devices, satellites, and various weapons.[89][90]"
   ]
  },
  {
   "cell_type": "markdown",
   "metadata": {},
   "source": [
    "## OH I should use a pretrained sentiment model\n",
    "#coz there're so many words with obvious sentiment that may come up in this new dataset(of Trump)\n",
    "\n",
    "but obviously his unique use of words also needs to be fed into model, as he often uses good words to deliver opposite meaning"
   ]
  },
  {
   "cell_type": "markdown",
   "metadata": {},
   "source": [
    "# Attempt 2: Train a classifier to predict Sentiment on a wider Ordinal scale"
   ]
  },
  {
   "cell_type": "markdown",
   "metadata": {},
   "source": [
    "### Trying out textblob classifier, customly-trained on the 300+ entries hand-annotated dataset related to China"
   ]
  },
  {
   "cell_type": "markdown",
   "metadata": {},
   "source": [
    "should expand to use a larger dataset to fully LEARN talk style of Trump on various occasions"
   ]
  },
  {
   "cell_type": "code",
   "execution_count": 92,
   "metadata": {},
   "outputs": [],
   "source": [
    "annotation_path =r'D:\\Documents\\Docs_oldnew\\trump_tweet_api\\sentimentscale\\\\'\n",
    "trump_clf_df =pd.read_csv(annotation_path+'trump_manuallabeling_alldone.csv')"
   ]
  },
  {
   "cell_type": "code",
   "execution_count": 93,
   "metadata": {},
   "outputs": [
    {
     "data": {
      "text/html": [
       "<div>\n",
       "<style scoped>\n",
       "    .dataframe tbody tr th:only-of-type {\n",
       "        vertical-align: middle;\n",
       "    }\n",
       "\n",
       "    .dataframe tbody tr th {\n",
       "        vertical-align: top;\n",
       "    }\n",
       "\n",
       "    .dataframe thead th {\n",
       "        text-align: right;\n",
       "    }\n",
       "</style>\n",
       "<table border=\"1\" class=\"dataframe\">\n",
       "  <thead>\n",
       "    <tr style=\"text-align: right;\">\n",
       "      <th></th>\n",
       "      <th>text</th>\n",
       "      <th>created_at</th>\n",
       "      <th>sentiment(0-9)</th>\n",
       "      <th>trade-related(y/n)</th>\n",
       "    </tr>\n",
       "  </thead>\n",
       "  <tbody>\n",
       "    <tr>\n",
       "      <th>0</th>\n",
       "      <td>China has been taking out massive amounts of m...</td>\n",
       "      <td>1/2/2017 23:47</td>\n",
       "      <td>1</td>\n",
       "      <td>y</td>\n",
       "    </tr>\n",
       "    <tr>\n",
       "      <th>1</th>\n",
       "      <td>The failing @nytimes does major FAKE NEWS Chin...</td>\n",
       "      <td>2/10/2017 13:35</td>\n",
       "      <td>6</td>\n",
       "      <td>n</td>\n",
       "    </tr>\n",
       "    <tr>\n",
       "      <th>2</th>\n",
       "      <td>North Korea is behaving very badly. They have ...</td>\n",
       "      <td>3/17/2017 13:07</td>\n",
       "      <td>2</td>\n",
       "      <td>n</td>\n",
       "    </tr>\n",
       "    <tr>\n",
       "      <th>3</th>\n",
       "      <td>The meeting next week with China will be a ver...</td>\n",
       "      <td>3/30/2017 22:16</td>\n",
       "      <td>2</td>\n",
       "      <td>y</td>\n",
       "    </tr>\n",
       "    <tr>\n",
       "      <th>4</th>\n",
       "      <td>It was a great honor to have President Xi Jinp...</td>\n",
       "      <td>4/8/2017 14:50</td>\n",
       "      <td>7</td>\n",
       "      <td>n</td>\n",
       "    </tr>\n",
       "  </tbody>\n",
       "</table>\n",
       "</div>"
      ],
      "text/plain": [
       "                                                text       created_at  \\\n",
       "0  China has been taking out massive amounts of m...   1/2/2017 23:47   \n",
       "1  The failing @nytimes does major FAKE NEWS Chin...  2/10/2017 13:35   \n",
       "2  North Korea is behaving very badly. They have ...  3/17/2017 13:07   \n",
       "3  The meeting next week with China will be a ver...  3/30/2017 22:16   \n",
       "4  It was a great honor to have President Xi Jinp...   4/8/2017 14:50   \n",
       "\n",
       "   sentiment(0-9) trade-related(y/n)  \n",
       "0               1                  y  \n",
       "1               6                  n  \n",
       "2               2                  n  \n",
       "3               2                  y  \n",
       "4               7                  n  "
      ]
     },
     "execution_count": 93,
     "metadata": {},
     "output_type": "execute_result"
    }
   ],
   "source": [
    "trump_clf_df.head()"
   ]
  },
  {
   "cell_type": "code",
   "execution_count": 94,
   "metadata": {},
   "outputs": [],
   "source": [
    "trump_clf_labels =trump_clf_df.drop(columns = ['created_at','trade-related(y/n)'])"
   ]
  },
  {
   "cell_type": "code",
   "execution_count": 95,
   "metadata": {},
   "outputs": [
    {
     "data": {
      "text/html": [
       "<div>\n",
       "<style scoped>\n",
       "    .dataframe tbody tr th:only-of-type {\n",
       "        vertical-align: middle;\n",
       "    }\n",
       "\n",
       "    .dataframe tbody tr th {\n",
       "        vertical-align: top;\n",
       "    }\n",
       "\n",
       "    .dataframe thead th {\n",
       "        text-align: right;\n",
       "    }\n",
       "</style>\n",
       "<table border=\"1\" class=\"dataframe\">\n",
       "  <thead>\n",
       "    <tr style=\"text-align: right;\">\n",
       "      <th></th>\n",
       "      <th>text</th>\n",
       "      <th>sentiment(0-9)</th>\n",
       "    </tr>\n",
       "  </thead>\n",
       "  <tbody>\n",
       "    <tr>\n",
       "      <th>0</th>\n",
       "      <td>China has been taking out massive amounts of m...</td>\n",
       "      <td>1</td>\n",
       "    </tr>\n",
       "    <tr>\n",
       "      <th>1</th>\n",
       "      <td>The failing @nytimes does major FAKE NEWS Chin...</td>\n",
       "      <td>6</td>\n",
       "    </tr>\n",
       "    <tr>\n",
       "      <th>2</th>\n",
       "      <td>North Korea is behaving very badly. They have ...</td>\n",
       "      <td>2</td>\n",
       "    </tr>\n",
       "    <tr>\n",
       "      <th>3</th>\n",
       "      <td>The meeting next week with China will be a ver...</td>\n",
       "      <td>2</td>\n",
       "    </tr>\n",
       "    <tr>\n",
       "      <th>4</th>\n",
       "      <td>It was a great honor to have President Xi Jinp...</td>\n",
       "      <td>7</td>\n",
       "    </tr>\n",
       "  </tbody>\n",
       "</table>\n",
       "</div>"
      ],
      "text/plain": [
       "                                                text  sentiment(0-9)\n",
       "0  China has been taking out massive amounts of m...               1\n",
       "1  The failing @nytimes does major FAKE NEWS Chin...               6\n",
       "2  North Korea is behaving very badly. They have ...               2\n",
       "3  The meeting next week with China will be a ver...               2\n",
       "4  It was a great honor to have President Xi Jinp...               7"
      ]
     },
     "execution_count": 95,
     "metadata": {},
     "output_type": "execute_result"
    }
   ],
   "source": [
    "#sentiment annotations are in a 0-9 scale. 0 being very negative, 9 being very positive\n",
    "\n",
    "trump_clf_labels .head()"
   ]
  },
  {
   "cell_type": "code",
   "execution_count": 96,
   "metadata": {},
   "outputs": [
    {
     "data": {
      "text/plain": [
       "326"
      ]
     },
     "execution_count": 96,
     "metadata": {},
     "output_type": "execute_result"
    }
   ],
   "source": [
    "len(trump_clf_labels)"
   ]
  },
  {
   "cell_type": "code",
   "execution_count": 97,
   "metadata": {},
   "outputs": [],
   "source": [
    "from sklearn.model_selection import train_test_split"
   ]
  },
  {
   "cell_type": "code",
   "execution_count": 98,
   "metadata": {},
   "outputs": [],
   "source": [
    "# use a  multiclass classifier\n",
    "from textblob.classifiers import NaiveBayesClassifier"
   ]
  },
  {
   "cell_type": "code",
   "execution_count": 99,
   "metadata": {},
   "outputs": [
    {
     "name": "stdout",
     "output_type": "stream",
     "text": [
      "(0, text              China has been taking out massive amounts of m...\n",
      "sentiment(0-9)                                                    1\n",
      "Name: 0, dtype: object)\n",
      "(1, text              The failing @nytimes does major FAKE NEWS Chin...\n",
      "sentiment(0-9)                                                    6\n",
      "Name: 1, dtype: object)\n",
      "(2, text              North Korea is behaving very badly. They have ...\n",
      "sentiment(0-9)                                                    2\n",
      "Name: 2, dtype: object)\n",
      "(3, text              The meeting next week with China will be a ver...\n",
      "sentiment(0-9)                                                    2\n",
      "Name: 3, dtype: object)\n",
      "(4, text              It was a great honor to have President Xi Jinp...\n",
      "sentiment(0-9)                                                    7\n",
      "Name: 4, dtype: object)\n",
      "(5, text              I explained to the President of China that a t...\n",
      "sentiment(0-9)                                                    5\n",
      "Name: 5, dtype: object)\n",
      "(6, text              North Korea is looking for trouble. If China d...\n",
      "sentiment(0-9)                                                    5\n",
      "Name: 6, dtype: object)\n",
      "(7, text              Had a very good call last night with the Presi...\n",
      "sentiment(0-9)                                                    6\n",
      "Name: 7, dtype: object)\n",
      "(8, text              I have great confidence that China will proper...\n",
      "sentiment(0-9)                                                    6\n",
      "Name: 8, dtype: object)\n",
      "(9, text              Why would I call China a currency manipulator ...\n",
      "sentiment(0-9)                                                    7\n",
      "Name: 9, dtype: object)\n",
      "(10, text              China is very much the economic lifeline to No...\n",
      "sentiment(0-9)                                                    5\n",
      "Name: 10, dtype: object)\n",
      "(11, text              North Korea disrespected the wishes of China &...\n",
      "sentiment(0-9)                                                    3\n",
      "Name: 11, dtype: object)\n",
      "(12, text              China just agreed that the U.S. will be allowe...\n",
      "sentiment(0-9)                                                    9\n",
      "Name: 12, dtype: object)\n",
      "(13, text              North Korea has shown great disrespect for the...\n",
      "sentiment(0-9)                                                    4\n",
      "Name: 13, dtype: object)\n",
      "(14, text              While I greatly appreciate the efforts of Pres...\n",
      "sentiment(0-9)                                                    4\n",
      "Name: 14, dtype: object)\n",
      "(15, text              ....and Japan will put up with this much longe...\n",
      "sentiment(0-9)                                                    5\n",
      "Name: 15, dtype: object)\n",
      "(16, text              Trade between China and North Korea grew almos...\n",
      "sentiment(0-9)                                                    3\n",
      "Name: 16, dtype: object)\n",
      "(17, text              Leaving Hamburg for Washington D.C. and the WH...\n",
      "sentiment(0-9)                                                    6\n",
      "Name: 17, dtype: object)\n",
      "(18, text              I am very disappointed in China. Our foolish p...\n",
      "sentiment(0-9)                                                    1\n",
      "Name: 18, dtype: object)\n",
      "(19, text              ...they do NOTHING for us with North Korea jus...\n",
      "sentiment(0-9)                                                    1\n",
      "Name: 19, dtype: object)\n",
      "(20, text              The United Nations Security Council just voted...\n",
      "sentiment(0-9)                                                    5\n",
      "Name: 20, dtype: object)\n",
      "(21, text              ..North Korea is a rogue nation which has beco...\n",
      "sentiment(0-9)                                                    3\n",
      "Name: 21, dtype: object)\n",
      "(22, text              China has a business tax rate of 15%. We shoul...\n",
      "sentiment(0-9)                                                    2\n",
      "Name: 22, dtype: object)\n",
      "(23, text              Spoke to President Xi of China to congratulate...\n",
      "sentiment(0-9)                                                    6\n",
      "Name: 23, dtype: object)\n",
      "(24, text              Melania and I look forward to being with Presi...\n",
      "sentiment(0-9)                                                    7\n",
      "Name: 24, dtype: object)\n",
      "(25, text              Just took off for ceremony @ Pearl Harbor. Wil...\n",
      "sentiment(0-9)                                                    5\n",
      "Name: 25, dtype: object)\n",
      "(26, text              Getting ready to make a major speech to the Na...\n",
      "sentiment(0-9)                                                    6\n",
      "Name: 26, dtype: object)\n",
      "(27, text              Leaving South Korea now heading to China. Look...\n",
      "sentiment(0-9)                                                    6\n",
      "Name: 27, dtype: object)\n",
      "(28, text              Looking forward to a full day of meetings with...\n",
      "sentiment(0-9)                                                    7\n",
      "Name: 28, dtype: object)\n",
      "(29, text              In the coming months and years ahead I look fo...\n",
      "sentiment(0-9)                                                    8\n",
      "Name: 29, dtype: object)\n",
      "(30, text              I donâ€™t blame China I blame the incompetence...\n",
      "sentiment(0-9)                                                    4\n",
      "Name: 30, dtype: object)\n",
      "(31, text              I am leaving China for #APEC2017 in Vietnam. @...\n",
      "sentiment(0-9)                                                    5\n",
      "Name: 31, dtype: object)\n",
      "(32, text              President Xi of China has stated that he is up...\n",
      "sentiment(0-9)                                                    7\n",
      "Name: 32, dtype: object)\n",
      "(33, text              Met with President Putin of Russia who was at ...\n",
      "sentiment(0-9)                                                    5\n",
      "Name: 33, dtype: object)\n",
      "(34, text              The failing @nytimes hates the fact that I hav...\n",
      "sentiment(0-9)                                                    6\n",
      "Name: 34, dtype: object)\n",
      "(35, text              To the three UCLA basketball players I say:  Y...\n",
      "sentiment(0-9)                                                    6\n",
      "Name: 35, dtype: object)\n",
      "(36, text              China is sending an Envoy and Delegation to No...\n",
      "sentiment(0-9)                                                    7\n",
      "Name: 36, dtype: object)\n",
      "(37, text              Now that the three basketball players are out ...\n",
      "sentiment(0-9)                                                    6\n",
      "Name: 37, dtype: object)\n",
      "(38, text              Shoplifting is a very big deal in China as it ...\n",
      "sentiment(0-9)                                                    4\n",
      "Name: 38, dtype: object)\n",
      "(39, text              It wasnâ€™t the White House it wasnâ€™t the St...\n",
      "sentiment(0-9)                                                    4\n",
      "Name: 39, dtype: object)\n",
      "(40, text              ...LaVar you could have spent the next 5 to 10...\n",
      "sentiment(0-9)                                                    4\n",
      "Name: 40, dtype: object)\n",
      "(41, text              Just spoke to President XI JINPING of China co...\n",
      "sentiment(0-9)                                                    3\n",
      "Name: 41, dtype: object)\n",
      "(42, text              The Chinese Envoy who just returned from North...\n",
      "sentiment(0-9)                                                    3\n",
      "Name: 42, dtype: object)\n",
      "(43, text              Caught RED HANDED - very disappointed that Chi...\n",
      "sentiment(0-9)                                                    2\n",
      "Name: 43, dtype: object)\n",
      "(44, text              I will be meeting with Henry Kissinger at 1:45...\n",
      "sentiment(0-9)                                                    5\n",
      "Name: 44, dtype: object)\n",
      "(45, text              I never said Russia did not meddle in the elec...\n",
      "sentiment(0-9)                                                    3\n",
      "Name: 45, dtype: object)\n",
      "(46, text              China has been asked to develop a plan for the...\n",
      "sentiment(0-9)                                                    7\n",
      "Name: 46, dtype: object)\n",
      "(47, text              Chinese President XI XINPING and I spoke at le...\n",
      "sentiment(0-9)                                                    7\n",
      "Name: 47, dtype: object)\n",
      "(48, text              Received message last night from XI JINPING of...\n",
      "sentiment(0-9)                                                    8\n",
      "Name: 48, dtype: object)\n",
      "(49, text              We are not in a trade war with China that war ...\n",
      "sentiment(0-9)                                                    2\n",
      "Name: 49, dtype: object)\n",
      "(50, text              The Fake News Washington Post Amazonâ€™s â€œch...\n",
      "sentiment(0-9)                                                    2\n",
      "Name: 50, dtype: object)\n",
      "(51, text              China which is a great economic power is consi...\n",
      "sentiment(0-9)                                                    1\n",
      "Name: 51, dtype: object)\n",
      "(52, text              The United States hasnâ€™t had a Trade Surplus...\n",
      "sentiment(0-9)                                                    1\n",
      "Name: 52, dtype: object)\n",
      "(53, text              President Xi and I will always be friends no m...\n",
      "sentiment(0-9)                                                    6\n",
      "Name: 53, dtype: object)\n",
      "(54, text              When a car is sent to the United States from C...\n",
      "sentiment(0-9)                                                    2\n",
      "Name: 54, dtype: object)\n",
      "(55, text              Very thankful for President Xi of Chinaâ€™s ki...\n",
      "sentiment(0-9)                                                    7\n",
      "Name: 55, dtype: object)\n",
      "(56, text              So much Fake News about what is going on in th...\n",
      "sentiment(0-9)                                                    5\n",
      "Name: 56, dtype: object)\n",
      "(57, text              Russia and China are playing the Currency Deva...\n",
      "sentiment(0-9)                                                    3\n",
      "Name: 57, dtype: object)\n",
      "(58, text              Please do not forget the great help that my go...\n",
      "sentiment(0-9)                                                    6\n",
      "Name: 58, dtype: object)\n",
      "(59, text              Delegation heading to China to begin talks on ...\n",
      "sentiment(0-9)                                                    7\n",
      "Name: 59, dtype: object)\n",
      "(60, text              There was no Collusion (it is a Hoax) and ther...\n",
      "sentiment(0-9)                                                    4\n",
      "Name: 60, dtype: object)\n",
      "(61, text              â€œThis isnâ€™t some game. You are screwing wi...\n",
      "sentiment(0-9)                                                    3\n",
      "Name: 61, dtype: object)\n",
      "(62, text              Our great financial team is in China trying to...\n",
      "sentiment(0-9)                                                    6\n",
      "Name: 62, dtype: object)\n",
      "(63, text              Our high level delegation is on the way back f...\n",
      "sentiment(0-9)                                                    4\n",
      "Name: 63, dtype: object)\n",
      "(64, text              I will be speaking to my friend President Xi o...\n",
      "sentiment(0-9)                                                    7\n",
      "Name: 64, dtype: object)\n",
      "(65, text              President Xi of China and I are working togeth...\n",
      "sentiment(0-9)                                                    8\n",
      "Name: 65, dtype: object)\n",
      "(66, text              China and the United States are working well t...\n",
      "sentiment(0-9)                                                    6\n",
      "Name: 66, dtype: object)\n",
      "(67, text              ZTE the large Chinese phone company buys a big...\n",
      "sentiment(0-9)                                                    7\n",
      "Name: 67, dtype: object)\n",
      "(68, text              Trade negotiations are continuing with China. ...\n",
      "sentiment(0-9)                                                    4\n",
      "Name: 68, dtype: object)\n",
      "(69, text              The Washington Post and CNN have typically wri...\n",
      "sentiment(0-9)                                                    3\n",
      "Name: 69, dtype: object)\n",
      "(70, text              ...We have not seen Chinaâ€™s demands yet whic...\n",
      "sentiment(0-9)                                                    3\n",
      "Name: 70, dtype: object)\n",
      "(71, text              ...havenâ€™t even started yet! The U.S. has ve...\n",
      "sentiment(0-9)                                                    2\n",
      "Name: 71, dtype: object)\n",
      "(72, text              Talking trade with the Vice Premier of the Peo...\n",
      "sentiment(0-9)                                                    7\n",
      "Name: 72, dtype: object)\n",
      "(73, text              I ask Senator Chuck Schumer why didnâ€™t Presi...\n",
      "sentiment(0-9)                                                    3\n",
      "Name: 73, dtype: object)\n",
      "(74, text              China has agreed to buy massive amounts of ADD...\n",
      "sentiment(0-9)                                                    9\n",
      "Name: 74, dtype: object)\n",
      "(75, text              On China Barriers and Tariffs to come down for...\n",
      "sentiment(0-9)                                                    9\n",
      "Name: 75, dtype: object)\n",
      "(76, text              China must continue to be strong &amp; tight o...\n",
      "sentiment(0-9)                                                    4\n",
      "Name: 76, dtype: object)\n",
      "(77, text              Under our potential deal with China they will ...\n",
      "sentiment(0-9)                                                    9\n",
      "Name: 77, dtype: object)\n",
      "(78, text              Our Trade Deal with China is moving along nice...\n",
      "sentiment(0-9)                                                    6\n",
      "Name: 78, dtype: object)\n",
      "(79, text              Very surprised that China would be doing this?...\n",
      "sentiment(0-9)                                                    5\n",
      "Name: 79, dtype: object)\n",
      "(80, text              China already charges a tax of 16% on soybeans...\n",
      "sentiment(0-9)                                                    4\n",
      "Name: 80, dtype: object)\n",
      "(81, text              Farmers have not been doing well for 15 years....\n",
      "sentiment(0-9)                                                    3\n",
      "Name: 81, dtype: object)\n",
      "(82, text              I have confidence that Kim Jong Un will honor ...\n",
      "sentiment(0-9)                                                    4\n",
      "Name: 82, dtype: object)\n",
      "(83, text              China the European Union and others have been ...\n",
      "sentiment(0-9)                                                    3\n",
      "Name: 83, dtype: object)\n",
      "(84, text              China is targeting our farmers who they know I...\n",
      "sentiment(0-9)                                                    2\n",
      "Name: 84, dtype: object)\n",
      "(85, text              Tariffs are working far better than anyone eve...\n",
      "sentiment(0-9)                                                    4\n",
      "Name: 85, dtype: object)\n",
      "(86, text              ....China which is for the first time doing po...\n",
      "sentiment(0-9)                                                    3\n",
      "Name: 86, dtype: object)\n",
      "(87, text              As long as I campaign and/or support Senate an...\n",
      "sentiment(0-9)                                                    5\n",
      "Name: 87, dtype: object)\n",
      "(88, text              Tom Fitton of Judicial Watch: â€œThe Strzok fi...\n",
      "sentiment(0-9)                                                    5\n",
      "Name: 88, dtype: object)\n",
      "(89, text              All of the fools that are so focused on lookin...\n",
      "sentiment(0-9)                                                    4\n",
      "Name: 89, dtype: object)\n",
      "(90, text              It is outrageous that Poisonous Synthetic Hero...\n",
      "sentiment(0-9)                                                    3\n",
      "Name: 90, dtype: object)\n",
      "(91, text              ...Additionally because of our much tougher Tr...\n",
      "sentiment(0-9)                                                    2\n",
      "Name: 91, dtype: object)\n",
      "(92, text              ...Secretary Pompeo looks forward to going to ...\n",
      "sentiment(0-9)                                                    4\n",
      "Name: 92, dtype: object)\n",
      "(93, text              Report just out: â€œChina hacked Hillary Clint...\n",
      "sentiment(0-9)                                                    4\n",
      "Name: 93, dtype: object)\n",
      "(94, text              Hillary Clintonâ€™s Emails many of which are C...\n",
      "sentiment(0-9)                                                    4\n",
      "Name: 94, dtype: object)\n",
      "(95, text              STATEMENT FROM THE WHITE HOUSEPresident Donald...\n",
      "sentiment(0-9)                                                    3\n",
      "Name: 95, dtype: object)\n",
      "(96, text              ...of money on joint U.S.-South Korea war game...\n",
      "sentiment(0-9)                                                    3\n",
      "Name: 96, dtype: object)\n",
      "(97, text              ...differences they will be resolved in time b...\n",
      "sentiment(0-9)                                                    6\n",
      "Name: 97, dtype: object)\n",
      "(98, text              Apple prices may increase because of the massi...\n",
      "sentiment(0-9)                                                    4\n",
      "Name: 98, dtype: object)\n",
      "(99, text              If the U.S. sells a car into China there is a ...\n",
      "sentiment(0-9)                                                    3\n",
      "Name: 99, dtype: object)\n",
      "(100, text              The Wall Street Journal has it wrong we are un...\n",
      "sentiment(0-9)                                                    3\n",
      "Name: 100, dtype: object)\n",
      "(101, text              China has openly stated that they are actively...\n",
      "sentiment(0-9)                                                    2\n",
      "Name: 101, dtype: object)\n",
      "(102, text              .....China has been taking advantage of the Un...\n",
      "sentiment(0-9)                                                    2\n",
      "Name: 102, dtype: object)\n",
      "(103, text              China is actually placing propaganda ads in th...\n",
      "sentiment(0-9)                                                    2\n",
      "Name: 103, dtype: object)\n",
      "(104, text              The New York Times has a new Fake Story that n...\n",
      "sentiment(0-9)                                                    1\n",
      "Name: 104, dtype: object)\n",
      "(105, text              Just had a long and very good conversation wit...\n",
      "sentiment(0-9)                                                    6\n",
      "Name: 105, dtype: object)\n",
      "(106, text              President Macron of France has just suggested ...\n",
      "sentiment(0-9)                                                    4\n",
      "Name: 106, dtype: object)\n",
      "(107, text              Emmanuel Macron suggests building its own army...\n",
      "sentiment(0-9)                                                    3\n",
      "Name: 107, dtype: object)\n",
      "(108, text              Very disappointed with General Motors and thei...\n",
      "sentiment(0-9)                                                    2\n",
      "Name: 108, dtype: object)\n",
      "(109, text              ....for electric cars. General Motors made a b...\n",
      "sentiment(0-9)                                                    2\n",
      "Name: 109, dtype: object)\n",
      "(110, text              Billions of Dollars are pouring into the coffe...\n",
      "sentiment(0-9)                                                    3\n",
      "Name: 110, dtype: object)\n",
      "(111, text              China has agreed to reduce and remove tariffs ...\n",
      "sentiment(0-9)                                                    8\n",
      "Name: 111, dtype: object)\n",
      "(112, text              My meeting in Argentina with President Xi of C...\n",
      "sentiment(0-9)                                                    9\n",
      "Name: 112, dtype: object)\n",
      "(113, text              Farmers will be a a very BIG and FAST benefici...\n",
      "sentiment(0-9)                                                    9\n",
      "Name: 113, dtype: object)\n",
      "(114, text              President Xi and I have a very strong and pers...\n",
      "sentiment(0-9)                                                    9\n",
      "Name: 114, dtype: object)\n",
      "(115, text              The negotiations with China have already start...\n",
      "sentiment(0-9)                                                    8\n",
      "Name: 115, dtype: object)\n",
      "(116, text              ......on seeing whether or not a REAL deal wit...\n",
      "sentiment(0-9)                                                    8\n",
      "Name: 116, dtype: object)\n",
      "(117, text              .....But if a fair deal is able to be made wit...\n",
      "sentiment(0-9)                                                    7\n",
      "Name: 117, dtype: object)\n",
      "(118, text              We are either going to have a REAL DEAL with C...\n",
      "sentiment(0-9)                                                    7\n",
      "Name: 118, dtype: object)\n",
      "(119, text              .....China does not want Tariffs!\n",
      "sentiment(0-9)                                    6\n",
      "Name: 119, dtype: object)\n",
      "(120, text              â€œChina officially echoed President Donald Tr...\n",
      "sentiment(0-9)                                                    7\n",
      "Name: 120, dtype: object)\n",
      "(121, text              .....China had agreed to start â€œimmediatelyâ...\n",
      "sentiment(0-9)                                                    8\n",
      "Name: 121, dtype: object)\n",
      "(122, text              Very strong signals being sent by China once t...\n",
      "sentiment(0-9)                                                    8\n",
      "Name: 122, dtype: object)\n",
      "(123, text              One of the very exciting things to come out of...\n",
      "sentiment(0-9)                                                    9\n",
      "Name: 123, dtype: object)\n",
      "(124, text              .....considered to be the worst and most dange...\n",
      "sentiment(0-9)                                                    8\n",
      "Name: 124, dtype: object)\n",
      "(125, text              Statement from China: â€œThe teams of both sid...\n",
      "sentiment(0-9)                                                    7\n",
      "Name: 125, dtype: object)\n",
      "(126, text              China talks are going very well!\n",
      "sentiment(0-9)                                   8\n",
      "Name: 126, dtype: object)\n",
      "(127, text              Very productive conversations going on with Ch...\n",
      "sentiment(0-9)                                                    9\n",
      "Name: 127, dtype: object)\n",
      "(128, text              China just announce the there economy is growi...\n",
      "sentiment(0-9)                                                    7\n",
      "Name: 128, dtype: object)\n",
      "(129, text              It is incredible that with a very strong dolla...\n",
      "sentiment(0-9)                                                    3\n",
      "Name: 129, dtype: object)\n",
      "(130, text              There has never been a president who has been ...\n",
      "sentiment(0-9)                                                    4\n",
      "Name: 130, dtype: object)\n",
      "(131, text              Just had a long and very good call with Presid...\n",
      "sentiment(0-9)                                                    8\n",
      "Name: 131, dtype: object)\n",
      "(132, text              The United States Treasury has taken in MANY b...\n",
      "sentiment(0-9)                                                    4\n",
      "Name: 132, dtype: object)\n",
      "(133, text              Michael Pillsbury interviewed by @cvpayne: â€œ...\n",
      "sentiment(0-9)                                                    3\n",
      "Name: 133, dtype: object)\n",
      "(134, text              Talks with China are going very well!\n",
      "sentiment(0-9)                                        7\n",
      "Name: 134, dtype: object)\n",
      "(135, text              For decades politicians promised to secure the...\n",
      "sentiment(0-9)                                                    3\n",
      "Name: 135, dtype: object)\n",
      "(136, text              China posts slowest economic numbers since 199...\n",
      "sentiment(0-9)                                                    4\n",
      "Name: 136, dtype: object)\n",
      "(137, text              Chinaâ€™s top trade negotiators are in the U.S...\n",
      "sentiment(0-9)                                                    6\n",
      "Name: 137, dtype: object)\n",
      "(138, text              ....Chinaâ€™s representatives and I are trying...\n",
      "sentiment(0-9)                                                    7\n",
      "Name: 138, dtype: object)\n",
      "(139, text              Looking for China to open their Markets not on...\n",
      "sentiment(0-9)                                                    6\n",
      "Name: 139, dtype: object)\n",
      "(140, text              Trade negotiators have just returned from Chin...\n",
      "sentiment(0-9)                                                    7\n",
      "Name: 140, dtype: object)\n",
      "(141, text              Important meetings and calls on China Trade De...\n",
      "sentiment(0-9)                                                    6\n",
      "Name: 141, dtype: object)\n",
      "(142, text              RT @seanhannity: **REPORT: â€œChina is proposi...\n",
      "sentiment(0-9)                                                    8\n",
      "Name: 142, dtype: object)\n",
      "(143, text              Very productive talks yesterday with China on ...\n",
      "sentiment(0-9)                                                    7\n",
      "Name: 143, dtype: object)\n",
      "(144, text              President Xi of China has been very helpful in...\n",
      "sentiment(0-9)                                                    8\n",
      "Name: 144, dtype: object)\n",
      "(145, text              I am pleased to report that the U.S. has made ...\n",
      "sentiment(0-9)                                                    8\n",
      "Name: 145, dtype: object)\n",
      "(146, text              ....productive talks I will be delaying the U....\n",
      "sentiment(0-9)                                                    9\n",
      "Name: 146, dtype: object)\n",
      "(147, text              China Trade Deal (and more) in advanced stages...\n",
      "sentiment(0-9)                                                    9\n",
      "Name: 147, dtype: object)\n",
      "(148, text              If a deal is made with China our great America...\n",
      "sentiment(0-9)                                                    8\n",
      "Name: 148, dtype: object)\n",
      "(149, text              All false reporting (guessing) on my intention...\n",
      "sentiment(0-9)                                                    4\n",
      "Name: 149, dtype: object)\n",
      "(150, text              I have asked China to immediately remove all T...\n",
      "sentiment(0-9)                                                    8\n",
      "Name: 150, dtype: object)\n",
      "(151, text              Google is helping China and their military but...\n",
      "sentiment(0-9)                                                    5\n",
      "Name: 151, dtype: object)\n",
      "(152, text              ....are all coming back to the U.S. So is ever...\n",
      "sentiment(0-9)                                                    4\n",
      "Name: 152, dtype: object)\n",
      "(153, text              Despite the unnecessary and destructive action...\n",
      "sentiment(0-9)                                                    6\n",
      "Name: 153, dtype: object)\n",
      "(154, text              China is adding great stimulus to its economy ...\n",
      "sentiment(0-9)                                                    3\n",
      "Name: 154, dtype: object)\n",
      "(155, text              Had a long and very good conversation with Pre...\n",
      "sentiment(0-9)                                                    6\n",
      "Name: 155, dtype: object)\n",
      "(156, text              RT @DailyCaller: DOJ Asks Courts To Lighten Up...\n",
      "sentiment(0-9)                                                    5\n",
      "Name: 156, dtype: object)\n",
      "(157, text              For 10 months China has been paying Tariffs to...\n",
      "sentiment(0-9)                                                    4\n",
      "Name: 157, dtype: object)\n",
      "(158, text              ....of additional goods sent to us by China re...\n",
      "sentiment(0-9)                                                    3\n",
      "Name: 158, dtype: object)\n",
      "(159, text              RT @IngrahamAngle: Excellent decision by @real...\n",
      "sentiment(0-9)                                                    6\n",
      "Name: 159, dtype: object)\n",
      "(160, text              The United States has been losing for many yea...\n",
      "sentiment(0-9)                                                    3\n",
      "Name: 160, dtype: object)\n",
      "(161, text              The reason for the China pullback &amp; attemp...\n",
      "sentiment(0-9)                                                    2\n",
      "Name: 161, dtype: object)\n",
      "(162, text              ....Guess what thatâ€™s not going to happen! C...\n",
      "sentiment(0-9)                                                    6\n",
      "Name: 162, dtype: object)\n",
      "(163, text              â€œThe reality is with the Tariffs the economy...\n",
      "sentiment(0-9)                                                    5\n",
      "Name: 163, dtype: object)\n",
      "(164, text              Talks with China continue in a very congenial ...\n",
      "sentiment(0-9)                                                    6\n",
      "Name: 164, dtype: object)\n",
      "(165, text              ....The process has begun to place additional ...\n",
      "sentiment(0-9)                                                    3\n",
      "Name: 165, dtype: object)\n",
      "(166, text              ....agricultural products from our Great Farme...\n",
      "sentiment(0-9)                                                    3\n",
      "Name: 166, dtype: object)\n",
      "(167, text              ....If we bought 15 Billion Dollars of Agricul...\n",
      "sentiment(0-9)                                                    2\n",
      "Name: 167, dtype: object)\n",
      "(168, text              Tariffs will make our Country MUCH STRONGER no...\n",
      "sentiment(0-9)                                                    3\n",
      "Name: 168, dtype: object)\n",
      "(169, text              Your all time favorite President got tired of ...\n",
      "sentiment(0-9)                                                    3\n",
      "Name: 169, dtype: object)\n",
      "(170, text              â€œWe have been engaged in an unfair relations...\n",
      "sentiment(0-9)                                                    2\n",
      "Name: 170, dtype: object)\n",
      "(171, text              Over the course of the past two days the Unite...\n",
      "sentiment(0-9)                                                    8\n",
      "Name: 171, dtype: object)\n",
      "(172, text              ....into the future will continue. In the mean...\n",
      "sentiment(0-9)                                                    8\n",
      "Name: 172, dtype: object)\n",
      "(173, text              RT @realDonaldTrump: ....If we bought 15 Billi...\n",
      "sentiment(0-9)                                                    5\n",
      "Name: 173, dtype: object)\n",
      "(174, text              RT @LindseyGrahamSC: @realDonaldTrump When it ...\n",
      "sentiment(0-9)                                                    6\n",
      "Name: 174, dtype: object)\n",
      "(175, text              RT @LindseyGrahamSC: Will stand behind Preside...\n",
      "sentiment(0-9)                                                    6\n",
      "Name: 175, dtype: object)\n",
      "(176, text              RT @TommyHicksGOP: For years China has engaged...\n",
      "sentiment(0-9)                                                    4\n",
      "Name: 176, dtype: object)\n",
      "(177, text              RT @LindseyGrahamSC: When it comes to China th...\n",
      "sentiment(0-9)                                                    7\n",
      "Name: 177, dtype: object)\n",
      "(178, text              RT @GOP: â€œThis is crazy... China not being a...\n",
      "sentiment(0-9)                                                    4\n",
      "Name: 178, dtype: object)\n",
      "(179, text              RT @GOPChairwoman: While @realDonaldTrump is s...\n",
      "sentiment(0-9)                                                    4\n",
      "Name: 179, dtype: object)\n",
      "(180, text              RT @GovMikeHuckabee: I sure wish Sen Richard B...\n",
      "sentiment(0-9)                                                    5\n",
      "Name: 180, dtype: object)\n",
      "(181, text              I think that China felt they were being beaten...\n",
      "sentiment(0-9)                                                    2\n",
      "Name: 181, dtype: object)\n",
      "(182, text              RT @GOPChairwoman: An Ohio manufacturing CEO e...\n",
      "sentiment(0-9)                                                    6\n",
      "Name: 182, dtype: object)\n",
      "(183, text              RT @realDonaldTrump: I think that China felt t...\n",
      "sentiment(0-9)                                                    4\n",
      "Name: 183, dtype: object)\n",
      "(184, text              We are right where we want to be with China. R...\n",
      "sentiment(0-9)                                                    3\n",
      "Name: 184, dtype: object)\n",
      "(185, text              ....We will then spend (match or better) the m...\n",
      "sentiment(0-9)                                                    2\n",
      "Name: 185, dtype: object)\n",
      "(186, text              China is DREAMING that Sleepy Joe Biden or any...\n",
      "sentiment(0-9)                                                    2\n",
      "Name: 186, dtype: object)\n",
      "(187, text              Their is no reason for the U.S. Consumer to pa...\n",
      "sentiment(0-9)                                                    3\n",
      "Name: 187, dtype: object)\n",
      "(188, text              ....completely avoided if you by from a non-Ta...\n",
      "sentiment(0-9)                                                    2\n",
      "Name: 188, dtype: object)\n",
      "(189, text              ..There will be nobody left in China to do bus...\n",
      "sentiment(0-9)                                                    1\n",
      "Name: 189, dtype: object)\n",
      "(190, text              I say openly to President Xi &amp; all of my m...\n",
      "sentiment(0-9)                                                    1\n",
      "Name: 190, dtype: object)\n",
      "(191, text              The unexpectedly good first quarter 3.2% GDP w...\n",
      "sentiment(0-9)                                                    4\n",
      "Name: 191, dtype: object)\n",
      "(192, text              RT @GOPChairwoman: Joe Biden let China get awa...\n",
      "sentiment(0-9)                                                    4\n",
      "Name: 192, dtype: object)\n",
      "(193, text              In one year Tariffs have rebuilt our Steel Ind...\n",
      "sentiment(0-9)                                                    6\n",
      "Name: 193, dtype: object)\n",
      "(194, text              China buys MUCH less from us than we buy from ...\n",
      "sentiment(0-9)                                                    3\n",
      "Name: 194, dtype: object)\n",
      "(195, text              ....so that they will be more competitive for ...\n",
      "sentiment(0-9)                                                    3\n",
      "Name: 195, dtype: object)\n",
      "(196, text              We can make a deal with China tomorrow before ...\n",
      "sentiment(0-9)                                                    2\n",
      "Name: 196, dtype: object)\n",
      "(197, text              When the time is right we will make a deal wit...\n",
      "sentiment(0-9)                                                    6\n",
      "Name: 197, dtype: object)\n",
      "(198, text              ....of the tremendous ground we have lost to C...\n",
      "sentiment(0-9)                                                    3\n",
      "Name: 198, dtype: object)\n",
      "(199, text              Our great Patriot Farmers will be one of the b...\n",
      "sentiment(0-9)                                                    4\n",
      "Name: 199, dtype: object)\n",
      "(200, text              ....This money will come from the massive Tari...\n",
      "sentiment(0-9)                                                    4\n",
      "Name: 200, dtype: object)\n",
      "(201, text              China will be pumping money into their system ...\n",
      "sentiment(0-9)                                                    3\n",
      "Name: 201, dtype: object)\n",
      "(202, text              Looks like Bernie Sanders is history. Sleepy J...\n",
      "sentiment(0-9)                                                    2\n",
      "Name: 202, dtype: object)\n",
      "(203, text              RT @GOPChairwoman: The @realDonaldTrump admini...\n",
      "sentiment(0-9)                                                    5\n",
      "Name: 203, dtype: object)\n",
      "(204, text              Washington Post got it wrong as usual. The U.S...\n",
      "sentiment(0-9)                                                    2\n",
      "Name: 204, dtype: object)\n",
      "(205, text              China is subsidizing its product in order that...\n",
      "sentiment(0-9)                                                    4\n",
      "Name: 205, dtype: object)\n",
      "(206, text              ....If Mexico produces (which I think they wil...\n",
      "sentiment(0-9)                                                    3\n",
      "Name: 206, dtype: object)\n",
      "(207, text              â€œBiden would be Chinaâ€™s Dream Candidate be...\n",
      "sentiment(0-9)                                                    2\n",
      "Name: 207, dtype: object)\n",
      "(208, text              Mario Draghi just announced more stimulus coul...\n",
      "sentiment(0-9)                                                    4\n",
      "Name: 208, dtype: object)\n",
      "(209, text              Had a very good telephone conversation with Pr...\n",
      "sentiment(0-9)                                                    7\n",
      "Name: 209, dtype: object)\n",
      "(210, text              China gets 91% of its Oil from the Straight Ja...\n",
      "sentiment(0-9)                                                    3\n",
      "Name: 210, dtype: object)\n",
      "(211, text              After some very important meetings including m...\n",
      "sentiment(0-9)                                                    4\n",
      "Name: 211, dtype: object)\n",
      "(212, text              I had a great meeting with President Xi of Chi...\n",
      "sentiment(0-9)                                                    8\n",
      "Name: 212, dtype: object)\n",
      "(213, text              .....again with China as our relationship with...\n",
      "sentiment(0-9)                                                    7\n",
      "Name: 213, dtype: object)\n",
      "(214, text              China and Europe playing big currency manipula...\n",
      "sentiment(0-9)                                                    3\n",
      "Name: 214, dtype: object)\n",
      "(215, text              Joe Biden is a reclamation project. Some thing...\n",
      "sentiment(0-9)                                                    4\n",
      "Name: 215, dtype: object)\n",
      "(216, text              Mexico is doing great at the Border but China ...\n",
      "sentiment(0-9)                                                    3\n",
      "Name: 216, dtype: object)\n",
      "(217, text              Chinaâ€™s 2nd Quarter growth is the slowest it...\n",
      "sentiment(0-9)                                                    4\n",
      "Name: 217, dtype: object)\n",
      "(218, text              ....with the U.S. and wishes it had not broken...\n",
      "sentiment(0-9)                                                    2\n",
      "Name: 218, dtype: object)\n",
      "(219, text              Farmers are starting to do great again after 1...\n",
      "sentiment(0-9)                                                    4\n",
      "Name: 219, dtype: object)\n",
      "(220, text              There may or may not be National Security conc...\n",
      "sentiment(0-9)                                                    5\n",
      "Name: 220, dtype: object)\n",
      "(221, text              Apple will not be given Tariff waiver or relie...\n",
      "sentiment(0-9)                                                    4\n",
      "Name: 221, dtype: object)\n",
      "(222, text              The E.U. and China will further lower interest...\n",
      "sentiment(0-9)                                                    2\n",
      "Name: 222, dtype: object)\n",
      "(223, text              ....countries that know how to play the game a...\n",
      "sentiment(0-9)                                                    2\n",
      "Name: 223, dtype: object)\n",
      "(224, text              China is doing very badly worst year in 27 - w...\n",
      "sentiment(0-9)                                                    2\n",
      "Name: 224, dtype: object)\n",
      "(225, text              China has lost 5 million jobs and two million ...\n",
      "sentiment(0-9)                                                    3\n",
      "Name: 225, dtype: object)\n",
      "(226, text              What the Market wanted to hear from Jay Powell...\n",
      "sentiment(0-9)                                                    4\n",
      "Name: 226, dtype: object)\n",
      "(227, text              China Iran &amp; other foreign countries are l...\n",
      "sentiment(0-9)                                                    2\n",
      "Name: 227, dtype: object)\n",
      "(228, text              Our representatives have just returned from Ch...\n",
      "sentiment(0-9)                                                    7\n",
      "Name: 228, dtype: object)\n",
      "(229, text              ...during the talks the U.S. will start on Sep...\n",
      "sentiment(0-9)                                                    2\n",
      "Name: 229, dtype: object)\n",
      "(230, text              ...We look forward to continuing our positive ...\n",
      "sentiment(0-9)                                                    6\n",
      "Name: 230, dtype: object)\n",
      "(231, text              Things are going along very well with China. T...\n",
      "sentiment(0-9)                                                    3\n",
      "Name: 231, dtype: object)\n",
      "(232, text              China dropped the price of their currency to a...\n",
      "sentiment(0-9)                                                    1\n",
      "Name: 232, dtype: object)\n",
      "(233, text              Based on the historic currency manipulation by...\n",
      "sentiment(0-9)                                                    3\n",
      "Name: 233, dtype: object)\n",
      "(234, text              China is intent on continuing to receive the h...\n",
      "sentiment(0-9)                                                    1\n",
      "Name: 234, dtype: object)\n",
      "(235, text              @sundarpichai of Google was in the Oval Office...\n",
      "sentiment(0-9)                                                    5\n",
      "Name: 235, dtype: object)\n",
      "(236, text              Massive amounts of money from China and other ...\n",
      "sentiment(0-9)                                                    8\n",
      "Name: 236, dtype: object)\n",
      "(237, text              As they have learned in the last two years our...\n",
      "sentiment(0-9)                                                    8\n",
      "Name: 237, dtype: object)\n",
      "(238, text              â€œThree more Central Banks cut rates.â€ Our ...\n",
      "sentiment(0-9)                                                    4\n",
      "Name: 238, dtype: object)\n",
      "(239, text              Watching Sleepy Joe Biden making a speech. Soo...\n",
      "sentiment(0-9)                                                    3\n",
      "Name: 239, dtype: object)\n",
      "(240, text              China wants to make a deal so badly. Thousands...\n",
      "sentiment(0-9)                                                    2\n",
      "Name: 240, dtype: object)\n",
      "(241, text              Through massive devaluation of their currency ...\n",
      "sentiment(0-9)                                                    3\n",
      "Name: 241, dtype: object)\n",
      "(242, text              As usual China said they were going to be buyi...\n",
      "sentiment(0-9)                                                    3\n",
      "Name: 242, dtype: object)\n",
      "(243, text              We are winning big time against China. Compani...\n",
      "sentiment(0-9)                                                    1\n",
      "Name: 243, dtype: object)\n",
      "(244, text              Good things were stated on the call with China...\n",
      "sentiment(0-9)                                                    4\n",
      "Name: 244, dtype: object)\n",
      "(245, text              ..deferral to December. It actually helps Chin...\n",
      "sentiment(0-9)                                                    3\n",
      "Name: 245, dtype: object)\n",
      "(246, text              I know President Xi of China very well. He is ...\n",
      "sentiment(0-9)                                                    7\n",
      "Name: 246, dtype: object)\n",
      "(247, text              RT @realDonaldTrump: ..deferral to December. I...\n",
      "sentiment(0-9)                                                    4\n",
      "Name: 247, dtype: object)\n",
      "(248, text              The Fake News Media is doing everything they c...\n",
      "sentiment(0-9)                                                    8\n",
      "Name: 248, dtype: object)\n",
      "(249, text              Biden doesnâ€™t have a clue! I will solve the ...\n",
      "sentiment(0-9)                                                    4\n",
      "Name: 249, dtype: object)\n",
      "(250, text              â€œIf they donâ€™t get this Trade Deal with th...\n",
      "sentiment(0-9)                                                    4\n",
      "Name: 250, dtype: object)\n",
      "(251, text              We are doing very well with China and talking!\n",
      "sentiment(0-9)                                                 7\n",
      "Name: 251, dtype: object)\n",
      "(252, text              Our economy is the best in the world by far. L...\n",
      "sentiment(0-9)                                                    9\n",
      "Name: 252, dtype: object)\n",
      "(253, text              Doing great with China and other Trade Deals. ...\n",
      "sentiment(0-9)                                                    4\n",
      "Name: 253, dtype: object)\n",
      "(254, text              Our Country has lost stupidly Trillions of Dol...\n",
      "sentiment(0-9)                                                    3\n",
      "Name: 254, dtype: object)\n",
      "(255, text              ....better off without them. The vast amounts ...\n",
      "sentiment(0-9)                                                    2\n",
      "Name: 255, dtype: object)\n",
      "(256, text              ....your companies HOME and making your produc...\n",
      "sentiment(0-9)                                                    2\n",
      "Name: 256, dtype: object)\n",
      "(257, text              ....all deliveries of Fentanyl from China (or ...\n",
      "sentiment(0-9)                                                    1\n",
      "Name: 257, dtype: object)\n",
      "(258, text              For many years China (and many other countries...\n",
      "sentiment(0-9)                                                    1\n",
      "Name: 258, dtype: object)\n",
      "(259, text              ....Sadly past Administrations have allowed Ch...\n",
      "sentiment(0-9)                                                    3\n",
      "Name: 259, dtype: object)\n",
      "(260, text              ...unfair Trading Relationship. China should n...\n",
      "sentiment(0-9)                                                    1\n",
      "Name: 260, dtype: object)\n",
      "(261, text              ...Additionally the remaining 300 BILLION DOLL...\n",
      "sentiment(0-9)                                                    1\n",
      "Name: 261, dtype: object)\n",
      "(262, text              RT @TreasurySpox: U.S. Treasury Designates Chi...\n",
      "sentiment(0-9)                                                    5\n",
      "Name: 262, dtype: object)\n",
      "(263, text              For all of the Fake News Reporters that donâ€™...\n",
      "sentiment(0-9)                                                    3\n",
      "Name: 263, dtype: object)\n",
      "(264, text              When I looked up to the sky and jokingly said ...\n",
      "sentiment(0-9)                                                    4\n",
      "Name: 264, dtype: object)\n",
      "(265, text              RT @WhiteHouse: \"We have excess corn in variou...\n",
      "sentiment(0-9)                                                    3\n",
      "Name: 265, dtype: object)\n",
      "(266, text              In France we are all laughing at how knowingly...\n",
      "sentiment(0-9)                                                    3\n",
      "Name: 266, dtype: object)\n",
      "(267, text              So interesting to read and see all of the free...\n",
      "sentiment(0-9)                                                    6\n",
      "Name: 267, dtype: object)\n",
      "(268, text              General Motors which was once the Giant of Det...\n",
      "sentiment(0-9)                                                    4\n",
      "Name: 268, dtype: object)\n",
      "(269, text              Just watched Congresswoman Debbie Dingell and ...\n",
      "sentiment(0-9)                                                    3\n",
      "Name: 269, dtype: object)\n",
      "(270, text              Peter Morici Economist: Tariffs will not impac...\n",
      "sentiment(0-9)                                                    1\n",
      "Name: 270, dtype: object)\n",
      "(271, text              ....is about American Freedom. Redirect the su...\n",
      "sentiment(0-9)                                                    2\n",
      "Name: 271, dtype: object)\n",
      "(272, text              We are doing very well in our negotiations wit...\n",
      "sentiment(0-9)                                                    3\n",
      "Name: 272, dtype: object)\n",
      "(273, text              ....And then think what happens to China when ...\n",
      "sentiment(0-9)                                                    2\n",
      "Name: 273, dtype: object)\n",
      "(274, text              For all of the â€œgeniusesâ€ out there many w...\n",
      "sentiment(0-9)                                                    2\n",
      "Name: 274, dtype: object)\n",
      "(275, text              â€œThe Chinese are very adept at not accepting...\n",
      "sentiment(0-9)                                                    6\n",
      "Name: 275, dtype: object)\n",
      "(276, text              ....Trump is doing to China is not lost on the...\n",
      "sentiment(0-9)                                                    4\n",
      "Name: 276, dtype: object)\n",
      "(277, text              â€œU.S. Winning Trade War With China In Dollar...\n",
      "sentiment(0-9)                                                    6\n",
      "Name: 277, dtype: object)\n",
      "(278, text              1. Which country has the largest carbon emissi...\n",
      "sentiment(0-9)                                                    4\n",
      "Name: 278, dtype: object)\n",
      "(279, text              â€œChina is eating the Tariffs.â€ Billions po...\n",
      "sentiment(0-9)                                                    4\n",
      "Name: 279, dtype: object)\n",
      "(280, text              China just enacted a major stimulus plan. With...\n",
      "sentiment(0-9)                                                    2\n",
      "Name: 280, dtype: object)\n",
      "(281, text              â€œChina suspends Tariffs on some U.S. product...\n",
      "sentiment(0-9)                                                    6\n",
      "Name: 281, dtype: object)\n",
      "(282, text              RT @MariaBartiromo: China is moving to develop...\n",
      "sentiment(0-9)                                                    5\n",
      "Name: 282, dtype: object)\n",
      "(283, text              At the request of the Vice Premier of China Li...\n",
      "sentiment(0-9)                                                    5\n",
      "Name: 283, dtype: object)\n",
      "(284, text              It is expected that China will be buying large...\n",
      "sentiment(0-9)                                                    8\n",
      "Name: 284, dtype: object)\n",
      "(285, text              Producer prices in China shrank most in 3 year...\n",
      "sentiment(0-9)                                                    3\n",
      "Name: 285, dtype: object)\n",
      "(286, text              â€œThe real story involves Hunter Biden going ...\n",
      "sentiment(0-9)                                                    4\n",
      "Name: 286, dtype: object)\n",
      "(287, text              ....taken out of Ukraine and China. Additional...\n",
      "sentiment(0-9)                                                    5\n",
      "Name: 287, dtype: object)\n",
      "(288, text              The President of Ukraine said that he was NOT ...\n",
      "sentiment(0-9)                                                    3\n",
      "Name: 288, dtype: object)\n",
      "(289, text              â€œChina Trade Turmoil: China Urging a CALM AN...\n",
      "sentiment(0-9)                                                    4\n",
      "Name: 289, dtype: object)\n",
      "(290, text              ....place in TRADE itâ€™s taking shape in Mili...\n",
      "sentiment(0-9)                                                    1\n",
      "Name: 290, dtype: object)\n",
      "(291, text              The Fake News Media wants to stay as far away ...\n",
      "sentiment(0-9)                                                    3\n",
      "Name: 291, dtype: object)\n",
      "(292, text              Congratulations to President Xi and the Chines...\n",
      "sentiment(0-9)                                                    6\n",
      "Name: 292, dtype: object)\n",
      "(293, text              RT @DeFede: This morning in the Florida Keys @...\n",
      "sentiment(0-9)                                                    5\n",
      "Name: 293, dtype: object)\n",
      "(294, text              Somebody please wake up Mitt Romney and tell h...\n",
      "sentiment(0-9)                                                    2\n",
      "Name: 294, dtype: object)\n",
      "(295, text              ....and separately got 1.5 Billion Dollars fro...\n",
      "sentiment(0-9)                                                    2\n",
      "Name: 295, dtype: object)\n",
      "(296, text              ....And by the way I would LOVE running agains...\n",
      "sentiment(0-9)                                                    2\n",
      "Name: 296, dtype: object)\n",
      "(297, text              .@60Minutes â€œforgotâ€ to report that we are...\n",
      "sentiment(0-9)                                                    3\n",
      "Name: 297, dtype: object)\n",
      "(298, text              I was elected on getting out of these ridiculo...\n",
      "sentiment(0-9)                                                    3\n",
      "Name: 298, dtype: object)\n",
      "(299, text              RT @ABCPolitics: President Trump criticizes St...\n",
      "sentiment(0-9)                                                    4\n",
      "Name: 299, dtype: object)\n",
      "(300, text              Big day of negotiations with China. They want ...\n",
      "sentiment(0-9)                                                    5\n",
      "Name: 300, dtype: object)\n",
      "(301, text              Good things are happening at China Trade Talk ...\n",
      "sentiment(0-9)                                                    8\n",
      "Name: 301, dtype: object)\n",
      "(302, text              One of the great things about the China Deal i...\n",
      "sentiment(0-9)                                                    7\n",
      "Name: 302, dtype: object)\n",
      "(303, text              RT @MariaBartiromo: USMCA passage China deal s...\n",
      "sentiment(0-9)                                                    5\n",
      "Name: 303, dtype: object)\n",
      "(304, text              So funny to watch Steve Kerr grovel and pander...\n",
      "sentiment(0-9)                                                    4\n",
      "Name: 304, dtype: object)\n",
      "(305, text              The deal I just made with China is by far the ...\n",
      "sentiment(0-9)                                                    9\n",
      "Name: 305, dtype: object)\n",
      "(306, text              My deal with China is that they will IMMEDIATE...\n",
      "sentiment(0-9)                                                    9\n",
      "Name: 306, dtype: object)\n",
      "(307, text              ....I agreed not to increase Tariffs from 25% ...\n",
      "sentiment(0-9)                                                    9\n",
      "Name: 307, dtype: object)\n",
      "(308, text              CHINA HAS ALREADY BEGUN AGRICULTURAL PURCHASES...\n",
      "sentiment(0-9)                                                    8\n",
      "Name: 308, dtype: object)\n",
      "(309, text              ....and Assad to protect the land of our enemy...\n",
      "sentiment(0-9)                                                    3\n",
      "Name: 309, dtype: object)\n",
      "(310, text              A big scandal at @ABC News. They got caught us...\n",
      "sentiment(0-9)                                                    4\n",
      "Name: 310, dtype: object)\n",
      "(311, text              China and the USA are working on selecting a n...\n",
      "sentiment(0-9)                                                    9\n",
      "Name: 311, dtype: object)\n",
      "(312, text              ....our manufacturers. We should have lower in...\n",
      "sentiment(0-9)                                                    4\n",
      "Name: 312, dtype: object)\n",
      "(313, text              ....Ukrainian energy company and more millions...\n",
      "sentiment(0-9)                                                    3\n",
      "Name: 313, dtype: object)\n",
      "(314, text              Our great Farmers will recieve another major r...\n",
      "sentiment(0-9)                                                    8\n",
      "Name: 314, dtype: object)\n",
      "(315, text              Just finished a very good &amp; cordial meetin...\n",
      "sentiment(0-9)                                                    9\n",
      "Name: 315, dtype: object)\n",
      "(316, text              U.S. Markets are up as much as 21% since the a...\n",
      "sentiment(0-9)                                                    8\n",
      "Name: 316, dtype: object)\n",
      "(317, text              Why is the World Bank loaning money to China? ...\n",
      "sentiment(0-9)                                                    4\n",
      "Name: 317, dtype: object)\n",
      "(318, text              ....with the U.S. Presidential Election in Nov...\n",
      "sentiment(0-9)                                                    4\n",
      "Name: 318, dtype: object)\n",
      "(319, text              ....Biden on the board of the largest natural ...\n",
      "sentiment(0-9)                                                    4\n",
      "Name: 319, dtype: object)\n",
      "(320, text              Getting VERY close to a BIG DEAL with China. T...\n",
      "sentiment(0-9)                                                    8\n",
      "Name: 320, dtype: object)\n",
      "(321, text              The Wall Street Journal story on the China Dea...\n",
      "sentiment(0-9)                                                    4\n",
      "Name: 321, dtype: object)\n",
      "(322, text              We have agreed to a very large Phase One Deal ...\n",
      "sentiment(0-9)                                                    9\n",
      "Name: 322, dtype: object)\n",
      "(323, text              Chuck Schumer sat for years during the Obama A...\n",
      "sentiment(0-9)                                                    5\n",
      "Name: 323, dtype: object)\n",
      "(324, text              ....energy independence manufacturing resilien...\n",
      "sentiment(0-9)                                                    4\n",
      "Name: 324, dtype: object)\n",
      "(325, text              .@FoxNews  â€œTrump wins major victories in Ch...\n",
      "sentiment(0-9)                                                    7\n",
      "Name: 325, dtype: object)\n"
     ]
    }
   ],
   "source": [
    "# see golden annotations\n",
    "for row in trump_clf_labels.iterrows():\n",
    "    print(row)"
   ]
  },
  {
   "cell_type": "code",
   "execution_count": 101,
   "metadata": {},
   "outputs": [],
   "source": [
    "#need to transform data into a format that Textblob reads\n",
    "import csv\n",
    "\n",
    "train_textlist = []\n",
    "\n",
    "with open(annotation_path+'trump_manuallabeling_2cols.csv', newline='') as csvfile:\n",
    "    spamreader = csv.reader(csvfile, delimiter=',', quotechar='|')\n",
    "    for row in spamreader:\n",
    "\n",
    "        train_textlist.append(tuple(row))\n",
    "        \n",
    "#train_textlist[1:]"
   ]
  },
  {
   "cell_type": "code",
   "execution_count": 102,
   "metadata": {},
   "outputs": [
    {
     "data": {
      "text/plain": [
       "327"
      ]
     },
     "execution_count": 102,
     "metadata": {},
     "output_type": "execute_result"
    }
   ],
   "source": [
    "len(train_textlist)"
   ]
  },
  {
   "cell_type": "code",
   "execution_count": 103,
   "metadata": {},
   "outputs": [],
   "source": [
    "# train set is about two-third of the annotated dataset\n",
    "\n",
    "cl = NaiveBayesClassifier(train_textlist[1:201])"
   ]
  },
  {
   "cell_type": "code",
   "execution_count": 104,
   "metadata": {},
   "outputs": [
    {
     "data": {
      "text/plain": [
       "('....This money will come from the massive Tariffs being paid to the United States for allowing China and others to do business with us. The Farmers have been â€œforgottenâ€\\x9d for many years. Their time is now!',\n",
       " '4')"
      ]
     },
     "execution_count": 104,
     "metadata": {},
     "output_type": "execute_result"
    }
   ],
   "source": [
    "train_textlist[201]"
   ]
  },
  {
   "cell_type": "code",
   "execution_count": 105,
   "metadata": {},
   "outputs": [
    {
     "data": {
      "text/plain": [
       "'3'"
      ]
     },
     "execution_count": 105,
     "metadata": {},
     "output_type": "execute_result"
    }
   ],
   "source": [
    "#after training, try one prediction with the trained classifier\n",
    "cl.classify(train_textlist[201][0])"
   ]
  },
  {
   "cell_type": "code",
   "execution_count": 112,
   "metadata": {},
   "outputs": [
    {
     "name": "stdout",
     "output_type": "stream",
     "text": [
      "sentiment gauge guess:  3\n",
      "actual sentiment manual label: 4\n",
      "-1\n",
      "total_deviation -1\n",
      "sentiment gauge guess:  3\n",
      "actual sentiment manual label: 3\n",
      "0\n",
      "total_deviation -1\n",
      "sentiment gauge guess:  6\n",
      "actual sentiment manual label: 2\n",
      "4\n",
      "total_deviation 3\n",
      "sentiment gauge guess:  6\n",
      "actual sentiment manual label: 5\n",
      "1\n",
      "total_deviation 4\n",
      "sentiment gauge guess:  3\n",
      "actual sentiment manual label: 2\n",
      "1\n",
      "total_deviation 5\n",
      "sentiment gauge guess:  3\n",
      "actual sentiment manual label: 4\n",
      "-1\n",
      "total_deviation 4\n",
      "sentiment gauge guess:  3\n",
      "actual sentiment manual label: 3\n",
      "0\n",
      "total_deviation 4\n",
      "sentiment gauge guess:  3\n",
      "actual sentiment manual label: 2\n",
      "1\n",
      "total_deviation 5\n",
      "sentiment gauge guess:  3\n",
      "actual sentiment manual label: 4\n",
      "-1\n",
      "total_deviation 4\n",
      "sentiment gauge guess:  6\n",
      "actual sentiment manual label: 7\n",
      "-1\n",
      "total_deviation 3\n",
      "sentiment gauge guess:  4\n",
      "actual sentiment manual label: 3\n",
      "1\n",
      "total_deviation 4\n",
      "sentiment gauge guess:  6\n",
      "actual sentiment manual label: 4\n",
      "2\n",
      "total_deviation 6\n",
      "sentiment gauge guess:  6\n",
      "actual sentiment manual label: 8\n",
      "-2\n",
      "total_deviation 4\n",
      "sentiment gauge guess:  6\n",
      "actual sentiment manual label: 7\n",
      "-1\n",
      "total_deviation 3\n",
      "sentiment gauge guess:  3\n",
      "actual sentiment manual label: 3\n",
      "0\n",
      "total_deviation 3\n",
      "sentiment gauge guess:  4\n",
      "actual sentiment manual label: 4\n",
      "0\n",
      "total_deviation 3\n",
      "sentiment gauge guess:  3\n",
      "actual sentiment manual label: 3\n",
      "0\n",
      "total_deviation 3\n",
      "sentiment gauge guess:  3\n",
      "actual sentiment manual label: 4\n",
      "-1\n",
      "total_deviation 2\n",
      "sentiment gauge guess:  3\n",
      "actual sentiment manual label: 2\n",
      "1\n",
      "total_deviation 3\n",
      "sentiment gauge guess:  3\n",
      "actual sentiment manual label: 4\n",
      "-1\n",
      "total_deviation 2\n",
      "sentiment gauge guess:  6\n",
      "actual sentiment manual label: 5\n",
      "1\n",
      "total_deviation 3\n",
      "sentiment gauge guess:  6\n",
      "actual sentiment manual label: 4\n",
      "2\n",
      "total_deviation 5\n",
      "sentiment gauge guess:  3\n",
      "actual sentiment manual label: 2\n",
      "1\n",
      "total_deviation 6\n",
      "sentiment gauge guess:  3\n",
      "actual sentiment manual label: 2\n",
      "1\n",
      "total_deviation 7\n",
      "sentiment gauge guess:  3\n",
      "actual sentiment manual label: 2\n",
      "1\n",
      "total_deviation 8\n",
      "sentiment gauge guess:  6\n",
      "actual sentiment manual label: 3\n",
      "3\n",
      "total_deviation 11\n",
      "sentiment gauge guess:  3\n",
      "actual sentiment manual label: 4\n",
      "-1\n",
      "total_deviation 10\n",
      "sentiment gauge guess:  6\n",
      "actual sentiment manual label: 2\n",
      "4\n",
      "total_deviation 14\n",
      "sentiment gauge guess:  6\n",
      "actual sentiment manual label: 7\n",
      "-1\n",
      "total_deviation 13\n",
      "sentiment gauge guess:  3\n",
      "actual sentiment manual label: 2\n",
      "1\n",
      "total_deviation 14\n",
      "sentiment gauge guess:  6\n",
      "actual sentiment manual label: 6\n",
      "0\n",
      "total_deviation 14\n",
      "sentiment gauge guess:  3\n",
      "actual sentiment manual label: 3\n",
      "0\n",
      "total_deviation 14\n",
      "sentiment gauge guess:  3\n",
      "actual sentiment manual label: 1\n",
      "2\n",
      "total_deviation 16\n",
      "sentiment gauge guess:  3\n",
      "actual sentiment manual label: 3\n",
      "0\n",
      "total_deviation 16\n",
      "sentiment gauge guess:  4\n",
      "actual sentiment manual label: 1\n",
      "3\n",
      "total_deviation 19\n",
      "sentiment gauge guess:  6\n",
      "actual sentiment manual label: 5\n",
      "1\n",
      "total_deviation 20\n",
      "sentiment gauge guess:  3\n",
      "actual sentiment manual label: 8\n",
      "-5\n",
      "total_deviation 15\n",
      "sentiment gauge guess:  6\n",
      "actual sentiment manual label: 8\n",
      "-2\n",
      "total_deviation 13\n",
      "sentiment gauge guess:  3\n",
      "actual sentiment manual label: 4\n",
      "-1\n",
      "total_deviation 12\n",
      "sentiment gauge guess:  3\n",
      "actual sentiment manual label: 3\n",
      "0\n",
      "total_deviation 12\n",
      "sentiment gauge guess:  3\n",
      "actual sentiment manual label: 2\n",
      "1\n",
      "total_deviation 13\n",
      "sentiment gauge guess:  3\n",
      "actual sentiment manual label: 3\n",
      "0\n",
      "total_deviation 13\n",
      "sentiment gauge guess:  6\n",
      "actual sentiment manual label: 3\n",
      "3\n",
      "total_deviation 16\n",
      "sentiment gauge guess:  3\n",
      "actual sentiment manual label: 1\n",
      "2\n",
      "total_deviation 18\n",
      "sentiment gauge guess:  7\n",
      "actual sentiment manual label: 4\n",
      "3\n",
      "total_deviation 21\n",
      "sentiment gauge guess:  3\n",
      "actual sentiment manual label: 3\n",
      "0\n",
      "total_deviation 21\n",
      "sentiment gauge guess:  6\n",
      "actual sentiment manual label: 7\n",
      "-1\n",
      "total_deviation 20\n",
      "sentiment gauge guess:  4\n",
      "actual sentiment manual label: 4\n",
      "0\n",
      "total_deviation 20\n",
      "sentiment gauge guess:  3\n",
      "actual sentiment manual label: 8\n",
      "-5\n",
      "total_deviation 15\n",
      "sentiment gauge guess:  6\n",
      "actual sentiment manual label: 4\n",
      "2\n",
      "total_deviation 17\n",
      "sentiment gauge guess:  6\n",
      "actual sentiment manual label: 4\n",
      "2\n",
      "total_deviation 19\n",
      "sentiment gauge guess:  6\n",
      "actual sentiment manual label: 7\n",
      "-1\n",
      "total_deviation 18\n",
      "sentiment gauge guess:  3\n",
      "actual sentiment manual label: 9\n",
      "-6\n",
      "total_deviation 12\n",
      "sentiment gauge guess:  6\n",
      "actual sentiment manual label: 4\n",
      "2\n",
      "total_deviation 14\n",
      "sentiment gauge guess:  3\n",
      "actual sentiment manual label: 3\n",
      "0\n",
      "total_deviation 14\n",
      "sentiment gauge guess:  6\n",
      "actual sentiment manual label: 2\n",
      "4\n",
      "total_deviation 18\n",
      "sentiment gauge guess:  3\n",
      "actual sentiment manual label: 2\n",
      "1\n",
      "total_deviation 19\n",
      "sentiment gauge guess:  3\n",
      "actual sentiment manual label: 1\n",
      "2\n",
      "total_deviation 21\n",
      "sentiment gauge guess:  3\n",
      "actual sentiment manual label: 1\n",
      "2\n",
      "total_deviation 23\n",
      "sentiment gauge guess:  6\n",
      "actual sentiment manual label: 3\n",
      "3\n",
      "total_deviation 26\n",
      "sentiment gauge guess:  3\n",
      "actual sentiment manual label: 1\n",
      "2\n",
      "total_deviation 28\n",
      "sentiment gauge guess:  3\n",
      "actual sentiment manual label: 1\n",
      "2\n",
      "total_deviation 30\n",
      "sentiment gauge guess:  6\n",
      "actual sentiment manual label: 5\n",
      "1\n",
      "total_deviation 31\n",
      "sentiment gauge guess:  4\n",
      "actual sentiment manual label: 3\n",
      "1\n",
      "total_deviation 32\n",
      "sentiment gauge guess:  6\n",
      "actual sentiment manual label: 4\n",
      "2\n",
      "total_deviation 34\n",
      "sentiment gauge guess:  3\n",
      "actual sentiment manual label: 3\n",
      "0\n",
      "total_deviation 34\n",
      "sentiment gauge guess:  3\n",
      "actual sentiment manual label: 3\n",
      "0\n",
      "total_deviation 34\n",
      "sentiment gauge guess:  3\n",
      "actual sentiment manual label: 6\n",
      "-3\n",
      "total_deviation 31\n",
      "sentiment gauge guess:  2\n",
      "actual sentiment manual label: 4\n",
      "-2\n",
      "total_deviation 29\n",
      "sentiment gauge guess:  6\n",
      "actual sentiment manual label: 3\n",
      "3\n",
      "total_deviation 32\n",
      "sentiment gauge guess:  3\n",
      "actual sentiment manual label: 1\n",
      "2\n",
      "total_deviation 34\n",
      "sentiment gauge guess:  3\n",
      "actual sentiment manual label: 2\n",
      "1\n",
      "total_deviation 35\n",
      "sentiment gauge guess:  4\n",
      "actual sentiment manual label: 3\n",
      "1\n",
      "total_deviation 36\n",
      "sentiment gauge guess:  4\n",
      "actual sentiment manual label: 2\n",
      "2\n",
      "total_deviation 38\n",
      "sentiment gauge guess:  4\n",
      "actual sentiment manual label: 2\n",
      "2\n",
      "total_deviation 40\n",
      "sentiment gauge guess:  6\n",
      "actual sentiment manual label: 6\n",
      "0\n",
      "total_deviation 40\n",
      "sentiment gauge guess:  3\n",
      "actual sentiment manual label: 4\n",
      "-1\n",
      "total_deviation 39\n",
      "sentiment gauge guess:  3\n",
      "actual sentiment manual label: 6\n",
      "-3\n",
      "total_deviation 36\n",
      "sentiment gauge guess:  3\n",
      "actual sentiment manual label: 4\n",
      "-1\n",
      "total_deviation 35\n",
      "sentiment gauge guess:  3\n",
      "actual sentiment manual label: 4\n",
      "-1\n",
      "total_deviation 34\n",
      "sentiment gauge guess:  3\n",
      "actual sentiment manual label: 2\n",
      "1\n",
      "total_deviation 35\n",
      "sentiment gauge guess:  4\n",
      "actual sentiment manual label: 6\n",
      "-2\n",
      "total_deviation 33\n",
      "sentiment gauge guess:  6\n",
      "actual sentiment manual label: 5\n",
      "1\n",
      "total_deviation 34\n",
      "sentiment gauge guess:  4\n",
      "actual sentiment manual label: 5\n",
      "-1\n",
      "total_deviation 33\n",
      "sentiment gauge guess:  3\n",
      "actual sentiment manual label: 8\n",
      "-5\n",
      "total_deviation 28\n",
      "sentiment gauge guess:  3\n",
      "actual sentiment manual label: 3\n",
      "0\n",
      "total_deviation 28\n",
      "sentiment gauge guess:  4\n",
      "actual sentiment manual label: 4\n",
      "0\n",
      "total_deviation 28\n",
      "sentiment gauge guess:  6\n",
      "actual sentiment manual label: 5\n",
      "1\n",
      "total_deviation 29\n",
      "sentiment gauge guess:  3\n",
      "actual sentiment manual label: 3\n",
      "0\n",
      "total_deviation 29\n",
      "sentiment gauge guess:  3\n",
      "actual sentiment manual label: 4\n",
      "-1\n",
      "total_deviation 28\n",
      "sentiment gauge guess:  3\n",
      "actual sentiment manual label: 1\n",
      "2\n",
      "total_deviation 30\n",
      "sentiment gauge guess:  3\n",
      "actual sentiment manual label: 3\n",
      "0\n",
      "total_deviation 30\n",
      "sentiment gauge guess:  6\n",
      "actual sentiment manual label: 6\n",
      "0\n",
      "total_deviation 30\n",
      "sentiment gauge guess:  6\n",
      "actual sentiment manual label: 5\n",
      "1\n",
      "total_deviation 31\n",
      "sentiment gauge guess:  6\n",
      "actual sentiment manual label: 2\n",
      "4\n",
      "total_deviation 35\n",
      "sentiment gauge guess:  3\n",
      "actual sentiment manual label: 2\n",
      "1\n",
      "total_deviation 36\n",
      "sentiment gauge guess:  4\n",
      "actual sentiment manual label: 2\n",
      "2\n",
      "total_deviation 38\n",
      "sentiment gauge guess:  2\n",
      "actual sentiment manual label: 3\n",
      "-1\n",
      "total_deviation 37\n",
      "sentiment gauge guess:  4\n",
      "actual sentiment manual label: 3\n",
      "1\n",
      "total_deviation 38\n",
      "sentiment gauge guess:  6\n",
      "actual sentiment manual label: 4\n",
      "2\n",
      "total_deviation 40\n",
      "sentiment gauge guess:  6\n",
      "actual sentiment manual label: 5\n",
      "1\n",
      "total_deviation 41\n",
      "sentiment gauge guess:  7\n",
      "actual sentiment manual label: 8\n",
      "-1\n",
      "total_deviation 40\n",
      "sentiment gauge guess:  6\n",
      "actual sentiment manual label: 7\n",
      "-1\n",
      "total_deviation 39\n",
      "sentiment gauge guess:  6\n",
      "actual sentiment manual label: 5\n"
     ]
    },
    {
     "name": "stdout",
     "output_type": "stream",
     "text": [
      "1\n",
      "total_deviation 40\n",
      "sentiment gauge guess:  3\n",
      "actual sentiment manual label: 4\n",
      "-1\n",
      "total_deviation 39\n",
      "sentiment gauge guess:  3\n",
      "actual sentiment manual label: 9\n",
      "-6\n",
      "total_deviation 33\n",
      "sentiment gauge guess:  4\n",
      "actual sentiment manual label: 9\n",
      "-5\n",
      "total_deviation 28\n",
      "sentiment gauge guess:  6\n",
      "actual sentiment manual label: 9\n",
      "-3\n",
      "total_deviation 25\n",
      "sentiment gauge guess:  6\n",
      "actual sentiment manual label: 8\n",
      "-2\n",
      "total_deviation 23\n",
      "sentiment gauge guess:  3\n",
      "actual sentiment manual label: 3\n",
      "0\n",
      "total_deviation 23\n",
      "sentiment gauge guess:  4\n",
      "actual sentiment manual label: 4\n",
      "0\n",
      "total_deviation 23\n",
      "sentiment gauge guess:  6\n",
      "actual sentiment manual label: 9\n",
      "-3\n",
      "total_deviation 20\n",
      "sentiment gauge guess:  3\n",
      "actual sentiment manual label: 4\n",
      "-1\n",
      "total_deviation 19\n",
      "sentiment gauge guess:  6\n",
      "actual sentiment manual label: 3\n",
      "3\n",
      "total_deviation 22\n",
      "sentiment gauge guess:  3\n",
      "actual sentiment manual label: 8\n",
      "-5\n",
      "total_deviation 17\n",
      "sentiment gauge guess:  3\n",
      "actual sentiment manual label: 9\n",
      "-6\n",
      "total_deviation 11\n",
      "sentiment gauge guess:  3\n",
      "actual sentiment manual label: 8\n",
      "-5\n",
      "total_deviation 6\n",
      "sentiment gauge guess:  3\n",
      "actual sentiment manual label: 4\n",
      "-1\n",
      "total_deviation 5\n",
      "sentiment gauge guess:  3\n",
      "actual sentiment manual label: 4\n",
      "-1\n",
      "total_deviation 4\n",
      "sentiment gauge guess:  6\n",
      "actual sentiment manual label: 4\n",
      "2\n",
      "total_deviation 6\n",
      "sentiment gauge guess:  6\n",
      "actual sentiment manual label: 8\n",
      "-2\n",
      "total_deviation 4\n",
      "sentiment gauge guess:  4\n",
      "actual sentiment manual label: 4\n",
      "0\n",
      "total_deviation 4\n",
      "sentiment gauge guess:  3\n",
      "actual sentiment manual label: 9\n",
      "-6\n",
      "total_deviation -2\n",
      "sentiment gauge guess:  3\n",
      "actual sentiment manual label: 5\n",
      "-2\n",
      "total_deviation -4\n",
      "sentiment gauge guess:  3\n",
      "actual sentiment manual label: 4\n",
      "-1\n",
      "total_deviation -5\n",
      "sentiment gauge guess:  6\n",
      "actual sentiment manual label: 7\n",
      "-1\n",
      "total_deviation -6\n",
      "avg deviation: -0.047619047619047616\n"
     ]
    }
   ],
   "source": [
    "# check if the predictions are far/close to real annotated sentiment labels\n",
    "from collections import defaultdict\n",
    "deviation_counts = defaultdict(int)\n",
    "\n",
    "total_deviation = 0\n",
    "for tweet in train_textlist[201:]:\n",
    "    print(\"sentiment gauge guess: \",cl.classify(tweet[0]))\n",
    "    print(\"actual sentiment manual label:\", tweet[1])\n",
    "    deviation = int(cl.classify(tweet[0])) - int(tweet[1])\n",
    "    print(deviation)\n",
    "    total_deviation += deviation\n",
    "    print(\"total_deviation\",total_deviation)\n",
    "    deviation_counts[deviation] += 1\n",
    "\n",
    "  \n",
    "print(\"avg deviation:\",total_deviation/len(train_textlist[201:]))\n",
    "    \n",
    "##need  an summary accuracy score here"
   ]
  },
  {
   "cell_type": "code",
   "execution_count": 107,
   "metadata": {},
   "outputs": [
    {
     "name": "stdout",
     "output_type": "stream",
     "text": [
      "avg deviation: -0.047619047619047616\n"
     ]
    }
   ],
   "source": [
    "print(\"avg deviation:\",total_deviation/len(train_textlist[201:]))"
   ]
  },
  {
   "cell_type": "code",
   "execution_count": 113,
   "metadata": {},
   "outputs": [
    {
     "data": {
      "text/plain": [
       "defaultdict(int,\n",
       "            {-1: 26,\n",
       "             0: 24,\n",
       "             4: 4,\n",
       "             1: 25,\n",
       "             2: 19,\n",
       "             -2: 7,\n",
       "             3: 7,\n",
       "             -5: 6,\n",
       "             -6: 4,\n",
       "             -3: 4})"
      ]
     },
     "execution_count": 113,
     "metadata": {},
     "output_type": "execute_result"
    }
   ],
   "source": [
    "deviation_counts"
   ]
  },
  {
   "cell_type": "markdown",
   "metadata": {},
   "source": [
    "Observation: \n",
    "\n",
    "Average deviation at -0.047 is not bad, but in the middle of prediction process, some predictions deviated 3-6 unit on the 0-9 scale. It's harder to evaluate accuracy when sentiment is on a wide ordinal scale."
   ]
  },
  {
   "cell_type": "code",
   "execution_count": 121,
   "metadata": {},
   "outputs": [
    {
     "data": {
      "text/plain": [
       "[(-6, 4),\n",
       " (-5, 6),\n",
       " (-3, 4),\n",
       " (-2, 7),\n",
       " (-1, 26),\n",
       " (0, 24),\n",
       " (1, 25),\n",
       " (2, 19),\n",
       " (3, 7),\n",
       " (4, 4)]"
      ]
     },
     "execution_count": 121,
     "metadata": {},
     "output_type": "execute_result"
    }
   ],
   "source": [
    "deviation_counts_sorted =sorted(deviation_counts.items())\n",
    "deviation_counts_sorted "
   ]
  },
  {
   "cell_type": "code",
   "execution_count": 167,
   "metadata": {},
   "outputs": [],
   "source": [
    "import pandas as pd\n",
    "deviation_df = pd.DataFrame(deviation_counts_sorted,columns=[\"deviation\",\"count\"])#.set_index(\"deviation\")"
   ]
  },
  {
   "cell_type": "code",
   "execution_count": 168,
   "metadata": {},
   "outputs": [
    {
     "data": {
      "text/html": [
       "<div>\n",
       "<style scoped>\n",
       "    .dataframe tbody tr th:only-of-type {\n",
       "        vertical-align: middle;\n",
       "    }\n",
       "\n",
       "    .dataframe tbody tr th {\n",
       "        vertical-align: top;\n",
       "    }\n",
       "\n",
       "    .dataframe thead th {\n",
       "        text-align: right;\n",
       "    }\n",
       "</style>\n",
       "<table border=\"1\" class=\"dataframe\">\n",
       "  <thead>\n",
       "    <tr style=\"text-align: right;\">\n",
       "      <th></th>\n",
       "      <th>deviation</th>\n",
       "      <th>count</th>\n",
       "    </tr>\n",
       "  </thead>\n",
       "  <tbody>\n",
       "    <tr>\n",
       "      <th>0</th>\n",
       "      <td>-6</td>\n",
       "      <td>4</td>\n",
       "    </tr>\n",
       "    <tr>\n",
       "      <th>1</th>\n",
       "      <td>-5</td>\n",
       "      <td>6</td>\n",
       "    </tr>\n",
       "    <tr>\n",
       "      <th>2</th>\n",
       "      <td>-3</td>\n",
       "      <td>4</td>\n",
       "    </tr>\n",
       "    <tr>\n",
       "      <th>3</th>\n",
       "      <td>-2</td>\n",
       "      <td>7</td>\n",
       "    </tr>\n",
       "    <tr>\n",
       "      <th>4</th>\n",
       "      <td>-1</td>\n",
       "      <td>26</td>\n",
       "    </tr>\n",
       "    <tr>\n",
       "      <th>5</th>\n",
       "      <td>0</td>\n",
       "      <td>24</td>\n",
       "    </tr>\n",
       "    <tr>\n",
       "      <th>6</th>\n",
       "      <td>1</td>\n",
       "      <td>25</td>\n",
       "    </tr>\n",
       "    <tr>\n",
       "      <th>7</th>\n",
       "      <td>2</td>\n",
       "      <td>19</td>\n",
       "    </tr>\n",
       "    <tr>\n",
       "      <th>8</th>\n",
       "      <td>3</td>\n",
       "      <td>7</td>\n",
       "    </tr>\n",
       "    <tr>\n",
       "      <th>9</th>\n",
       "      <td>4</td>\n",
       "      <td>4</td>\n",
       "    </tr>\n",
       "  </tbody>\n",
       "</table>\n",
       "</div>"
      ],
      "text/plain": [
       "   deviation  count\n",
       "0         -6      4\n",
       "1         -5      6\n",
       "2         -3      4\n",
       "3         -2      7\n",
       "4         -1     26\n",
       "5          0     24\n",
       "6          1     25\n",
       "7          2     19\n",
       "8          3      7\n",
       "9          4      4"
      ]
     },
     "execution_count": 168,
     "metadata": {},
     "output_type": "execute_result"
    }
   ],
   "source": [
    "deviation_df"
   ]
  },
  {
   "cell_type": "code",
   "execution_count": 123,
   "metadata": {},
   "outputs": [],
   "source": [
    "import altair as alt"
   ]
  },
  {
   "cell_type": "code",
   "execution_count": 125,
   "metadata": {},
   "outputs": [
    {
     "data": {
      "text/plain": [
       "RendererRegistry.enable('notebook')"
      ]
     },
     "execution_count": 125,
     "metadata": {},
     "output_type": "execute_result"
    }
   ],
   "source": [
    "alt.renderers.enable(\"notebook\")"
   ]
  },
  {
   "cell_type": "code",
   "execution_count": 169,
   "metadata": {},
   "outputs": [
    {
     "data": {
      "application/javascript": [
       "const spec = {\"config\": {\"view\": {\"width\": 400, \"height\": 300}, \"mark\": {\"tooltip\": null}}, \"data\": {\"name\": \"data-4cecd13a3c09808fd111c7c5500e0288\"}, \"mark\": \"bar\", \"encoding\": {\"x\": {\"type\": \"quantitative\", \"field\": \"deviation\"}, \"y\": {\"type\": \"quantitative\", \"field\": \"count\"}}, \"$schema\": \"https://vega.github.io/schema/vega-lite/v3.4.0.json\", \"datasets\": {\"data-4cecd13a3c09808fd111c7c5500e0288\": [{\"deviation\": -6, \"count\": 4}, {\"deviation\": -5, \"count\": 6}, {\"deviation\": -3, \"count\": 4}, {\"deviation\": -2, \"count\": 7}, {\"deviation\": -1, \"count\": 26}, {\"deviation\": 0, \"count\": 24}, {\"deviation\": 1, \"count\": 25}, {\"deviation\": 2, \"count\": 19}, {\"deviation\": 3, \"count\": 7}, {\"deviation\": 4, \"count\": 4}]}};\n",
       "const opt = {};\n",
       "const type = \"vega-lite\";\n",
       "const id = \"11b95a8e-0896-4a14-b415-0c7fead037ec\";\n",
       "\n",
       "const output_area = this;\n",
       "\n",
       "require([\"nbextensions/jupyter-vega/index\"], function(vega) {\n",
       "  const target = document.createElement(\"div\");\n",
       "  target.id = id;\n",
       "  target.className = \"vega-embed\";\n",
       "\n",
       "  const style = document.createElement(\"style\");\n",
       "  style.textContent = [\n",
       "    \".vega-embed .error p {\",\n",
       "    \"  color: firebrick;\",\n",
       "    \"  font-size: 14px;\",\n",
       "    \"}\",\n",
       "  ].join(\"\\\\n\");\n",
       "\n",
       "  // element is a jQuery wrapped DOM element inside the output area\n",
       "  // see http://ipython.readthedocs.io/en/stable/api/generated/\\\n",
       "  // IPython.display.html#IPython.display.Javascript.__init__\n",
       "  element[0].appendChild(target);\n",
       "  element[0].appendChild(style);\n",
       "\n",
       "  vega.render(\"#\" + id, spec, type, opt, output_area);\n",
       "}, function (err) {\n",
       "  if (err.requireType !== \"scripterror\") {\n",
       "    throw(err);\n",
       "  }\n",
       "});\n"
      ],
      "text/plain": [
       "<vega.vegalite.VegaLite at 0x1c297f9dc50>"
      ]
     },
     "metadata": {
      "jupyter-vega": "#11b95a8e-0896-4a14-b415-0c7fead037ec"
     },
     "output_type": "display_data"
    },
    {
     "data": {
      "text/plain": []
     },
     "execution_count": 169,
     "metadata": {},
     "output_type": "execute_result"
    },
    {
     "data": {
      "image/png": "[encoded data removed]"
     },
     "metadata": {
      "jupyter-vega": "#11b95a8e-0896-4a14-b415-0c7fead037ec"
     },
     "output_type": "display_data"
    }
   ],
   "source": [
    "alt.Chart(deviation_df).mark_bar().encode(\n",
    "x= 'deviation',\n",
    "y= 'count')"
   ]
  },
  {
   "cell_type": "code",
   "execution_count": 175,
   "metadata": {},
   "outputs": [
    {
     "data": {
      "text/plain": [
       "0.5952380952380952"
      ]
     },
     "execution_count": 175,
     "metadata": {},
     "output_type": "execute_result"
    }
   ],
   "source": [
    "total_pred_no = deviation_df['count'].sum() #126\n",
    "accurate_no = deviation_df.query('deviation ==-1 |  deviation == 1| deviation ==0')['count'].sum() #75\n",
    "#if we consider predictions with deviation between [-1, 1] is accurate, accuracy rate is then:\n",
    "accurate_no/total_pred_no"
   ]
  },
  {
   "cell_type": "code",
   "execution_count": 178,
   "metadata": {},
   "outputs": [
    {
     "data": {
      "text/plain": [
       "0.8015873015873016"
      ]
     },
     "execution_count": 178,
     "metadata": {},
     "output_type": "execute_result"
    }
   ],
   "source": [
    "# if we consider deviations between [-2,2] is still accurate, soft accuracy rate is then:\n",
    "accurate_no = deviation_df.query('deviation ==-2 | deviation ==-1 | deviation ==2| deviation == 1| deviation ==0')['count'].sum() #101\n",
    "accurate_no/total_pred_no"
   ]
  }
 ],
 "metadata": {
  "kernelspec": {
   "display_name": "Python 3",
   "language": "python",
   "name": "python3"
  },
  "language_info": {
   "codemirror_mode": {
    "name": "ipython",
    "version": 3
   },
   "file_extension": ".py",
   "mimetype": "text/x-python",
   "name": "python",
   "nbconvert_exporter": "python",
   "pygments_lexer": "ipython3",
   "version": "3.7.3"
  }
 },
 "nbformat": 4,
 "nbformat_minor": 2
}
